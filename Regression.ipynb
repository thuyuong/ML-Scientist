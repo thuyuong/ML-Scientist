{
 "cells": [
  {
   "cell_type": "markdown",
   "metadata": {},
   "source": [
    "## Khởi tạo Spark"
   ]
  },
  {
   "cell_type": "code",
   "execution_count": 1,
   "metadata": {},
   "outputs": [],
   "source": [
    "import findspark\n",
    "findspark.init()\n",
    "\n",
    "import pyspark\n",
    "findspark.find()\n",
    "\n",
    "from pyspark.sql import SparkSession\n",
    "from pyspark.sql.functions import count\n",
    "\n",
    "spark = (SparkSession\n",
    "         .builder\n",
    "         .appName(\"Linear Regression\")\n",
    "         .getOrCreate())"
   ]
  },
  {
   "cell_type": "markdown",
   "metadata": {},
   "source": [
    "## Đọc và load tập dữ liệu Boston housing"
   ]
  },
  {
   "cell_type": "code",
   "execution_count": 2,
   "metadata": {},
   "outputs": [
    {
     "name": "stdout",
     "output_type": "stream",
     "text": [
      "+-------+----+-----+----+-----+-----+-----+------+---+---+-------+------+-----+----+\n",
      "|   crim|  zn|indus|chas|  nox|   rm|  age|   dis|rad|tax|ptratio|     b|lstat|medv|\n",
      "+-------+----+-----+----+-----+-----+-----+------+---+---+-------+------+-----+----+\n",
      "|0.00632|18.0| 2.31|   0|0.538|6.575| 65.2|  4.09|  1|296|   15.3| 396.9| 4.98|24.0|\n",
      "|0.02731| 0.0| 7.07|   0|0.469|6.421| 78.9|4.9671|  2|242|   17.8| 396.9| 9.14|21.6|\n",
      "|0.02729| 0.0| 7.07|   0|0.469|7.185| 61.1|4.9671|  2|242|   17.8|392.83| 4.03|34.7|\n",
      "|0.03237| 0.0| 2.18|   0|0.458|6.998| 45.8|6.0622|  3|222|   18.7|394.63| 2.94|33.4|\n",
      "|0.06905| 0.0| 2.18|   0|0.458|7.147| 54.2|6.0622|  3|222|   18.7| 396.9| 5.33|36.2|\n",
      "|0.02985| 0.0| 2.18|   0|0.458| 6.43| 58.7|6.0622|  3|222|   18.7|394.12| 5.21|28.7|\n",
      "|0.08829|12.5| 7.87|   0|0.524|6.012| 66.6|5.5605|  5|311|   15.2| 395.6|12.43|22.9|\n",
      "|0.14455|12.5| 7.87|   0|0.524|6.172| 96.1|5.9505|  5|311|   15.2| 396.9|19.15|27.1|\n",
      "|0.21124|12.5| 7.87|   0|0.524|5.631|100.0|6.0821|  5|311|   15.2|386.63|29.93|16.5|\n",
      "|0.17004|12.5| 7.87|   0|0.524|6.004| 85.9|6.5921|  5|311|   15.2|386.71| 17.1|18.9|\n",
      "|0.22489|12.5| 7.87|   0|0.524|6.377| 94.3|6.3467|  5|311|   15.2|392.52|20.45|15.0|\n",
      "|0.11747|12.5| 7.87|   0|0.524|6.009| 82.9|6.2267|  5|311|   15.2| 396.9|13.27|18.9|\n",
      "|0.09378|12.5| 7.87|   0|0.524|5.889| 39.0|5.4509|  5|311|   15.2| 390.5|15.71|21.7|\n",
      "|0.62976| 0.0| 8.14|   0|0.538|5.949| 61.8|4.7075|  4|307|   21.0| 396.9| 8.26|20.4|\n",
      "|0.63796| 0.0| 8.14|   0|0.538|6.096| 84.5|4.4619|  4|307|   21.0|380.02|10.26|18.2|\n",
      "|0.62739| 0.0| 8.14|   0|0.538|5.834| 56.5|4.4986|  4|307|   21.0|395.62| 8.47|19.9|\n",
      "|1.05393| 0.0| 8.14|   0|0.538|5.935| 29.3|4.4986|  4|307|   21.0|386.85| 6.58|23.1|\n",
      "| 0.7842| 0.0| 8.14|   0|0.538| 5.99| 81.7|4.2579|  4|307|   21.0|386.75|14.67|17.5|\n",
      "|0.80271| 0.0| 8.14|   0|0.538|5.456| 36.6|3.7965|  4|307|   21.0|288.99|11.69|20.2|\n",
      "| 0.7258| 0.0| 8.14|   0|0.538|5.727| 69.5|3.7965|  4|307|   21.0|390.95|11.28|18.2|\n",
      "+-------+----+-----+----+-----+-----+-----+------+---+---+-------+------+-----+----+\n",
      "only showing top 20 rows\n",
      "\n"
     ]
    }
   ],
   "source": [
    "bostonDF = (spark.read\n",
    "            .option(\"HEADER\", True)\n",
    "            .option(\"inferSchema\", True)\n",
    "            .csv(\"../Downloads/BostonHousing.csv\")\n",
    "           )\n",
    "\n",
    "bostonDF.show()"
   ]
  },
  {
   "cell_type": "markdown",
   "metadata": {},
   "source": [
    "## Tập dữ liệu Boston housing\n",
    "\n",
    "`crim`: per capita crime rate by town.\n",
    "\n",
    "`zn`: proportion of residential land zoned for lots over 25,000 sq.ft.\n",
    "\n",
    "`indus`: proportion of non-retail business acres per town.\n",
    "\n",
    "`chas`: Charles River dummy variable (= 1 if tract bounds river; 0 otherwise).\n",
    "\n",
    "`nox`: nitrogen oxides concentration (parts per 10 million).\n",
    "\n",
    "`rm`: average number of rooms per dwelling.\n",
    "\n",
    "`age`: proportion of owner-occupied units built prior to 1940.\n",
    "\n",
    "`dis`: weighted mean of distances to five Boston employment centres.\n",
    "\n",
    "`rad`: index of accessibility to radial highways.\n",
    "\n",
    "`tax`: full-value property-tax rate per 10,000 dollars.\n",
    "\n",
    "`ptratio`: pupil-teacher ratio by town.\n",
    "\n",
    "`black`: $1000(Bk - 0.63)^2$ where $Bk$ is the proportion of blacks by town.\n",
    "\n",
    "`lstat`: lower status of the population (percent).\n",
    "\n",
    "`medv`: median value of owner-occupied homes in 1000 dollars."
   ]
  },
  {
   "cell_type": "markdown",
   "metadata": {},
   "source": [
    "Spark khác với nhiều machine learning framework khác ở chỗ ta cần huấn luyện mô hình của mình trên một cột duy nhất có chứa một vectơ gồm tất cả các feature (attribute) mà ta quan tâm. Ta sẽ chuẩn bị dữ liệu bằng cách tạo một cột có tên `features` gồm các thuộc tính `rm` (average number of rooms), `crim` (crime rate),  và `lstat` (lower status of the population).\n",
    "\n",
    "Thêm cột `features` vừa tạo vào data frame sử dụng `VectorAssembler`:"
   ]
  },
  {
   "cell_type": "code",
   "execution_count": 3,
   "metadata": {},
   "outputs": [
    {
     "name": "stdout",
     "output_type": "stream",
     "text": [
      "+-------+----+-----+----+-----+-----+-----+------+---+---+-------+------+-----+----+--------------------+\n",
      "|   crim|  zn|indus|chas|  nox|   rm|  age|   dis|rad|tax|ptratio|     b|lstat|medv|            features|\n",
      "+-------+----+-----+----+-----+-----+-----+------+---+---+-------+------+-----+----+--------------------+\n",
      "|0.00632|18.0| 2.31|   0|0.538|6.575| 65.2|  4.09|  1|296|   15.3| 396.9| 4.98|24.0|[6.575,0.00632,4.98]|\n",
      "|0.02731| 0.0| 7.07|   0|0.469|6.421| 78.9|4.9671|  2|242|   17.8| 396.9| 9.14|21.6|[6.421,0.02731,9.14]|\n",
      "|0.02729| 0.0| 7.07|   0|0.469|7.185| 61.1|4.9671|  2|242|   17.8|392.83| 4.03|34.7|[7.185,0.02729,4.03]|\n",
      "|0.03237| 0.0| 2.18|   0|0.458|6.998| 45.8|6.0622|  3|222|   18.7|394.63| 2.94|33.4|[6.998,0.03237,2.94]|\n",
      "|0.06905| 0.0| 2.18|   0|0.458|7.147| 54.2|6.0622|  3|222|   18.7| 396.9| 5.33|36.2|[7.147,0.06905,5.33]|\n",
      "|0.02985| 0.0| 2.18|   0|0.458| 6.43| 58.7|6.0622|  3|222|   18.7|394.12| 5.21|28.7| [6.43,0.02985,5.21]|\n",
      "|0.08829|12.5| 7.87|   0|0.524|6.012| 66.6|5.5605|  5|311|   15.2| 395.6|12.43|22.9|[6.012,0.08829,12...|\n",
      "|0.14455|12.5| 7.87|   0|0.524|6.172| 96.1|5.9505|  5|311|   15.2| 396.9|19.15|27.1|[6.172,0.14455,19...|\n",
      "|0.21124|12.5| 7.87|   0|0.524|5.631|100.0|6.0821|  5|311|   15.2|386.63|29.93|16.5|[5.631,0.21124,29...|\n",
      "|0.17004|12.5| 7.87|   0|0.524|6.004| 85.9|6.5921|  5|311|   15.2|386.71| 17.1|18.9|[6.004,0.17004,17.1]|\n",
      "|0.22489|12.5| 7.87|   0|0.524|6.377| 94.3|6.3467|  5|311|   15.2|392.52|20.45|15.0|[6.377,0.22489,20...|\n",
      "|0.11747|12.5| 7.87|   0|0.524|6.009| 82.9|6.2267|  5|311|   15.2| 396.9|13.27|18.9|[6.009,0.11747,13...|\n",
      "|0.09378|12.5| 7.87|   0|0.524|5.889| 39.0|5.4509|  5|311|   15.2| 390.5|15.71|21.7|[5.889,0.09378,15...|\n",
      "|0.62976| 0.0| 8.14|   0|0.538|5.949| 61.8|4.7075|  4|307|   21.0| 396.9| 8.26|20.4|[5.949,0.62976,8.26]|\n",
      "|0.63796| 0.0| 8.14|   0|0.538|6.096| 84.5|4.4619|  4|307|   21.0|380.02|10.26|18.2|[6.096,0.63796,10...|\n",
      "|0.62739| 0.0| 8.14|   0|0.538|5.834| 56.5|4.4986|  4|307|   21.0|395.62| 8.47|19.9|[5.834,0.62739,8.47]|\n",
      "|1.05393| 0.0| 8.14|   0|0.538|5.935| 29.3|4.4986|  4|307|   21.0|386.85| 6.58|23.1|[5.935,1.05393,6.58]|\n",
      "| 0.7842| 0.0| 8.14|   0|0.538| 5.99| 81.7|4.2579|  4|307|   21.0|386.75|14.67|17.5| [5.99,0.7842,14.67]|\n",
      "|0.80271| 0.0| 8.14|   0|0.538|5.456| 36.6|3.7965|  4|307|   21.0|288.99|11.69|20.2|[5.456,0.80271,11...|\n",
      "| 0.7258| 0.0| 8.14|   0|0.538|5.727| 69.5|3.7965|  4|307|   21.0|390.95|11.28|18.2|[5.727,0.7258,11.28]|\n",
      "+-------+----+-----+----+-----+-----+-----+------+---+---+-------+------+-----+----+--------------------+\n",
      "only showing top 20 rows\n",
      "\n"
     ]
    }
   ],
   "source": [
    "from pyspark.ml.feature import VectorAssembler\n",
    "\n",
    "featureCols = [\"rm\", \"crim\", \"lstat\"]\n",
    "assembler = VectorAssembler(inputCols=featureCols, outputCol=\"features\")\n",
    "bostonFeaturizedDF = assembler.transform(bostonDF)\n",
    "\n",
    "bostonFeaturizedDF.show()"
   ]
  },
  {
   "cell_type": "markdown",
   "metadata": {},
   "source": [
    "Import thư viện linear regression và thiết lập output là thuộc tính `medv`, input là `features`. Tham khảo thêm về các tham số của thư viện LinearRegression ở [đây](http://spark.apache.org/docs/latest/api/python/pyspark.ml.html?highlight=vectorassembler#pyspark.ml.regression.LinearRegression)."
   ]
  },
  {
   "cell_type": "code",
   "execution_count": 4,
   "metadata": {},
   "outputs": [],
   "source": [
    "from pyspark.ml.regression import LinearRegression\n",
    "\n",
    "lr = LinearRegression(labelCol=\"medv\", featuresCol=\"features\")"
   ]
  },
  {
   "cell_type": "markdown",
   "metadata": {},
   "source": [
    "Fit mô hình với data"
   ]
  },
  {
   "cell_type": "code",
   "execution_count": 5,
   "metadata": {},
   "outputs": [],
   "source": [
    "lrModel = lr.fit(bostonFeaturizedDF)"
   ]
  },
  {
   "cell_type": "markdown",
   "metadata": {},
   "source": [
    "Xem các tham số của mô hình sau khi đã fit với data"
   ]
  },
  {
   "cell_type": "code",
   "execution_count": 6,
   "metadata": {},
   "outputs": [
    {
     "name": "stdout",
     "output_type": "stream",
     "text": [
      "Coefficients: 5.2, -0.1, -0.6\n",
      "Intercept: -2.6\n"
     ]
    }
   ],
   "source": [
    "print(\"Coefficients: {0:.1f}, {1:.1f}, {2:.1f}\".format(*lrModel.coefficients))\n",
    "print(\"Intercept: {0:.1f}\".format(lrModel.intercept))"
   ]
  },
  {
   "cell_type": "markdown",
   "metadata": {},
   "source": [
    "**Ý nghĩa**: $predicted\\_medv = (5.2 * rm) - (0.1 * crim) - (0.6 * lstat) - 2.6$\n",
    "\n",
    "hay $predicted\\_home\\_value = (5.2 * number\\_of\\_rooms) - (0.1 * crime\\_rate) - (0.6 * lower\\_class) - 2.6$"
   ]
  },
  {
   "cell_type": "markdown",
   "metadata": {},
   "source": [
    "Xem $R^2$ score"
   ]
  },
  {
   "cell_type": "code",
   "execution_count": 7,
   "metadata": {},
   "outputs": [
    {
     "name": "stdout",
     "output_type": "stream",
     "text": [
      "R^2 score: 0.6458520515781128\n"
     ]
    }
   ],
   "source": [
    "print(\"R^2 score: {}\".format(lrModel.summary.r2))"
   ]
  },
  {
   "cell_type": "markdown",
   "metadata": {},
   "source": [
    "**Ý nghĩa**: mô hình có thể giải thích khoảng $0.65 \\%$ sự biến thiên (variance) trong dữ liệu. "
   ]
  },
  {
   "cell_type": "markdown",
   "metadata": {},
   "source": [
    "Xem một số chỉ số khác"
   ]
  },
  {
   "cell_type": "code",
   "execution_count": 8,
   "metadata": {},
   "outputs": [
    {
     "name": "stdout",
     "output_type": "stream",
     "text": [
      "RMSE score: 5.4678160740273904\n",
      "Coefficient Standard Errors: [0.4420347151349426, 0.032022216026543225, 0.047669471406803186, 3.1660227928472815]\n",
      "T Values: [11.80213848770088, -3.214670921988156, -12.135352093519293, -0.809296451597215]\n",
      "P Values: [0.0, 0.0013900026454840564, 0.0, 0.41872805807610836]\n"
     ]
    }
   ],
   "source": [
    "lrModelSummary = lrModel.summary\n",
    "\n",
    "print(\"RMSE score: {}\".format(lrModelSummary.rootMeanSquaredError))\n",
    "print(\"Coefficient Standard Errors: \" + str(lrModelSummary.coefficientStandardErrors))\n",
    "print(\"T Values: \" + str(lrModelSummary.tValues))\n",
    "print(\"P Values: \" + str(lrModelSummary.pValues))"
   ]
  },
  {
   "cell_type": "markdown",
   "metadata": {},
   "source": [
    "Các chỉ số `Standard Errors`, `t-values`, `p-values` liên quan đến ý nghĩa thống kê (statistically significant) của các hệ số (tham số) của mô hình. Xem thêm về diễn giải của các chỉ số này ở [đây](https://dss.princeton.edu/online_help/analysis/interpreting_regression.htm) hoặc [đây](https://boostedml.com/2019/06/linear-regression-in-r-interpreting-summarylm.html)."
   ]
  },
  {
   "cell_type": "markdown",
   "metadata": {},
   "source": [
    "Chọn ra 10 dòng dữ liệu đầu tiên (xem như nó là dữ liệu mới). Ta sẽ xem dự đoán của mô hình trên 10 dòng dữ liệu này và cho sánh nó với giá trị thực tế."
   ]
  },
  {
   "cell_type": "code",
   "execution_count": 9,
   "metadata": {
    "scrolled": true
   },
   "outputs": [
    {
     "name": "stdout",
     "output_type": "stream",
     "text": [
      "+--------------------+----+\n",
      "|            features|medv|\n",
      "+--------------------+----+\n",
      "|[6.575,0.00632,4.98]|24.0|\n",
      "|[6.421,0.02731,9.14]|21.6|\n",
      "|[7.185,0.02729,4.03]|34.7|\n",
      "|[6.998,0.03237,2.94]|33.4|\n",
      "|[7.147,0.06905,5.33]|36.2|\n",
      "| [6.43,0.02985,5.21]|28.7|\n",
      "|[6.012,0.08829,12...|22.9|\n",
      "|[6.172,0.14455,19...|27.1|\n",
      "|[5.631,0.21124,29...|16.5|\n",
      "|[6.004,0.17004,17.1]|18.9|\n",
      "+--------------------+----+\n",
      "\n"
     ]
    }
   ],
   "source": [
    "subsetDF = (bostonFeaturizedDF\n",
    "            .limit(10)\n",
    "            .select(\"features\", \"medv\")\n",
    "           )\n",
    "\n",
    "subsetDF.show()"
   ]
  },
  {
   "cell_type": "markdown",
   "metadata": {},
   "source": [
    "Sử dụng phương thức `transform` trên mô hình được huấn luyện để xem dự đoán của nó.\n",
    "\n",
    "`lrModel` là một estimator, ta có thể biến đổi dữ liệu bằng cách sử dụng phương thức `.transform()` của nó."
   ]
  },
  {
   "cell_type": "code",
   "execution_count": 10,
   "metadata": {},
   "outputs": [
    {
     "name": "stdout",
     "output_type": "stream",
     "text": [
      "+--------------------+----+------------------+\n",
      "|            features|medv|        prediction|\n",
      "+--------------------+----+------------------+\n",
      "|[6.575,0.00632,4.98]|24.0|28.857717647784423|\n",
      "|[6.421,0.02731,9.14]|21.6|25.645644850540144|\n",
      "|[7.185,0.02729,4.03]|34.7| 32.58746300992212|\n",
      "|[6.998,0.03237,2.94]|33.4| 32.24191904275643|\n",
      "|[7.147,0.06905,5.33]|36.2| 31.63288834584224|\n",
      "| [6.43,0.02985,5.21]|28.7|  27.9657852461671|\n",
      "|[6.012,0.08829,12...|22.9| 21.60241460459668|\n",
      "|[6.172,0.14455,19...|27.1|18.543911230275796|\n",
      "|[5.631,0.21124,29...|16.5| 9.478596352794202|\n",
      "|[6.004,0.17004,17.1]|18.9| 18.85073477002384|\n",
      "+--------------------+----+------------------+\n",
      "\n"
     ]
    }
   ],
   "source": [
    "predictionDF = lrModel.transform(subsetDF)\n",
    "\n",
    "predictionDF.show()"
   ]
  },
  {
   "cell_type": "markdown",
   "metadata": {},
   "source": [
    "Bây giờ, ta thử dự đoán giá nhà cho một điểm dữ liệu mới của một ngôi nhà 6 phòng ngủ (`rm = 6`), với tỷ lệ tội phạm là 3.6 (`crim = 3.6`), và tầng lớp có thu nhập thấp hơn trung bình là 12% (`lstat = 12`). Theo công thức ở trên, mô hình sẽ dự đoán giá nhà khoảng 21."
   ]
  },
  {
   "cell_type": "code",
   "execution_count": 11,
   "metadata": {},
   "outputs": [
    {
     "name": "stdout",
     "output_type": "stream",
     "text": [
      "+--------------+------------------+\n",
      "|      features|        prediction|\n",
      "+--------------+------------------+\n",
      "|[6.0,3.6,12.0]|21.427061506649363|\n",
      "+--------------+------------------+\n",
      "\n"
     ]
    }
   ],
   "source": [
    "from pyspark.ml.linalg import Vectors\n",
    "\n",
    "data = [(Vectors.dense([6., 3.6, 12.]), )]              # Tạo new data point\n",
    "predictDF = spark.createDataFrame(data, [\"features\"])\n",
    "\n",
    "lrModel.transform(predictDF).show()"
   ]
  },
  {
   "cell_type": "markdown",
   "metadata": {},
   "source": [
    "## **Câu hỏi 1**: Huấn luyện mô hình và dùng nó để dự đoán cho dữ liệu mới\n",
    "\n",
    "a. Tạo một mô hình linear regression mới với input là các biến `indus`, `age`, `dis`, và output là biến `medv`."
   ]
  },
  {
   "cell_type": "markdown",
   "metadata": {},
   "source": [
    "i. Tạo biến `newFeatures` cho huấn luyện mô hình"
   ]
  },
  {
   "cell_type": "code",
   "execution_count": 12,
   "metadata": {},
   "outputs": [
    {
     "name": "stdout",
     "output_type": "stream",
     "text": [
      "+-------+----+-----+----+-----+-----+-----+------+---+---+-------+------+-----+----+-------------------+\n",
      "|   crim|  zn|indus|chas|  nox|   rm|  age|   dis|rad|tax|ptratio|     b|lstat|medv|           features|\n",
      "+-------+----+-----+----+-----+-----+-----+------+---+---+-------+------+-----+----+-------------------+\n",
      "|0.00632|18.0| 2.31|   0|0.538|6.575| 65.2|  4.09|  1|296|   15.3| 396.9| 4.98|24.0|   [2.31,65.2,4.09]|\n",
      "|0.02731| 0.0| 7.07|   0|0.469|6.421| 78.9|4.9671|  2|242|   17.8| 396.9| 9.14|21.6| [7.07,78.9,4.9671]|\n",
      "|0.02729| 0.0| 7.07|   0|0.469|7.185| 61.1|4.9671|  2|242|   17.8|392.83| 4.03|34.7| [7.07,61.1,4.9671]|\n",
      "|0.03237| 0.0| 2.18|   0|0.458|6.998| 45.8|6.0622|  3|222|   18.7|394.63| 2.94|33.4| [2.18,45.8,6.0622]|\n",
      "|0.06905| 0.0| 2.18|   0|0.458|7.147| 54.2|6.0622|  3|222|   18.7| 396.9| 5.33|36.2| [2.18,54.2,6.0622]|\n",
      "|0.02985| 0.0| 2.18|   0|0.458| 6.43| 58.7|6.0622|  3|222|   18.7|394.12| 5.21|28.7| [2.18,58.7,6.0622]|\n",
      "|0.08829|12.5| 7.87|   0|0.524|6.012| 66.6|5.5605|  5|311|   15.2| 395.6|12.43|22.9| [7.87,66.6,5.5605]|\n",
      "|0.14455|12.5| 7.87|   0|0.524|6.172| 96.1|5.9505|  5|311|   15.2| 396.9|19.15|27.1| [7.87,96.1,5.9505]|\n",
      "|0.21124|12.5| 7.87|   0|0.524|5.631|100.0|6.0821|  5|311|   15.2|386.63|29.93|16.5|[7.87,100.0,6.0821]|\n",
      "|0.17004|12.5| 7.87|   0|0.524|6.004| 85.9|6.5921|  5|311|   15.2|386.71| 17.1|18.9| [7.87,85.9,6.5921]|\n",
      "|0.22489|12.5| 7.87|   0|0.524|6.377| 94.3|6.3467|  5|311|   15.2|392.52|20.45|15.0| [7.87,94.3,6.3467]|\n",
      "|0.11747|12.5| 7.87|   0|0.524|6.009| 82.9|6.2267|  5|311|   15.2| 396.9|13.27|18.9| [7.87,82.9,6.2267]|\n",
      "|0.09378|12.5| 7.87|   0|0.524|5.889| 39.0|5.4509|  5|311|   15.2| 390.5|15.71|21.7| [7.87,39.0,5.4509]|\n",
      "|0.62976| 0.0| 8.14|   0|0.538|5.949| 61.8|4.7075|  4|307|   21.0| 396.9| 8.26|20.4| [8.14,61.8,4.7075]|\n",
      "|0.63796| 0.0| 8.14|   0|0.538|6.096| 84.5|4.4619|  4|307|   21.0|380.02|10.26|18.2| [8.14,84.5,4.4619]|\n",
      "|0.62739| 0.0| 8.14|   0|0.538|5.834| 56.5|4.4986|  4|307|   21.0|395.62| 8.47|19.9| [8.14,56.5,4.4986]|\n",
      "|1.05393| 0.0| 8.14|   0|0.538|5.935| 29.3|4.4986|  4|307|   21.0|386.85| 6.58|23.1| [8.14,29.3,4.4986]|\n",
      "| 0.7842| 0.0| 8.14|   0|0.538| 5.99| 81.7|4.2579|  4|307|   21.0|386.75|14.67|17.5| [8.14,81.7,4.2579]|\n",
      "|0.80271| 0.0| 8.14|   0|0.538|5.456| 36.6|3.7965|  4|307|   21.0|288.99|11.69|20.2| [8.14,36.6,3.7965]|\n",
      "| 0.7258| 0.0| 8.14|   0|0.538|5.727| 69.5|3.7965|  4|307|   21.0|390.95|11.28|18.2| [8.14,69.5,3.7965]|\n",
      "+-------+----+-----+----+-----+-----+-----+------+---+---+-------+------+-----+----+-------------------+\n",
      "only showing top 20 rows\n",
      "\n"
     ]
    }
   ],
   "source": [
    "newFeatures = [\"indus\", \"age\", \"dis\"]\n",
    "assembler = VectorAssembler(inputCols=newFeatures, outputCol=\"features\")\n",
    "bostonFeaturizedDF = assembler.transform(bostonDF)\n",
    "\n",
    "bostonFeaturizedDF.show()"
   ]
  },
  {
   "cell_type": "markdown",
   "metadata": {},
   "source": [
    "ii. Huấn luyện mô hình"
   ]
  },
  {
   "cell_type": "code",
   "execution_count": 13,
   "metadata": {},
   "outputs": [],
   "source": [
    "from pyspark.ml.regression import LinearRegression\n",
    "lr = LinearRegression(labelCol=\"medv\", featuresCol=\"features\")\n",
    "\n",
    "lrModel = lr.fit(bostonFeaturizedDF)"
   ]
  },
  {
   "cell_type": "markdown",
   "metadata": {},
   "source": [
    "iii. In kết quả của mô hình (các hệ số và $R^2$ score )"
   ]
  },
  {
   "cell_type": "code",
   "execution_count": 14,
   "metadata": {},
   "outputs": [
    {
     "name": "stdout",
     "output_type": "stream",
     "text": [
      "R^2 score: 0.28545147539354343\n"
     ]
    }
   ],
   "source": [
    "print(\"R^2 score: {}\".format(lrModel.summary.r2))"
   ]
  },
  {
   "cell_type": "markdown",
   "metadata": {},
   "source": [
    "iv. Diễn giải các hệ số (`Coefficients`, `Intercept`), $R^2$ `score`, `RMSE score`, các `Standard Errors`, `t-values`, `p-values` của mô hình."
   ]
  },
  {
   "cell_type": "code",
   "execution_count": 15,
   "metadata": {},
   "outputs": [
    {
     "name": "stdout",
     "output_type": "stream",
     "text": [
      "Coefficients: -0.7, -0.1, -1.5\n",
      "Intercept: 43.0\n",
      "RMSE score: 7.766715476913002\n",
      "Coefficient Standard Errors: [0.07389071808161016, 0.019157338599964224, 0.27719285411308525, 2.315290077905648]\n",
      "T Values: [-9.954031888835738, -4.907552574046968, -5.573530886805173, 18.58698533272279]\n",
      "P Values: [0.0, 1.2485850908738882e-06, 4.079797522038575e-08, 0.0]\n"
     ]
    }
   ],
   "source": [
    "lrModelSummary = lrModel.summary\n",
    "\n",
    "print(\"Coefficients: {0:.1f}, {1:.1f}, {2:.1f}\".format(*lrModel.coefficients))\n",
    "print(\"Intercept: {0:.1f}\".format(lrModel.intercept))\n",
    "print(\"RMSE score: {}\".format(lrModelSummary.rootMeanSquaredError))\n",
    "print(\"Coefficient Standard Errors: \" + str(lrModelSummary.coefficientStandardErrors))\n",
    "print(\"T Values: \" + str(lrModelSummary.tValues))\n",
    "print(\"P Values: \" + str(lrModelSummary.pValues))"
   ]
  },
  {
   "cell_type": "markdown",
   "metadata": {},
   "source": []
  },
  {
   "cell_type": "markdown",
   "metadata": {},
   "source": [
    "b. Dùng mô hình huấn luyện được để dự đoán cho các điểm dữ liệu mới có (`indus`, `age`, `dis`) lần lượt là `(11, 68, 4)`, `(6, 35, 2)`, `(19, 74, 8)`."
   ]
  },
  {
   "cell_type": "code",
   "execution_count": 16,
   "metadata": {},
   "outputs": [
    {
     "name": "stdout",
     "output_type": "stream",
     "text": [
      "root\n",
      " |-- indus: long (nullable = true)\n",
      " |-- age: long (nullable = true)\n",
      " |-- dis: long (nullable = true)\n",
      " |-- features: vector (nullable = true)\n",
      "\n",
      "+---------------+------------------+\n",
      "|       features|        prediction|\n",
      "+---------------+------------------+\n",
      "|[11.0,68.0,4.0]|22.370810825866748|\n",
      "| [6.0,35.0,2.0]| 32.24076584405401|\n",
      "|[19.0,74.0,8.0]|  9.74286069912749|\n",
      "+---------------+------------------+\n",
      "\n"
     ]
    }
   ],
   "source": [
    "subset = [(11, 68, 4), \n",
    "            (6, 35, 2), \n",
    "            (19, 74, 8)]\n",
    "\n",
    "subsetColumns = [\"indus\",\"age\",\"dis\"]\n",
    "assembler = VectorAssembler(inputCols=subsetColumns, outputCol=\"features\")\n",
    "subsetDF = spark.createDataFrame(data=subset, schema=subsetColumns)\n",
    "subsetDF= assembler.transform(subsetDF)\n",
    "\n",
    "\n",
    "subsetDF.printSchema()\n",
    "subsetDF  = subsetDF.select(\"features\")\n",
    "lrModel.transform(subsetDF).show()"
   ]
  },
  {
   "cell_type": "markdown",
   "metadata": {},
   "source": [
    "## **Câu hỏi 2**: Train/test split"
   ]
  },
  {
   "cell_type": "markdown",
   "metadata": {},
   "source": [
    "Giữa $80\\%$ dữ liệu để làm training set, $20\\%$ còn lại để làm test set. Thế giá trị của `seed` là MSSV của bạn."
   ]
  },
  {
   "cell_type": "code",
   "execution_count": 36,
   "metadata": {},
   "outputs": [
    {
     "name": "stdout",
     "output_type": "stream",
     "text": [
      "Có 401 dòng trong training set, và 105 dòng trong test set\n"
     ]
    }
   ],
   "source": [
    "trainDF, testDF = bostonFeaturizedDF.randomSplit([.8, .2], seed=17133064)\n",
    "print(f\"Có {trainDF.cache().count()} dòng trong training set, và {testDF.cache().count()} dòng trong test set\")"
   ]
  },
  {
   "cell_type": "markdown",
   "metadata": {},
   "source": [
    "a. Thực hiện lại các bước tương tự như hương dẫn ở trên "
   ]
  },
  {
   "cell_type": "markdown",
   "metadata": {},
   "source": [
    "i. Huấn luyện mô hình trên training set"
   ]
  },
  {
   "cell_type": "code",
   "execution_count": 37,
   "metadata": {},
   "outputs": [
    {
     "name": "stdout",
     "output_type": "stream",
     "text": [
      "+-------+-----+-----+----+------+-----+----+-------+---+---+-------+------+-----+----+-------------------+-------------------+\n",
      "|   crim|   zn|indus|chas|   nox|   rm| age|    dis|rad|tax|ptratio|     b|lstat|medv|           features|          features2|\n",
      "+-------+-----+-----+----+------+-----+----+-------+---+---+-------+------+-----+----+-------------------+-------------------+\n",
      "|0.01096| 55.0| 2.25|   0| 0.389|6.453|31.9| 7.3073|  1|300|   15.3|394.72| 8.23|22.0| [2.25,31.9,7.3073]| [2.25,31.9,7.3073]|\n",
      "|0.01301| 35.0| 1.52|   0| 0.442|7.241|49.3| 7.0379|  1|284|   15.5|394.74| 5.49|32.7| [1.52,49.3,7.0379]| [1.52,49.3,7.0379]|\n",
      "|0.01311| 90.0| 1.22|   0| 0.403|7.249|21.9| 8.6966|  5|226|   17.9|395.93| 4.81|35.4| [1.22,21.9,8.6966]| [1.22,21.9,8.6966]|\n",
      "|0.01381| 80.0| 0.46|   0| 0.422|7.875|32.0| 5.6484|  4|255|   14.4|394.23| 2.97|50.0| [0.46,32.0,5.6484]| [0.46,32.0,5.6484]|\n",
      "|0.01432|100.0| 1.32|   0| 0.411|6.816|40.5| 8.3248|  5|256|   15.1| 392.9| 3.95|31.6| [1.32,40.5,8.3248]| [1.32,40.5,8.3248]|\n",
      "|0.01439| 60.0| 2.93|   0| 0.401|6.604|18.8| 6.2196|  1|265|   15.6| 376.7| 4.38|29.1| [2.93,18.8,6.2196]| [2.93,18.8,6.2196]|\n",
      "|0.01501| 80.0| 2.01|   0| 0.435|6.635|29.7|  8.344|  4|280|   17.0|390.94| 5.99|24.5|  [2.01,29.7,8.344]|  [2.01,29.7,8.344]|\n",
      "|0.01501| 90.0| 1.21|   1| 0.401|7.923|24.8|  5.885|  1|198|   13.6|395.52| 3.16|50.0|  [1.21,24.8,5.885]|  [1.21,24.8,5.885]|\n",
      "|0.01538| 90.0| 3.75|   0| 0.394|7.454|34.2| 6.3361|  3|244|   15.9|386.34| 3.11|44.0| [3.75,34.2,6.3361]| [3.75,34.2,6.3361]|\n",
      "|0.01709| 90.0| 2.02|   0|  0.41|6.728|36.1|12.1265|  5|187|   17.0|384.46|  4.5|30.1|[2.02,36.1,12.1265]|[2.02,36.1,12.1265]|\n",
      "|0.01778| 95.0| 1.47|   0| 0.403|7.135|13.9| 7.6534|  3|402|   17.0| 384.3| 4.45|32.9| [1.47,13.9,7.6534]| [1.47,13.9,7.6534]|\n",
      "| 0.0187| 85.0| 4.15|   0| 0.429|6.516|27.7| 8.5353|  4|351|   17.9|392.43| 6.36|23.1| [4.15,27.7,8.5353]| [4.15,27.7,8.5353]|\n",
      "|0.01951| 17.5| 1.38|   0|0.4161|7.104|59.5| 9.2229|  3|216|   18.6|393.24| 8.05|33.0| [1.38,59.5,9.2229]| [1.38,59.5,9.2229]|\n",
      "|0.01965| 80.0| 1.76|   0| 0.385| 6.23|31.5| 9.0892|  1|241|   18.2| 341.6|12.93|20.1| [1.76,31.5,9.0892]| [1.76,31.5,9.0892]|\n",
      "|0.02009| 95.0| 2.68|   0|0.4161|8.034|31.9|  5.118|  4|224|   14.7|390.55| 2.88|50.0|  [2.68,31.9,5.118]|  [2.68,31.9,5.118]|\n",
      "|0.02055| 85.0| 0.74|   0|  0.41|6.383|35.7| 9.1876|  2|313|   17.3| 396.9| 5.77|24.7| [0.74,35.7,9.1876]| [0.74,35.7,9.1876]|\n",
      "|0.02177| 82.5| 2.03|   0| 0.415| 7.61|15.7|   6.27|  2|348|   14.7|395.38| 3.11|42.3|   [2.03,15.7,6.27]|   [2.03,15.7,6.27]|\n",
      "|0.02498|  0.0| 1.89|   0| 0.518| 6.54|59.7| 6.2669|  1|422|   15.9|389.96| 8.65|16.5| [1.89,59.7,6.2669]| [1.89,59.7,6.2669]|\n",
      "|0.02543| 55.0| 3.78|   0| 0.484|6.696|56.4| 5.7321|  5|370|   17.6| 396.9| 7.18|23.9| [3.78,56.4,5.7321]| [3.78,56.4,5.7321]|\n",
      "|0.02763| 75.0| 2.95|   0| 0.428|6.595|21.8| 5.4011|  3|252|   18.3|395.63| 4.32|30.8| [2.95,21.8,5.4011]| [2.95,21.8,5.4011]|\n",
      "+-------+-----+-----+----+------+-----+----+-------+---+---+-------+------+-----+----+-------------------+-------------------+\n",
      "only showing top 20 rows\n",
      "\n"
     ]
    }
   ],
   "source": [
    "assembler = VectorAssembler(inputCols=newFeatures, outputCol=\"features2\")\n",
    "assembler.transform(trainDF).show()"
   ]
  },
  {
   "cell_type": "code",
   "execution_count": 38,
   "metadata": {},
   "outputs": [],
   "source": [
    "from pyspark.ml.regression import LinearRegression\n",
    "\n",
    "lr = LinearRegression(labelCol=\"medv\", featuresCol=\"features\")\n",
    "q2_lrModel = lr.fit(trainDF)"
   ]
  },
  {
   "cell_type": "markdown",
   "metadata": {},
   "source": [
    "ii. In kết quả của mô hình (các hệ số (`Coefficients`, `Intercept`), `RMSE score`, và $R^2$ `score` ) trên training set"
   ]
  },
  {
   "cell_type": "code",
   "execution_count": 20,
   "metadata": {},
   "outputs": [
    {
     "name": "stdout",
     "output_type": "stream",
     "text": [
      "RMSE score: 7.766715476913002\n"
     ]
    }
   ],
   "source": [
    "lrModelSummary = lrModel.summary\n",
    "\n",
    "\n",
    "print(\"RMSE score: {}\".format(lrModelSummary.rootMeanSquaredError))\n"
   ]
  },
  {
   "cell_type": "markdown",
   "metadata": {},
   "source": [
    "b. Đánh giá mô hình trên test set (in ra `RMSE score`)"
   ]
  },
  {
   "cell_type": "code",
   "execution_count": 21,
   "metadata": {},
   "outputs": [
    {
     "name": "stdout",
     "output_type": "stream",
     "text": [
      "RMSE score: 6.306100517561223\n"
     ]
    }
   ],
   "source": [
    "lrModelSet=  lr.fit(testDF)\n",
    "lrModelSetSummary = lrModelSet.summary\n",
    "print(\"RMSE score: {}\".format(lrModelSetSummary.rootMeanSquaredError))"
   ]
  },
  {
   "cell_type": "markdown",
   "metadata": {},
   "source": [
    "## **Câu hỏi 3**: Nghiên cứu thêm về các tham số của `LinearRegression`"
   ]
  },
  {
   "cell_type": "markdown",
   "metadata": {},
   "source": [
    "Điều chỉnh các tham số `regParam` (or `lambda`, regularization parameter) và `elasticNetParam` (or `alpha`, the ElasticNet mixing parameter, in range [0, 1]. For `alpha = 0`, the penalty is an `L2 penalty`. For `alpha = 1`, it is an `L1 penalty`.) của `LinearRegression`. Xem thêm ở [đây](http://spark.apache.org/docs/latest/api/python/pyspark.ml.html?highlight=vectorassembler#pyspark.ml.regression.LinearRegression).\n",
    "\n",
    "- `regParam = 0`: ordinary least squares\n",
    "\n",
    "- `regParam != 0, elasticNetParam = 0`: L2 (ridge regression)\n",
    "\n",
    "- `regParam != 0, elasticNetParam = 1`: L1 (Lasso)\n",
    "\n",
    "- `regParam != 0, elasticNetParam != 0`: L2 + L1 (elastic net)"
   ]
  },
  {
   "cell_type": "markdown",
   "metadata": {},
   "source": [
    "a. `regParam = 0`: ordinary least squares"
   ]
  },
  {
   "cell_type": "code",
   "execution_count": 31,
   "metadata": {},
   "outputs": [
    {
     "name": "stdout",
     "output_type": "stream",
     "text": [
      "LinearRegression_90dffa21a1a6\n"
     ]
    }
   ],
   "source": [
    "lr3a = LinearRegression(labelCol = \"medv\", featuresCol = \"features\", regParam =0)\n",
    "print(lr3a)"
   ]
  },
  {
   "cell_type": "markdown",
   "metadata": {},
   "source": [
    "b. `regParam != 0, elasticNetParam = 0`: L2 (ridge regression)"
   ]
  },
  {
   "cell_type": "code",
   "execution_count": 32,
   "metadata": {},
   "outputs": [
    {
     "name": "stdout",
     "output_type": "stream",
     "text": [
      "LinearRegression_1b3048bb3af6\n"
     ]
    }
   ],
   "source": [
    "lr3b=LinearRegression(labelCol = \"medv\", featuresCol = \"features\", regParam =0.2, elasticNetParam=0)\n",
    "print(lr3b)"
   ]
  },
  {
   "cell_type": "markdown",
   "metadata": {},
   "source": [
    "c. `regParam != 0, elasticNetParam = 1`: L1 (Lasso)"
   ]
  },
  {
   "cell_type": "code",
   "execution_count": 33,
   "metadata": {},
   "outputs": [
    {
     "name": "stdout",
     "output_type": "stream",
     "text": [
      "LinearRegression_7ba4f8a652e2\n"
     ]
    }
   ],
   "source": [
    "lr3c = LinearRegression(labelCol=\"medv\", featuresCol=\"features\", regParam=0.3, elasticNetParam =1)\n",
    "print(lr3c)"
   ]
  },
  {
   "cell_type": "markdown",
   "metadata": {},
   "source": [
    "d. `regParam != 0, elasticNetParam != 0`: L2 + L1 (elastic net)"
   ]
  },
  {
   "cell_type": "code",
   "execution_count": 34,
   "metadata": {},
   "outputs": [
    {
     "name": "stdout",
     "output_type": "stream",
     "text": [
      "LinearRegression_ad86ebfd0ae7\n"
     ]
    }
   ],
   "source": [
    "lr3d = LinearRegression(labelCol=\"medv\", featuresCol=\"features\", regParam=0.5, elasticNetParam =1)\n",
    "print(lr3d)"
   ]
  },
  {
   "cell_type": "markdown",
   "metadata": {},
   "source": [
    "e. So sánh kết quả của các mô hình ở a, b, c, d."
   ]
  },
  {
   "cell_type": "code",
   "execution_count": 35,
   "metadata": {},
   "outputs": [
    {
     "name": "stdout",
     "output_type": "stream",
     "text": [
      "Coefficients 3a: -0.8, -0.1, -1.8\n",
      "Intercept 3a: 45.8\n",
      "R^2 score 3a: 0.2972748067194765\n",
      "\n",
      "\n",
      "Coefficients 3b: -0.8, -0.1, -1.6\n",
      "Intercept 3b: 44.0\n",
      "R^2 score 3b: 0.2964364870755055\n",
      "\n",
      "\n",
      "Coefficients 3c: -0.7, -0.1, -1.0\n",
      "Intercept 3c: 38.8\n",
      "R^2 score 3c: 0.2852467382416898\n",
      "\n",
      "\n",
      "Coefficients 3d: -0.6, -0.0, -0.5\n",
      "Intercept 3d: 34.1\n",
      "R^2 score 3d: 0.26386335128051874\n"
     ]
    }
   ],
   "source": [
    "lrModel3a = lr3a.fit(trainDF)\n",
    "print(\"Coefficients 3a: {0:.1f}, {1:.1f}, {2:.1f}\".format(*lrModel3a.coefficients))\n",
    "print(\"Intercept 3a: {0:.1f}\".format(lrModel3a.intercept))\n",
    "print(\"R^2 score 3a: {}\".format(lrModel3a.summary.r2))\n",
    "print(\"\\n\")\n",
    "lrModel3b = lr3b.fit(trainDF)\n",
    "print(\"Coefficients 3b: {0:.1f}, {1:.1f}, {2:.1f}\".format(*lrModel3b.coefficients))\n",
    "print(\"Intercept 3b: {0:.1f}\".format(lrModel3b.intercept))\n",
    "print(\"R^2 score 3b: {}\".format(lrModel3b.summary.r2))\n",
    "print(\"\\n\")\n",
    "lrModel3c = lr3c.fit(trainDF)\n",
    "print(\"Coefficients 3c: {0:.1f}, {1:.1f}, {2:.1f}\".format(*lrModel3c.coefficients))\n",
    "print(\"Intercept 3c: {0:.1f}\".format(lrModel3c.intercept))\n",
    "print(\"R^2 score 3c: {}\".format(lrModel3c.summary.r2))\n",
    "print(\"\\n\")\n",
    "lrModel3d = lr3d.fit(trainDF)\n",
    "print(\"Coefficients 3d: {0:.1f}, {1:.1f}, {2:.1f}\".format(*lrModel3d.coefficients))\n",
    "print(\"Intercept 3d: {0:.1f}\".format(lrModel3d.intercept))\n",
    "print(\"R^2 score 3d: {}\".format(lrModel3d.summary.r2))"
   ]
  },
  {
   "cell_type": "code",
   "execution_count": null,
   "metadata": {},
   "outputs": [],
   "source": []
  }
 ],
 "metadata": {
  "kernelspec": {
   "display_name": "Python 3",
   "language": "python",
   "name": "python3"
  },
  "language_info": {
   "codemirror_mode": {
    "name": "ipython",
    "version": 3
   },
   "file_extension": ".py",
   "mimetype": "text/x-python",
   "name": "python",
   "nbconvert_exporter": "python",
   "pygments_lexer": "ipython3",
   "version": "3.7.3"
  }
 },
 "nbformat": 4,
 "nbformat_minor": 4
}
