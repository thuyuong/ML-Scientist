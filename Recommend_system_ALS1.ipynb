{
 "cells": [
  {
   "cell_type": "markdown",
   "metadata": {},
   "source": [
    "## **Nhóm thực hiện:**\n",
    "\n",
    "- **Trần Gia Bảo - 17133002**\n",
    "- **Hoàng Thị Cẩm Tú - 17133052**\n",
    "- **Uông Thị Thanh Thủy - 17133064**\n",
    "- **Nguyễn Phước Sang - 17133055**"
   ]
  },
  {
   "cell_type": "markdown",
   "metadata": {},
   "source": [
    "# **Sử dụng Spark để xây dựng hệ thống đề xuất phim**\n",
    "\n",
    "Hệ thống đề xuất là công cụ giúp dự đoán những gì mà người dùng có thể thích hoặc không thích trong danh sách những mục đã cho. Đây này là cách để thay thế cho việc tìm kiếm nội dung, nó sẽ giúp người dùng khám phá sản phẩm hoặc nội dung mà họ có thể chưa bắt gặp. Ví dụ: Facebook gợi ý bạn bè, các page cho người dùng, Youtube gợi ý video mà người dùng có thể quan tâm, Tiki, Lazada gợi ý các sản phẩm, mặt hàng mà người dùng có thể cần... Công cụ này sẽ thu hút người dùng đến các dịch vụ từ đó có thể tối ưu hóa doanh thu cho các nhà cung cấp và duy trì sự quan tâm đến dịch vụ.\n",
    "Trong project này, chúng em sẽ tập trung vào việc sử dụng Spark để xây dựng một hệ thống đề xuất đơn giản và sử dụng một thuật toán để dự đoán những mục mà người dùng có thể thích được gọi là ALS (Alternating least squares)."
   ]
  },
  {
   "cell_type": "markdown",
   "metadata": {},
   "source": [
    "## **1. Data**\n",
    "Tập dữ liệu là tập dữ liệu MovieLens vào năm 2018. Có bốn tệp csv trong tập dữ liệu, bao gồm movies.csv, ratings.csv, tags.csv, links.csv. Trong project này, chúng em chỉ sử dụng movies.csv và ratings.csv vì chúng cung cấp thông tin cần thiết trong việc xây dựng hệ thống đề xuất, chẳng hạn như id phim, id người dùng, xếp hạng, v.v. Vì tất cả các cột trong tập dữ liệu đều ở kiểu dữ liệu chuỗi, cần chuyển một số trong số chúng sang kiểu dữ liệu số trong bước tiền xử lý."
   ]
  },
  {
   "cell_type": "markdown",
   "metadata": {},
   "source": [
    "Để lựa chọn hoặc thiết kế một thuật toán phù hợp cho bài toán, trước tiên chúng ta tìm hiểu các đặc điểm của dữ liệu. Trước tiên, ta cần import một số thư viện cần thiết. Đồng thời, do Notebook này được thực thi trên Google Colab nên ta cần cài đặt một số các gói và thiết lập biến môi trường."
   ]
  },
  {
   "cell_type": "markdown",
   "metadata": {},
   "source": [
    "- Cài đặt các thư viện cần thiết:"
   ]
  },
  {
   "cell_type": "code",
   "execution_count": 2,
   "metadata": {},
   "outputs": [],
   "source": [
    "import numpy as np\n",
    "import pandas as pd\n",
    "import seaborn as sns\n",
    "import matplotlib.pyplot as plt\n",
    "import math\n",
    "%matplotlib inline"
   ]
  },
  {
   "cell_type": "markdown",
   "metadata": {},
   "source": [
    "- Tải tệp dữ liệu về và unzip:"
   ]
  },
  {
   "cell_type": "code",
   "execution_count": null,
   "metadata": {},
   "outputs": [],
   "source": [
    "! wget http://files.grouplens.org/datasets/movielens/ml-latest-small.zip\n",
    "! unzip ml-latest-small.zip\n",
    "!ls"
   ]
  },
  {
   "cell_type": "code",
   "execution_count": null,
   "metadata": {},
   "outputs": [],
   "source": [
    "!ls ml-latest-small/"
   ]
  },
  {
   "cell_type": "markdown",
   "metadata": {},
   "source": [
    "- Cài đặt java 8, apache spark, findspark:"
   ]
  },
  {
   "cell_type": "code",
   "execution_count": null,
   "metadata": {},
   "outputs": [],
   "source": [
    "!apt-get install openjdk-8-jdk-headless -qq > /dev/null\n",
    "!wget -q http://apache.osuosl.org/spark/spark-3.0.1/spark-3.0.1-bin-hadoop3.2.tgz\n",
    "!tar xf spark-3.0.1-bin-hadoop3.2.tgz\n",
    "!pip install -q findspark"
   ]
  },
  {
   "cell_type": "markdown",
   "metadata": {},
   "source": [
    "- Cài đặt biến môi trường:"
   ]
  },
  {
   "cell_type": "code",
   "execution_count": null,
   "metadata": {},
   "outputs": [],
   "source": [
    "import os\n",
    "os.environ[\"JAVA_HOME\"] = \"/usr/lib/jvm/java-8-openjdk-amd64\"\n",
    "os.environ[\"SPARK_HOME\"] = \"/content/spark-3.0.1-bin-hadoop3.2\""
   ]
  },
  {
   "cell_type": "code",
   "execution_count": null,
   "metadata": {},
   "outputs": [],
   "source": [
    "import findspark\n",
    "findspark.init()\n",
    "from pyspark.sql import SparkSession\n",
    "spark = SparkSession.builder.master(\"local[*]\").getOrCreate()"
   ]
  },
  {
   "cell_type": "code",
   "execution_count": null,
   "metadata": {},
   "outputs": [],
   "source": [
    "import os\n",
    "os.environ[\"PYSPARK_PYTHON\"] = \"python3\""
   ]
  },
  {
   "cell_type": "markdown",
   "metadata": {},
   "source": [
    "### **1.1.  ETL và Exploration về tập dữ liệu:**"
   ]
  },
  {
   "cell_type": "code",
   "execution_count": 10,
   "metadata": {
    "executionInfo": {
     "elapsed": 608,
     "status": "ok",
     "timestamp": 1611548610279,
     "user": {
      "displayName": "Tú Hoàng Thị Cẩm",
      "photoUrl": "https://lh3.googleusercontent.com/a-/AOh14GgfejbFPdONaew_xaQolTuofcnM1uN2s8nzL4AB=s64",
      "userId": "10840746504897194390"
     },
     "user_tz": -420
    },
    "id": "EchMOyFbPiUZ"
   },
   "outputs": [],
   "source": [
    "from pyspark.sql import SparkSession\n",
    "spark = SparkSession \\\n",
    "    .builder \\\n",
    "    .appName(\"moive analysis\") \\\n",
    "    .config(\"spark.some.config.option\", \"some-value\") \\\n",
    "    .getOrCreate()"
   ]
  },
  {
   "cell_type": "markdown",
   "metadata": {
    "id": "uqJmcwpxQQCg"
   },
   "source": [
    "- Load dữ liệu:"
   ]
  },
  {
   "cell_type": "code",
   "execution_count": 11,
   "metadata": {
    "executionInfo": {
     "elapsed": 8798,
     "status": "ok",
     "timestamp": 1611548618480,
     "user": {
      "displayName": "Tú Hoàng Thị Cẩm",
      "photoUrl": "https://lh3.googleusercontent.com/a-/AOh14GgfejbFPdONaew_xaQolTuofcnM1uN2s8nzL4AB=s64",
      "userId": "10840746504897194390"
     },
     "user_tz": -420
    },
    "id": "j8l0umPDQLFS"
   },
   "outputs": [],
   "source": [
    "root = \"ml-latest-small/\"\n",
    "movies_df = spark.read.load(root+\"movies.csv\", format='csv', header = True)\n",
    "ratings_df = spark.read.load(root+ \"ratings.csv\", format='csv', header = True)\n",
    "links_df = spark.read.load(root+\"links.csv\", format='csv', header = True)\n",
    "tags_df = spark.read.load(root+\"tags.csv\", format='csv', header = True)"
   ]
  },
  {
   "cell_type": "code",
   "execution_count": 12,
   "metadata": {
    "colab": {
     "base_uri": "https://localhost:8080/"
    },
    "executionInfo": {
     "elapsed": 9092,
     "status": "ok",
     "timestamp": 1611548618782,
     "user": {
      "displayName": "Tú Hoàng Thị Cẩm",
      "photoUrl": "https://lh3.googleusercontent.com/a-/AOh14GgfejbFPdONaew_xaQolTuofcnM1uN2s8nzL4AB=s64",
      "userId": "10840746504897194390"
     },
     "user_tz": -420
    },
    "id": "cCcsHrgNQXSg",
    "outputId": "8639896a-7d08-44d6-a8ed-7eb272a3ad26"
   },
   "outputs": [
    {
     "name": "stdout",
     "output_type": "stream",
     "text": [
      "+-------+--------------------+--------------------+\n",
      "|movieId|               title|              genres|\n",
      "+-------+--------------------+--------------------+\n",
      "|      1|    Toy Story (1995)|Adventure|Animati...|\n",
      "|      2|      Jumanji (1995)|Adventure|Childre...|\n",
      "|      3|Grumpier Old Men ...|      Comedy|Romance|\n",
      "|      4|Waiting to Exhale...|Comedy|Drama|Romance|\n",
      "|      5|Father of the Bri...|              Comedy|\n",
      "+-------+--------------------+--------------------+\n",
      "only showing top 5 rows\n",
      "\n"
     ]
    }
   ],
   "source": [
    "movies_df.show(5)"
   ]
  },
  {
   "cell_type": "code",
   "execution_count": 13,
   "metadata": {
    "colab": {
     "base_uri": "https://localhost:8080/"
    },
    "executionInfo": {
     "elapsed": 9087,
     "status": "ok",
     "timestamp": 1611548618783,
     "user": {
      "displayName": "Tú Hoàng Thị Cẩm",
      "photoUrl": "https://lh3.googleusercontent.com/a-/AOh14GgfejbFPdONaew_xaQolTuofcnM1uN2s8nzL4AB=s64",
      "userId": "10840746504897194390"
     },
     "user_tz": -420
    },
    "id": "r7J0x0JKQdQQ",
    "outputId": "e5035116-e97d-447a-abe3-d4b6486aa97e",
    "scrolled": true
   },
   "outputs": [
    {
     "name": "stdout",
     "output_type": "stream",
     "text": [
      "+------+-------+------+---------+\n",
      "|userId|movieId|rating|timestamp|\n",
      "+------+-------+------+---------+\n",
      "|     1|      1|   4.0|964982703|\n",
      "|     1|      3|   4.0|964981247|\n",
      "|     1|      6|   4.0|964982224|\n",
      "|     1|     47|   5.0|964983815|\n",
      "|     1|     50|   5.0|964982931|\n",
      "+------+-------+------+---------+\n",
      "only showing top 5 rows\n",
      "\n"
     ]
    }
   ],
   "source": [
    "ratings_df.show(5)"
   ]
  },
  {
   "cell_type": "code",
   "execution_count": 1,
   "metadata": {
    "colab": {
     "base_uri": "https://localhost:8080/"
    },
    "executionInfo": {
     "elapsed": 9401,
     "status": "ok",
     "timestamp": 1611548619104,
     "user": {
      "displayName": "Tú Hoàng Thị Cẩm",
      "photoUrl": "https://lh3.googleusercontent.com/a-/AOh14GgfejbFPdONaew_xaQolTuofcnM1uN2s8nzL4AB=s64",
      "userId": "10840746504897194390"
     },
     "user_tz": -420
    },
    "id": "7yV-HSsSQg8B",
    "outputId": "32f4bcc8-4962-4509-bfba-66a2e4c6cd0a",
    "scrolled": true
   },
   "outputs": [
    {
     "ename": "NameError",
     "evalue": "name 'links_df' is not defined",
     "output_type": "error",
     "traceback": [
      "\u001b[1;31m---------------------------------------------------------------------------\u001b[0m",
      "\u001b[1;31mNameError\u001b[0m                                 Traceback (most recent call last)",
      "\u001b[1;32m<ipython-input-1-c4b6c2130fec>\u001b[0m in \u001b[0;36m<module>\u001b[1;34m\u001b[0m\n\u001b[1;32m----> 1\u001b[1;33m \u001b[0mlinks_df\u001b[0m\u001b[1;33m.\u001b[0m\u001b[0mshow\u001b[0m\u001b[1;33m(\u001b[0m\u001b[1;36m5\u001b[0m\u001b[1;33m)\u001b[0m\u001b[1;33m\u001b[0m\u001b[1;33m\u001b[0m\u001b[0m\n\u001b[0m",
      "\u001b[1;31mNameError\u001b[0m: name 'links_df' is not defined"
     ]
    }
   ],
   "source": [
    "links_df.show(5)"
   ]
  },
  {
   "cell_type": "code",
   "execution_count": 15,
   "metadata": {
    "colab": {
     "base_uri": "https://localhost:8080/"
    },
    "executionInfo": {
     "elapsed": 9395,
     "status": "ok",
     "timestamp": 1611548619105,
     "user": {
      "displayName": "Tú Hoàng Thị Cẩm",
      "photoUrl": "https://lh3.googleusercontent.com/a-/AOh14GgfejbFPdONaew_xaQolTuofcnM1uN2s8nzL4AB=s64",
      "userId": "10840746504897194390"
     },
     "user_tz": -420
    },
    "id": "FMi2YGS4Qkk3",
    "outputId": "aca38e70-09f6-48fc-e588-b6d7e3774282"
   },
   "outputs": [
    {
     "name": "stdout",
     "output_type": "stream",
     "text": [
      "+------+-------+---------------+----------+\n",
      "|userId|movieId|            tag| timestamp|\n",
      "+------+-------+---------------+----------+\n",
      "|     2|  60756|          funny|1445714994|\n",
      "|     2|  60756|Highly quotable|1445714996|\n",
      "|     2|  60756|   will ferrell|1445714992|\n",
      "|     2|  89774|   Boxing story|1445715207|\n",
      "|     2|  89774|            MMA|1445715200|\n",
      "+------+-------+---------------+----------+\n",
      "only showing top 5 rows\n",
      "\n"
     ]
    }
   ],
   "source": [
    "tags_df.show(5)"
   ]
  },
  {
   "cell_type": "code",
   "execution_count": 16,
   "metadata": {
    "colab": {
     "base_uri": "https://localhost:8080/"
    },
    "executionInfo": {
     "elapsed": 16328,
     "status": "ok",
     "timestamp": 1611548626044,
     "user": {
      "displayName": "Tú Hoàng Thị Cẩm",
      "photoUrl": "https://lh3.googleusercontent.com/a-/AOh14GgfejbFPdONaew_xaQolTuofcnM1uN2s8nzL4AB=s64",
      "userId": "10840746504897194390"
     },
     "user_tz": -420
    },
    "id": "f88qvvdDQtrx",
    "outputId": "e7325a77-d270-41d9-bd42-81300d2fe487"
   },
   "outputs": [
    {
     "name": "stdout",
     "output_type": "stream",
     "text": [
      "For the users that rated movies and the movies that were rated:\n",
      "Minimum number of ratings per user is 20\n",
      "Minimum number of ratings per movie is 1\n"
     ]
    }
   ],
   "source": [
    "tmp1 = ratings_df.groupBy(\"userID\").count().toPandas()['count'].min()\n",
    "tmp2 = ratings_df.groupBy(\"movieId\").count().toPandas()['count'].min()\n",
    "print('For the users that rated movies and the movies that were rated:')\n",
    "print('Minimum number of ratings per user is {}'.format(tmp1))\n",
    "print('Minimum number of ratings per movie is {}'.format(tmp2))"
   ]
  },
  {
   "cell_type": "code",
   "execution_count": 17,
   "metadata": {
    "colab": {
     "base_uri": "https://localhost:8080/"
    },
    "executionInfo": {
     "elapsed": 20664,
     "status": "ok",
     "timestamp": 1611548630387,
     "user": {
      "displayName": "Tú Hoàng Thị Cẩm",
      "photoUrl": "https://lh3.googleusercontent.com/a-/AOh14GgfejbFPdONaew_xaQolTuofcnM1uN2s8nzL4AB=s64",
      "userId": "10840746504897194390"
     },
     "user_tz": -420
    },
    "id": "lgqF_CILRD6u",
    "outputId": "ec2a5cd9-92e0-4fda-f5a0-2de10ee05fe4"
   },
   "outputs": [
    {
     "name": "stdout",
     "output_type": "stream",
     "text": [
      "3446 out of 9724 movies are rated by only one user\n"
     ]
    }
   ],
   "source": [
    "tmp1 = sum(ratings_df.groupBy(\"movieId\").count().toPandas()['count'] == 1)\n",
    "tmp2 = ratings_df.select('movieId').distinct().count()\n",
    "print('{} out of {} movies are rated by only one user'.format(tmp1, tmp2))"
   ]
  },
  {
   "cell_type": "markdown",
   "metadata": {
    "id": "4oDkvYNeU7vY"
   },
   "source": [
    "### **1.2. Một số thống kê để hiểu rõ về dữ liệu**"
   ]
  },
  {
   "cell_type": "code",
   "execution_count": 18,
   "metadata": {
    "executionInfo": {
     "elapsed": 925,
     "status": "ok",
     "timestamp": 1611548635839,
     "user": {
      "displayName": "Tú Hoàng Thị Cẩm",
      "photoUrl": "https://lh3.googleusercontent.com/a-/AOh14GgfejbFPdONaew_xaQolTuofcnM1uN2s8nzL4AB=s64",
      "userId": "10840746504897194390"
     },
     "user_tz": -420
    },
    "id": "3uRd_-01WNjG"
   },
   "outputs": [],
   "source": [
    "movies_df.registerTempTable(\"movies\")\n",
    "ratings_df.registerTempTable(\"ratings\")\n",
    "links_df.registerTempTable(\"links\")\n",
    "tags_df.registerTempTable(\"tags\")"
   ]
  },
  {
   "cell_type": "markdown",
   "metadata": {
    "id": "1pLpy9oLWVyk"
   },
   "source": [
    "- Đếm số lượng user:"
   ]
  },
  {
   "cell_type": "code",
   "execution_count": 19,
   "metadata": {
    "colab": {
     "base_uri": "https://localhost:8080/"
    },
    "executionInfo": {
     "elapsed": 3106,
     "status": "ok",
     "timestamp": 1611548638031,
     "user": {
      "displayName": "Tú Hoàng Thị Cẩm",
      "photoUrl": "https://lh3.googleusercontent.com/a-/AOh14GgfejbFPdONaew_xaQolTuofcnM1uN2s8nzL4AB=s64",
      "userId": "10840746504897194390"
     },
     "user_tz": -420
    },
    "id": "jnx0sTM_VGeW",
    "outputId": "411fe3ef-00d8-4e81-8bea-8d31de4a1610"
   },
   "outputs": [
    {
     "name": "stdout",
     "output_type": "stream",
     "text": [
      "+----------+\n",
      "|user_count|\n",
      "+----------+\n",
      "|       610|\n",
      "+----------+\n",
      "\n"
     ]
    }
   ],
   "source": [
    "user_count = spark.sql(\"select count(distinct userId) as user_count from ratings\")\n",
    "user_count.show()"
   ]
  },
  {
   "cell_type": "markdown",
   "metadata": {
    "id": "9fehCab_WZBU"
   },
   "source": [
    "- Đếm số lượng movie:"
   ]
  },
  {
   "cell_type": "code",
   "execution_count": 20,
   "metadata": {
    "colab": {
     "base_uri": "https://localhost:8080/"
    },
    "executionInfo": {
     "elapsed": 4734,
     "status": "ok",
     "timestamp": 1611548639669,
     "user": {
      "displayName": "Tú Hoàng Thị Cẩm",
      "photoUrl": "https://lh3.googleusercontent.com/a-/AOh14GgfejbFPdONaew_xaQolTuofcnM1uN2s8nzL4AB=s64",
      "userId": "10840746504897194390"
     },
     "user_tz": -420
    },
    "id": "eO0YubxTWePT",
    "outputId": "6d427e59-4e13-4928-de9b-a7857ff75f24"
   },
   "outputs": [
    {
     "name": "stdout",
     "output_type": "stream",
     "text": [
      "+-----------+\n",
      "|movie_count|\n",
      "+-----------+\n",
      "|       9742|\n",
      "+-----------+\n",
      "\n"
     ]
    }
   ],
   "source": [
    "movie_count = spark.sql(\"select count(distinct movieId) as movie_count from movies\")\n",
    "movie_count.show()"
   ]
  },
  {
   "cell_type": "markdown",
   "metadata": {
    "id": "N7xjp5GfWnYy"
   },
   "source": [
    "- Số lượng movie được rating:"
   ]
  },
  {
   "cell_type": "code",
   "execution_count": 21,
   "metadata": {
    "colab": {
     "base_uri": "https://localhost:8080/"
    },
    "executionInfo": {
     "elapsed": 8329,
     "status": "ok",
     "timestamp": 1611548643272,
     "user": {
      "displayName": "Tú Hoàng Thị Cẩm",
      "photoUrl": "https://lh3.googleusercontent.com/a-/AOh14GgfejbFPdONaew_xaQolTuofcnM1uN2s8nzL4AB=s64",
      "userId": "10840746504897194390"
     },
     "user_tz": -420
    },
    "id": "E9hzuZQuWm_L",
    "outputId": "5bba2572-1372-4d29-edf7-eb77b12933bb"
   },
   "outputs": [
    {
     "name": "stdout",
     "output_type": "stream",
     "text": [
      "+-----------------------+\n",
      "|count(DISTINCT movieId)|\n",
      "+-----------------------+\n",
      "|                   9724|\n",
      "+-----------------------+\n",
      "\n"
     ]
    }
   ],
   "source": [
    "from pyspark.sql.functions import col\n",
    "# %sql \n",
    "# Show number of movies rated\n",
    "movie_rated = spark.sql(\"select count(distinct movieId) from movies where movieId in (select distinct movieId from ratings)\")\n",
    "movie_rated.show()"
   ]
  },
  {
   "cell_type": "markdown",
   "metadata": {
    "id": "xbkdZ4ShWxgy"
   },
   "source": [
    "- Danh sách các movie không được rated:"
   ]
  },
  {
   "cell_type": "code",
   "execution_count": 22,
   "metadata": {
    "colab": {
     "base_uri": "https://localhost:8080/"
    },
    "executionInfo": {
     "elapsed": 16569,
     "status": "ok",
     "timestamp": 1611548651524,
     "user": {
      "displayName": "Tú Hoàng Thị Cẩm",
      "photoUrl": "https://lh3.googleusercontent.com/a-/AOh14GgfejbFPdONaew_xaQolTuofcnM1uN2s8nzL4AB=s64",
      "userId": "10840746504897194390"
     },
     "user_tz": -420
    },
    "id": "bspE1naYW6Zy",
    "outputId": "de60a59a-0429-4111-a5b7-c672d83d6a01"
   },
   "outputs": [
    {
     "name": "stdout",
     "output_type": "stream",
     "text": [
      "+-------+--------------------+\n",
      "|movieId|               title|\n",
      "+-------+--------------------+\n",
      "|   3338|For All Mankind (...|\n",
      "|  34482|Browning Version,...|\n",
      "|   2939|      Niagara (1953)|\n",
      "|   3456|Color of Paradise...|\n",
      "|  30892|In the Realms of ...|\n",
      "|   7792|Parallax View, Th...|\n",
      "|  32160|Twentieth Century...|\n",
      "|  26085|Mutiny on the Bou...|\n",
      "|   1076|Innocents, The (1...|\n",
      "|   4194|I Know Where I'm ...|\n",
      "|  32371|Call Northside 77...|\n",
      "|  25855|Roaring Twenties,...|\n",
      "|   5721|  Chosen, The (1981)|\n",
      "|   8765|This Gun for Hire...|\n",
      "|   6668|Road Home, The (W...|\n",
      "|   6849|      Scrooge (1970)|\n",
      "|   7020|        Proof (1991)|\n",
      "|  85565|  Chalet Girl (2011)|\n",
      "+-------+--------------------+\n",
      "\n"
     ]
    }
   ],
   "source": [
    "movie_not_rated = spark.sql(\"select distinct movieId, title from movies where movieId not in (select distinct movieId from ratings)\")\n",
    "movie_not_rated.show()"
   ]
  },
  {
   "cell_type": "markdown",
   "metadata": {
    "id": "m_QONxYEXLbM"
   },
   "source": [
    "- Kiểm tra xem có dữ liệu null không:"
   ]
  },
  {
   "cell_type": "code",
   "execution_count": 23,
   "metadata": {
    "colab": {
     "base_uri": "https://localhost:8080/"
    },
    "executionInfo": {
     "elapsed": 16561,
     "status": "ok",
     "timestamp": 1611548651525,
     "user": {
      "displayName": "Tú Hoàng Thị Cẩm",
      "photoUrl": "https://lh3.googleusercontent.com/a-/AOh14GgfejbFPdONaew_xaQolTuofcnM1uN2s8nzL4AB=s64",
      "userId": "10840746504897194390"
     },
     "user_tz": -420
    },
    "id": "TTvzM5prXOh6",
    "outputId": "4e27cd45-6fa0-46be-9bef-7bb7faec21de"
   },
   "outputs": [
    {
     "name": "stdout",
     "output_type": "stream",
     "text": [
      "+------+-------+------+---------+\n",
      "|userId|movieId|rating|timestamp|\n",
      "+------+-------+------+---------+\n",
      "+------+-------+------+---------+\n",
      "\n"
     ]
    }
   ],
   "source": [
    "# Với bảng rating\n",
    "rating_missing_value = spark.sql(\"select * from ratings where rating = NULL or timestamp = NULL or userId=NULL or movieId=NULL\")\n",
    "rating_missing_value.show()"
   ]
  },
  {
   "cell_type": "code",
   "execution_count": 24,
   "metadata": {
    "colab": {
     "base_uri": "https://localhost:8080/"
    },
    "executionInfo": {
     "elapsed": 16852,
     "status": "ok",
     "timestamp": 1611548651824,
     "user": {
      "displayName": "Tú Hoàng Thị Cẩm",
      "photoUrl": "https://lh3.googleusercontent.com/a-/AOh14GgfejbFPdONaew_xaQolTuofcnM1uN2s8nzL4AB=s64",
      "userId": "10840746504897194390"
     },
     "user_tz": -420
    },
    "id": "i3gPtxRTXWMp",
    "outputId": "de701762-9c0d-4aab-89e1-5594cb270f5e"
   },
   "outputs": [
    {
     "name": "stdout",
     "output_type": "stream",
     "text": [
      "+-------+-----+------+\n",
      "|movieId|title|genres|\n",
      "+-------+-----+------+\n",
      "+-------+-----+------+\n",
      "\n"
     ]
    }
   ],
   "source": [
    "# Với bảng movie\n",
    "movie_missing_value= movies_df.where(col('title').isNull() | col('genres').isNull())\n",
    "movie_missing_value.show()"
   ]
  },
  {
   "cell_type": "markdown",
   "metadata": {
    "id": "H7BSiDeJXkPq"
   },
   "source": [
    "- Danh sách các thể loại của phim:"
   ]
  },
  {
   "cell_type": "code",
   "execution_count": 25,
   "metadata": {
    "colab": {
     "base_uri": "https://localhost:8080/"
    },
    "executionInfo": {
     "elapsed": 17157,
     "status": "ok",
     "timestamp": 1611548652138,
     "user": {
      "displayName": "Tú Hoàng Thị Cẩm",
      "photoUrl": "https://lh3.googleusercontent.com/a-/AOh14GgfejbFPdONaew_xaQolTuofcnM1uN2s8nzL4AB=s64",
      "userId": "10840746504897194390"
     },
     "user_tz": -420
    },
    "id": "BMYQwQosXm3S",
    "outputId": "a657cdb6-866b-4090-ae94-a1d412d87105"
   },
   "outputs": [
    {
     "name": "stdout",
     "output_type": "stream",
     "text": [
      "+--------------------+\n",
      "|        genres_count|\n",
      "+--------------------+\n",
      "|Comedy|Horror|Thr...|\n",
      "|Adventure|Sci-Fi|...|\n",
      "|Action|Adventure|...|\n",
      "| Action|Drama|Horror|\n",
      "|Action|Animation|...|\n",
      "|Animation|Childre...|\n",
      "|Action|Adventure|...|\n",
      "|    Adventure|Sci-Fi|\n",
      "|Documentary|Music...|\n",
      "|Adventure|Childre...|\n",
      "| Adventure|Animation|\n",
      "| Musical|Romance|War|\n",
      "|Action|Adventure|...|\n",
      "|Adventure|Childre...|\n",
      "|Comedy|Crime|Horr...|\n",
      "|Crime|Drama|Fanta...|\n",
      "|Comedy|Mystery|Th...|\n",
      "|   Adventure|Fantasy|\n",
      "|Horror|Romance|Sc...|\n",
      "|Drama|Film-Noir|R...|\n",
      "+--------------------+\n",
      "only showing top 20 rows\n",
      "\n"
     ]
    }
   ],
   "source": [
    "# directly list movie genres\n",
    "movie_genres_df = spark.sql(\"select distinct genres as genres_count from movies\")\n",
    "movie_genres_df.show()"
   ]
  },
  {
   "cell_type": "code",
   "execution_count": 26,
   "metadata": {
    "colab": {
     "base_uri": "https://localhost:8080/"
    },
    "executionInfo": {
     "elapsed": 18776,
     "status": "ok",
     "timestamp": 1611548653767,
     "user": {
      "displayName": "Tú Hoàng Thị Cẩm",
      "photoUrl": "https://lh3.googleusercontent.com/a-/AOh14GgfejbFPdONaew_xaQolTuofcnM1uN2s8nzL4AB=s64",
      "userId": "10840746504897194390"
     },
     "user_tz": -420
    },
    "id": "C7drzeafXqrh",
    "outputId": "ac164e36-449d-4216-9e46-24b26ff33999"
   },
   "outputs": [
    {
     "name": "stdout",
     "output_type": "stream",
     "text": [
      "+------------------+\n",
      "|    splited_genres|\n",
      "+------------------+\n",
      "|(no genres listed)|\n",
      "|            Action|\n",
      "|         Adventure|\n",
      "|         Animation|\n",
      "|          Children|\n",
      "|            Comedy|\n",
      "|             Crime|\n",
      "|       Documentary|\n",
      "|             Drama|\n",
      "|           Fantasy|\n",
      "|         Film-Noir|\n",
      "|            Horror|\n",
      "|              IMAX|\n",
      "|           Musical|\n",
      "|           Mystery|\n",
      "|           Romance|\n",
      "|            Sci-Fi|\n",
      "|          Thriller|\n",
      "|               War|\n",
      "|           Western|\n",
      "+------------------+\n",
      "\n"
     ]
    }
   ],
   "source": [
    "# splite movie genres and then count\n",
    "from pyspark.sql.functions import col, explode, split\n",
    "movie_genres = movies_df.withColumn(\"splited_genres\", explode(split(col(\"genres\"),\"[|]\")))\n",
    "splited_genres_df = movie_genres.select([\"splited_genres\"]).distinct().orderBy(\"splited_genres\",ascending=True)\n",
    "splited_genres_df.show()"
   ]
  },
  {
   "cell_type": "markdown",
   "metadata": {
    "id": "V1PPEF2NXwuR"
   },
   "source": [
    "- Số lượng phim của mỗi thể loại"
   ]
  },
  {
   "cell_type": "code",
   "execution_count": 27,
   "metadata": {
    "colab": {
     "base_uri": "https://localhost:8080/"
    },
    "executionInfo": {
     "elapsed": 29987,
     "status": "ok",
     "timestamp": 1611548664988,
     "user": {
      "displayName": "Tú Hoàng Thị Cẩm",
      "photoUrl": "https://lh3.googleusercontent.com/a-/AOh14GgfejbFPdONaew_xaQolTuofcnM1uN2s8nzL4AB=s64",
      "userId": "10840746504897194390"
     },
     "user_tz": -420
    },
    "id": "oxvqTpT7X13J",
    "outputId": "62f2a5de-a63c-471a-fe95-aac10bd94a3a"
   },
   "outputs": [
    {
     "name": "stdout",
     "output_type": "stream",
     "text": [
      "+------------------+--------------+\n",
      "|          category|category_count|\n",
      "+------------------+--------------+\n",
      "|             Drama|          4361|\n",
      "|            Comedy|          3756|\n",
      "|          Thriller|          1894|\n",
      "|            Action|          1828|\n",
      "|           Romance|          1596|\n",
      "|         Adventure|          1263|\n",
      "|             Crime|          1199|\n",
      "|            Sci-Fi|           980|\n",
      "|            Horror|           978|\n",
      "|           Fantasy|           779|\n",
      "|          Children|           664|\n",
      "|         Animation|           611|\n",
      "|           Mystery|           573|\n",
      "|       Documentary|           440|\n",
      "|               War|           382|\n",
      "|           Musical|           334|\n",
      "|           Western|           167|\n",
      "|              IMAX|           158|\n",
      "|         Film-Noir|            87|\n",
      "|(no genres listed)|            34|\n",
      "+------------------+--------------+\n",
      "\n",
      "Number of categories:  20\n"
     ]
    }
   ],
   "source": [
    "# Using SQL + Pyspark method\n",
    "category_movie_count = spark.sql(\" with movie_category as (select distinct (explode(split(genres, '[|]'))) as category, * from movies) \\\n",
    "                  select category, count(category) as category_count from movie_category group by category order by category_count desc\")\n",
    "category_movie_count.show()\n",
    "print(\"Number of categories: \",len(category_movie_count.collect()))"
   ]
  },
  {
   "cell_type": "markdown",
   "metadata": {},
   "source": [
    "## **2. Xây dựng mô hình đưa ra đề xuất**"
   ]
  },
  {
   "cell_type": "markdown",
   "metadata": {},
   "source": [
    "### **2.1. Giới thiệu về hệ thống đề xuất**"
   ]
  },
  {
   "cell_type": "markdown",
   "metadata": {},
   "source": [
    "Trong một ứng dụng hệ thống đề xuất, có hai loại thực thể là người dùng (users) và mặt hàng (items). Người dùng có những ưu tiên cho một số mặt hàng, và những ưu tiên này phải có từ dữ liệu. Bản thân dữ liệu được biểu biểu dưới dạng một ma trận ưu tiên (preference matrix) $A$, với mỗi cặp người dùng-mặt hàng, có một giá trị thể hiện mức độ ưu tiên của người dùng với mặt hàng đó. Ví dụ ma trận ưu tiên 5 người dùng và k mặt hàng:"
   ]
  },
  {
   "cell_type": "raw",
   "metadata": {},
   "source": [
    "+------+---+---+---+---+---+\n",
    "|      |IT1|IT2|IT3|...|ITk|\n",
    "+------+---+---+---+---+---+\n",
    "|    U1| 1 |   | 5 |...| 3 |\n",
    "|    U2|   | 2 | 2 |...| 2 |\n",
    "|    U3| 5 |   | 3 |...|   |\n",
    "|    U4| 3 | 3 |   |...| 4 |\n",
    "|    U5|   | 1 |   |...|   |\n",
    "+------+---+---+---+---+---+"
   ]
  },
  {
   "cell_type": "markdown",
   "metadata": {},
   "source": [
    "Giá trị của hàng i, cột j biểu thị sự yêu thích của người dùng i đối với mặt hàng j, lấy ví dụ giá trị 1 (dislike), giá trị 5 (love). Những ô trống tức là không có thông tin về sở thích của người dùng với mặt hàng đó. Mục tiêu của hệ thống đề xuất là dự đoán những ô trống này. Có 2 cách tiếp cận:\n",
    "\n",
    "- Xem xét sự giống nhau dựa trên các thuộc tính của mặt hàng: nhãn hiệu, giá cả, danh mục. Ví tụ IT2 khá giống IT3, U5 không thích IT2 nên có thể họ cũng không thích IT3.\n",
    "- Quan sát xu hướng đánh giá của các người dùng cho các sản phẩm. Ví dụ những người dùng không thích IT2 có xu hướng không thích IT3. Do đó, có thể dự đoán U5 cũng không thích IT3."
   ]
  },
  {
   "cell_type": "markdown",
   "metadata": {},
   "source": [
    "### **2.2 Collaborative-Filtering và ví dụ của Matrix Factorization**"
   ]
  },
  {
   "cell_type": "markdown",
   "metadata": {},
   "source": [
    "Collaborative-Filtering là một kỹ thuật được sử dụng trong hệ thống đề xuất. Nó tập trung vào mối quan hệ giữa người dùng và mặt hàng, trong bài toán này, các nghệ sĩ giữ vai trò là mặt hàng. Độ tương tự của các mặt hàng được xác định bởi sự giống nhau về xếp hạng của các mặt hàng đó bởi những người dùng đã xếp hạng cả hai mặt hàng.\n",
    "\n",
    "Ta sẽ nghiên cứu một thành viên trong lớp các thuật toán được gọi là mô hình latent-factor.\n",
    "\n",
    "Ban đầu ta có $n$ người dùng và $m$ mặt hàng (trong bài này là nghệ sĩ) và playCount tương ứng (xếp hạng ngầm - implicit rating). Ta sẽ xây dựng được ma trận $R$ có $n$ hàng $m$ cột. Mỗi ô $(u,i)$ trong ma trận có giá trị là xếp hạng (rating) của người dùng $u$ cho mặt hàng $i$.\n",
    "\n",
    "Ma trận $R$ có nhiều mục bị thiếu. Chúng ta sẽ sử dụng mô hình matrix factorization để điền những mục này.\n",
    "\n",
    "Ví dụ: cho ma trận 5x5 như bên dưới. Ta muốn xấp xỉ ma trận thành hai ma trận nhỏ hơn $X$ và $Y$."
   ]
  },
  {
   "cell_type": "markdown",
   "metadata": {},
   "source": [
    "$$ M = \\begin{bmatrix}\n",
    "5 &amp;2 &amp;4  &amp;4  &amp;3 \\\\ \n",
    "3 &amp;1  &amp;2  &amp;4  &amp;1 \\\\ \n",
    "2 &amp;  &amp;3  &amp;1  &amp;4 \\\\ \n",
    "2 &amp;5  &amp;4  &amp;3  &amp;5 \\\\ \n",
    "4 &amp;4  &amp;5  &amp;4  &amp; \n",
    "\\end{bmatrix}\n",
    "\\approx M' = \\begin{bmatrix}\n",
    "x_{11} &amp;x_{12} \\\\ \n",
    "x_{21} &amp;x_{22} \\\\ \n",
    "x_{31} &amp;x_{32} \\\\ \n",
    "x_{41} &amp;x_{42} \\\\ \n",
    "x_{51} &amp;x_{52} \n",
    "\\end{bmatrix}\n",
    "\\times\n",
    "\\begin{bmatrix}\n",
    "y_{11} &amp;y_{12}  &amp;y_{13}  &amp;y_{14}  &amp;y_{15} \\\\ \n",
    "y_{21} &amp;y_{22}  &amp;y_{23}  &amp;y_{24}  &amp;y_{25} \n",
    "\\end{bmatrix} $$"
   ]
  },
  {
   "cell_type": "markdown",
   "metadata": {},
   "source": [
    "$M'$ là một xấp xỉ càng gần $M$ càng tốt. Sai số $M$ và $M'$ được tính bằng tổng bình phương sai số của các phần tử không trống trong $M$ và các phần tử tương ứng trong $M'$. Trong $M'$ không có phần tử trống, do đó để xem mức độ người dùng i ưa thích mặt hàng j ta chỉ cần lấy ra giá trị $M{'_{i,j}}$.\n",
    "\n",
    "Vấn đề là làm sao tính được $X$ và $Y$. Ta không thể tính cùng lúc $X$ và $Y$ đều tốt nhất nhưng nếu biết $Y$ ta có thể tính $X$ tốt nhất và ngược lại. Do đó, ta khởi tạo những giá trị ban đầu cho $X$ và $Y$, ta tính $X$ tốt nhất theo $Y$ và sau đó tính $Y$ tốt nhất theo $X$ mới. Lặp lại quá trình này cho đến khi sai số $X \\times Y$ tới M là hội tụ.\n",
    "\n",
    "Với ví dụ trên, ta khởi tạo giá trị của $X$ và $Y$ như sau:"
   ]
  },
  {
   "cell_type": "markdown",
   "metadata": {},
   "source": [
    "$$ M' = X \\times Y = \\begin{bmatrix}\n",
    "1 &amp;1 \\\\ \n",
    "1 &amp;1 \\\\ \n",
    "1 &amp;1 \\\\ \n",
    "1 &amp;1 \\\\ \n",
    "1 &amp;1 \n",
    "\\end{bmatrix}\n",
    "\\times \\begin{bmatrix}\n",
    "1 &amp;1 &amp;1 &amp;1 &amp;1 \\\\\n",
    "1 &amp;1 &amp;1 &amp;1 &amp;1\n",
    "\\end{bmatrix}\n",
    "= \\begin{bmatrix}\n",
    "2 &amp;2 &amp;2 &amp;2 &amp;2 \\\\\n",
    "2 &amp;2 &amp;2 &amp;2 &amp;2 \\\\\n",
    "2 &amp;2 &amp;2 &amp;2 &amp;2 \\\\\n",
    "2 &amp;2 &amp;2 &amp;2 &amp;2 \\\\\n",
    "2 &amp;2 &amp;2 &amp;2 &amp;2\n",
    "\\end{bmatrix} $$"
   ]
  },
  {
   "cell_type": "markdown",
   "metadata": {},
   "source": [
    "Trong lần lặp đầu tiên, tính trung bình bình phương sai số (RMSE - Root Mean Square Error) giữa $XY$ và $M$ (lưu ý: ô nào trống bỏ qua):"
   ]
  },
  {
   "cell_type": "markdown",
   "metadata": {},
   "source": [
    "$$RMSE = \\sqrt {\\frac{{{{\\left( {5 - 2} \\right)}^2} + {{\\left( {2 - 2} \\right)}^2} + ... + {{\\left( {5 - 2} \\right)}^2} + {{\\left( {4 - 2} \\right)}^2}}}{{23}}}  = \\sqrt {\\frac{{75}}{{23}}}  = 1.806$$"
   ]
  },
  {
   "cell_type": "markdown",
   "metadata": {},
   "source": [
    "23 là số ô không trống trong $M$."
   ]
  },
  {
   "cell_type": "markdown",
   "metadata": {},
   "source": [
    "Tiếp theo, với $Y$ đã cho, ta tính $X$ bằng cách tìm giá trị tốt nhất cho ${X_{11}}$."
   ]
  },
  {
   "cell_type": "markdown",
   "metadata": {},
   "source": [
    "$$ M' = X \\times Y = \\begin{bmatrix}\n",
    "x &amp;1 \\\\ \n",
    "1 &amp;1 \\\\ \n",
    "1 &amp;1 \\\\ \n",
    "1 &amp;1 \\\\ \n",
    "1 &amp;1 \n",
    "\\end{bmatrix}\n",
    "\\times \\begin{bmatrix}\n",
    "1 &amp;1 &amp;1 &amp;1 &amp;1 \\\\\n",
    "1 &amp;1 &amp;1 &amp;1 &amp;1\n",
    "\\end{bmatrix}\n",
    "= \\begin{bmatrix}\n",
    "x+1 &amp;x+1 &amp;x+1 &amp;x+1 &amp;x+1 \\\\\n",
    "2 &amp;2 &amp;2 &amp;2 &amp;2 \\\\\n",
    "2 &amp;2 &amp;2 &amp;2 &amp;2 \\\\\n",
    "2 &amp;2 &amp;2 &amp;2 &amp;2 \\\\\n",
    "2 &amp;2 &amp;2 &amp;2 &amp;2\n",
    "\\end{bmatrix} $$"
   ]
  },
  {
   "cell_type": "markdown",
   "metadata": {},
   "source": [
    "Bây giờ để giảm thiểu $RMSE$, ta sẽ giảm thiểu sai số ở hàng đầu tiên, bằng cách đạo hàm ta sẽ tìm được $x = 2.6$"
   ]
  },
  {
   "cell_type": "markdown",
   "metadata": {},
   "source": [
    "$$ (5 - (x + 1))^{2} + (2 - (x + 1))^{2} + (4 - (x + 1))^{2} + (4 - (x + 1))^{2} + (3 - (x + 1))^{2} $$"
   ]
  },
  {
   "cell_type": "markdown",
   "metadata": {},
   "source": [
    "Với giá trị mới của $X$, ta có thể tính giá trị tốt nhất cho $Y$"
   ]
  },
  {
   "cell_type": "markdown",
   "metadata": {},
   "source": [
    "$$  M' = X \\times Y = \\begin{bmatrix}\n",
    "2.6 &amp;1 \\\\ \n",
    "1 &amp;1 \\\\ \n",
    "1 &amp;1 \\\\ \n",
    "1 &amp;1 \\\\ \n",
    "1 &amp;1 \n",
    "\\end{bmatrix}\n",
    "\\times \\begin{bmatrix}\n",
    "y &amp;1 &amp;1 &amp;1 &amp;1 \\\\\n",
    "1 &amp;1 &amp;1 &amp;1 &amp;1\n",
    "\\end{bmatrix}\n",
    "= \\begin{bmatrix}\n",
    "3.6 &amp;3.6 &amp;3.6 &amp;3.6 &amp;3.6 \\\\\n",
    "2 &amp;2 &amp;2 &amp;2 &amp;2 \\\\\n",
    "2 &amp;2 &amp;2 &amp;2 &amp;2 \\\\\n",
    "2 &amp;2 &amp;2 &amp;2 &amp;2 \\\\\n",
    "2 &amp;2 &amp;2 &amp;2 &amp;2\n",
    "\\end{bmatrix} $$"
   ]
  },
  {
   "cell_type": "markdown",
   "metadata": {},
   "source": [
    "Thực hiện tương tự, ta sẽ tìm được $y=1.617$. Sau đó, ta có thể kiểm tra nếu $RMSE$ không hội tụ, ta tiếp tục cập nhật $X$ và $Y$ và ngược lại. Trong ví dụ này, ta chỉ cập nhật một phần tử của mỗi ma trận trong mỗi lần lặp. Thực tế chúng ta có thể cập nhật một hàng đầy đủ hoặc một ma trận đầy đủ trong một lần."
   ]
  },
  {
   "cell_type": "markdown",
   "metadata": {},
   "source": [
    "### **2.3 Matrix Factorization và thuật toán ALS trên một máy**"
   ]
  },
  {
   "cell_type": "markdown",
   "metadata": {},
   "source": [
    "Nếu chúng ta chọn $k$ latent features và mô tả mỗi người dùng $u$ với một vector $k$-chiều $x_{u}$, và mỗi mặt hàng $i$ với một vector $k$-chiều $y_{i}$.\n",
    "\n",
    "Sau đó, để dự đoán xếp hạng của người dùng $u$ cho mặt hàng $i$, ta tính: ${r_{ui}} \\approx x_u^T{y_i}$\n",
    "\n",
    "Có $n$ người dùng, sẽ có $n$ vector ${x_1},...,{x_n}$. Có $m$ mặt hàng, sẽ có $m$ vector ${y_1},...,{y_m}$. Ta định nghĩa ma trận $X$ và $Y$ như sau:"
   ]
  },
  {
   "cell_type": "markdown",
   "metadata": {},
   "source": [
    "Mục tiêu là phải ước tính ma trận $R \\approx {X^T}Y$ hay bài toán đưa về tìm $X$ và $Y$ tốt nhất để tối ưu hàm mục tiêu dưới đây:"
   ]
  },
  {
   "cell_type": "markdown",
   "metadata": {},
   "source": [
    "$$\\mathop {\\min }\\limits_{X,Y} \\sum\\limits_{{r_{ui}}observed} {{{\\left( {{r_{ui}} - x_u^T{y_i}} \\right)}^2} + \\lambda \\left( {\\sum\\limits_u {{{\\left\\| {{x_u}} \\right\\|}^2} + \\sum\\limits_i {{{\\left\\| {{y_i}} \\right\\|}^2}} } } \\right)}$$"
   ]
  },
  {
   "cell_type": "markdown",
   "metadata": {},
   "source": [
    "Cách làm là ta sửa $Y$ và tối ưu $X$, sau đó sửa $X$ và tối ưu $Y$, lặp lại cho đến khi hội tụ. Đây được gọi là thuật toán ALS (Alternating Least Squares). Dưới đây là giả code của thuật toán:"
   ]
  },
  {
   "cell_type": "markdown",
   "metadata": {},
   "source": [
    "Khởi tạo $X$, $Y$\n",
    "\n",
    "while (không hội tụ) do\n",
    "\n",
    "for $u = 1...n$ do\n",
    "\n",
    "${x_u} = {\\left( {\\sum\\nolimits_{{r_u}i \\in {r_{u*}}} {{y_i}y_i^T + \\lambda {I_k}} } \\right)^{ - 1}}\\sum\\nolimits_{{r_u}i \\in {r_{u*}}} {{r_{ui}}{y_i}} $\n",
    "\n",
    "end for\n",
    "\n",
    "for $u = 1...n$ do\n",
    "\n",
    "${y_i} = {\\left( {\\sum\\nolimits_{{r_u}i \\in {r_{*i}}} {{x_u}x_u^T + \\lambda {I_k}} } \\right)^{ - 1}}\\sum\\nolimits_{{r_u}i \\in {r_{*i}}} {{r_{ui}}{x_u}} $\n",
    "\n",
    "end for\n",
    "\n",
    "end while"
   ]
  },
  {
   "cell_type": "markdown",
   "metadata": {},
   "source": [
    "### **2.4 Thuật toán ALS song song trên Spark**"
   ]
  },
  {
   "cell_type": "markdown",
   "metadata": {},
   "source": [
    "Ta có thể tính toán thuật toán ALS song song trên Spark bằng cách sau:\n",
    "\n",
    "Dữ liệu đầu vào xếp hạng (ratings) và tham số ($X$ và $Y$) được lưu trữ trong Spark RDD. Cụ thể, các xếp hạng được lưu trữ dưới dạng RDD của một bộ ba\n",
    "\n",
    "Ratings: RDD$\\left( {\\left( {u,i,{r_{ui}}} \\right),...} \\right)$"
   ]
  },
  {
   "cell_type": "markdown",
   "metadata": {},
   "source": [
    "Ma trận $X$ và $Y$ được lưu trữ dưới dạng RDD của vectors:\n",
    "\n",
    "$X$: RDD$\\left( {{x_1},...,{x_n}} \\right)$\n",
    "\n",
    "$Y$: RDD$\\left( {{y_1},...,{y_m}} \\right)$"
   ]
  },
  {
   "cell_type": "markdown",
   "metadata": {},
   "source": [
    "Biểu thức tính $x_u$:\n",
    "\n",
    "${x_u} = {\\left( {\\sum\\nolimits_{{r_u}i \\in {r_{u*}}} {{y_i}y_i^T + \\lambda {I_k}} } \\right)^{ - 1}}\\sum\\nolimits_{{r_u}i \\in {r_{u*}}} {{r_{ui}}{y_i}}$"
   ]
  },
  {
   "cell_type": "markdown",
   "metadata": {},
   "source": [
    "Gọi phần tổng đầu tiên là part A, phần tổng thứ hai là part B. Để tính toán các part như vậy song song, ta có thể thực hiện với giả code sau:\n",
    "\n",
    "- join RDD Ratings với RDD ma trận $Y$ bằng key $i$ (items)\n",
    "- map để tính toán ${y_i}y_i^T$ và phát ra bằng key $u$ (user)\n",
    "- reduceByKey $u$ (user) để tính toán $\\sum\\nolimits_{{r_u}i \\in {r_{u*}}} {{y_i}y_i^T}$\n",
    "- Đảo ngược\n",
    "- reduceByKey $u$ (user) để tính toán $\\sum\\nolimits_{{r_u}i \\in {r_{u*}}} {{r_{ui}}{y_i}}$"
   ]
  },
  {
   "cell_type": "markdown",
   "metadata": {},
   "source": [
    "Tương tự, ta cũng tính toán được $y_i$"
   ]
  },
  {
   "cell_type": "markdown",
   "metadata": {
    "id": "o9ePGfK5X_Yx"
   },
   "source": [
    "## **3. Phân tích**"
   ]
  },
  {
   "cell_type": "markdown",
   "metadata": {
    "id": "CnYVOnK1Z5rN"
   },
   "source": [
    "Tập dữ liệu thực sự chưa hoàn chỉnh, mặc dù không có giá trị Null, vì có 34 mục được gắn nhãn là (no genres listed). \n",
    "\n",
    "Tuy nhiên, vì chúng ta sẽ sử dụng phương pháp **Non-negative Matrix Factorization** cho hệ thống đề xuất phim, hệ thống này chỉ quan tâm đến userId và movieId, mà không xem xét các danh mục, **không cần loại bỏ các phim được gắn nhãn là (no genres listed)**"
   ]
  },
  {
   "cell_type": "code",
   "execution_count": 28,
   "metadata": {
    "colab": {
     "base_uri": "https://localhost:8080/"
    },
    "executionInfo": {
     "elapsed": 1899,
     "status": "ok",
     "timestamp": 1611548672996,
     "user": {
      "displayName": "Tú Hoàng Thị Cẩm",
      "photoUrl": "https://lh3.googleusercontent.com/a-/AOh14GgfejbFPdONaew_xaQolTuofcnM1uN2s8nzL4AB=s64",
      "userId": "10840746504897194390"
     },
     "user_tz": -420
    },
    "id": "3bm5HZ0JadYN",
    "outputId": "0d61a2de-a537-4088-84ed-1b7437a3d35b"
   },
   "outputs": [
    {
     "name": "stdout",
     "output_type": "stream",
     "text": [
      "+------------------+--------------+\n",
      "|    splited_genres|category_count|\n",
      "+------------------+--------------+\n",
      "|             Drama|          4361|\n",
      "|            Comedy|          3756|\n",
      "|          Thriller|          1894|\n",
      "|            Action|          1828|\n",
      "|           Romance|          1596|\n",
      "|         Adventure|          1263|\n",
      "|             Crime|          1199|\n",
      "|            Sci-Fi|           980|\n",
      "|            Horror|           978|\n",
      "|           Fantasy|           779|\n",
      "|          Children|           664|\n",
      "|         Animation|           611|\n",
      "|           Mystery|           573|\n",
      "|       Documentary|           440|\n",
      "|               War|           382|\n",
      "|           Musical|           334|\n",
      "|           Western|           167|\n",
      "|              IMAX|           158|\n",
      "|         Film-Noir|            87|\n",
      "|(no genres listed)|            34|\n",
      "+------------------+--------------+\n",
      "\n"
     ]
    }
   ],
   "source": [
    "#Using PySpark method\n",
    "from pyspark.sql.functions import col, explode, split\n",
    "movie_genres = movies_df.withColumn(\"splited_genres\", explode(split(col(\"genres\"),\"[|]\")))\n",
    "splited_genres_df = movie_genres.groupBy([\"splited_genres\"]).count().orderBy(\"count\",ascending=False)\n",
    "splited_genres_df = splited_genres_df.withColumnRenamed('count','category_count')\n",
    "splited_genres_df.show()"
   ]
  },
  {
   "cell_type": "code",
   "execution_count": 29,
   "metadata": {
    "colab": {
     "base_uri": "https://localhost:8080/"
    },
    "executionInfo": {
     "elapsed": 2524,
     "status": "ok",
     "timestamp": 1611548673631,
     "user": {
      "displayName": "Tú Hoàng Thị Cẩm",
      "photoUrl": "https://lh3.googleusercontent.com/a-/AOh14GgfejbFPdONaew_xaQolTuofcnM1uN2s8nzL4AB=s64",
      "userId": "10840746504897194390"
     },
     "user_tz": -420
    },
    "id": "8fSkqudaa6KQ",
    "outputId": "add3554f-cd1e-4b0b-9f17-f39965e379ac"
   },
   "outputs": [
    {
     "name": "stdout",
     "output_type": "stream",
     "text": [
      "+-------+--------------------+------------------+------------------+--------------------+------------------+\n",
      "|movieId|               title|            genres|    splited_genres|               title|            genres|\n",
      "+-------+--------------------+------------------+------------------+--------------------+------------------+\n",
      "| 114335|   La cravate (1957)|(no genres listed)|(no genres listed)|   La cravate (1957)|(no genres listed)|\n",
      "| 122888|      Ben-hur (2016)|(no genres listed)|(no genres listed)|      Ben-hur (2016)|(no genres listed)|\n",
      "| 122896|Pirates of the Ca...|(no genres listed)|(no genres listed)|Pirates of the Ca...|(no genres listed)|\n",
      "| 129250|   Superfast! (2015)|(no genres listed)|(no genres listed)|   Superfast! (2015)|(no genres listed)|\n",
      "| 132084| Let It Be Me (1995)|(no genres listed)|(no genres listed)| Let It Be Me (1995)|(no genres listed)|\n",
      "| 134861|Trevor Noah: Afri...|(no genres listed)|(no genres listed)|Trevor Noah: Afri...|(no genres listed)|\n",
      "| 141131|    Guardians (2016)|(no genres listed)|(no genres listed)|    Guardians (2016)|(no genres listed)|\n",
      "| 141866|   Green Room (2015)|(no genres listed)|(no genres listed)|   Green Room (2015)|(no genres listed)|\n",
      "| 142456|The Brand New Tes...|(no genres listed)|(no genres listed)|The Brand New Tes...|(no genres listed)|\n",
      "| 143410|          Hyena Road|(no genres listed)|(no genres listed)|          Hyena Road|(no genres listed)|\n",
      "| 147250|The Adventures of...|(no genres listed)|(no genres listed)|The Adventures of...|(no genres listed)|\n",
      "| 149330|A Cosmic Christma...|(no genres listed)|(no genres listed)|A Cosmic Christma...|(no genres listed)|\n",
      "| 152037|  Grease Live (2016)|(no genres listed)|(no genres listed)|  Grease Live (2016)|(no genres listed)|\n",
      "| 155589|Noin 7 veljestä (...|(no genres listed)|(no genres listed)|Noin 7 veljestä (...|(no genres listed)|\n",
      "| 156605|            Paterson|(no genres listed)|(no genres listed)|            Paterson|(no genres listed)|\n",
      "| 159161|Ali Wong: Baby Co...|(no genres listed)|(no genres listed)|Ali Wong: Baby Co...|(no genres listed)|\n",
      "| 159779|A Midsummer Night...|(no genres listed)|(no genres listed)|A Midsummer Night...|(no genres listed)|\n",
      "| 161008|The Forbidden Dan...|(no genres listed)|(no genres listed)|The Forbidden Dan...|(no genres listed)|\n",
      "| 165489|Ethel & Ernest (2...|(no genres listed)|(no genres listed)|Ethel & Ernest (2...|(no genres listed)|\n",
      "| 166024|     Whiplash (2013)|(no genres listed)|(no genres listed)|     Whiplash (2013)|(no genres listed)|\n",
      "+-------+--------------------+------------------+------------------+--------------------+------------------+\n",
      "only showing top 20 rows\n",
      "\n"
     ]
    }
   ],
   "source": [
    "#show các movie với thể loại là (no genres listed)\n",
    "movie_genres.where(col(\"splited_genres\").isin([\"(no genres listed)\"])).join(movies_df,\"movieId\",\"left\").show()"
   ]
  },
  {
   "cell_type": "markdown",
   "metadata": {
    "id": "Hr5aS3Bwfs8v"
   },
   "source": [
    "## **4.Tiếp cận dựa trên SPARK ALS cho training model**"
   ]
  },
  {
   "cell_type": "markdown",
   "metadata": {
    "id": "E80vL6z7gaDo"
   },
   "source": [
    "Chúng ta sẽ sử dụng Spark ML để dự đoán xếp hạng, vì vậy hãy load lại \"rating.csv\" bằng cách sử dụng sc.textFile và sau đó chuyển đổi nó thành tuples (user, item, rating)"
   ]
  },
  {
   "cell_type": "code",
   "execution_count": 30,
   "metadata": {
    "colab": {
     "base_uri": "https://localhost:8080/"
    },
    "executionInfo": {
     "elapsed": 610,
     "status": "ok",
     "timestamp": 1611548684692,
     "user": {
      "displayName": "Tú Hoàng Thị Cẩm",
      "photoUrl": "https://lh3.googleusercontent.com/a-/AOh14GgfejbFPdONaew_xaQolTuofcnM1uN2s8nzL4AB=s64",
      "userId": "10840746504897194390"
     },
     "user_tz": -420
    },
    "id": "3KT09DljfoVs",
    "outputId": "dc42d683-14af-47c3-8933-25dcc49d17ef"
   },
   "outputs": [
    {
     "name": "stdout",
     "output_type": "stream",
     "text": [
      "+------+-------+------+---------+\n",
      "|userId|movieId|rating|timestamp|\n",
      "+------+-------+------+---------+\n",
      "|     1|      1|   4.0|964982703|\n",
      "|     1|      3|   4.0|964981247|\n",
      "|     1|      6|   4.0|964982224|\n",
      "|     1|     47|   5.0|964983815|\n",
      "|     1|     50|   5.0|964982931|\n",
      "|     1|     70|   3.0|964982400|\n",
      "|     1|    101|   5.0|964980868|\n",
      "|     1|    110|   4.0|964982176|\n",
      "|     1|    151|   5.0|964984041|\n",
      "|     1|    157|   5.0|964984100|\n",
      "|     1|    163|   5.0|964983650|\n",
      "|     1|    216|   5.0|964981208|\n",
      "|     1|    223|   3.0|964980985|\n",
      "|     1|    231|   5.0|964981179|\n",
      "|     1|    235|   4.0|964980908|\n",
      "|     1|    260|   5.0|964981680|\n",
      "|     1|    296|   3.0|964982967|\n",
      "|     1|    316|   3.0|964982310|\n",
      "|     1|    333|   5.0|964981179|\n",
      "|     1|    349|   4.0|964982563|\n",
      "+------+-------+------+---------+\n",
      "only showing top 20 rows\n",
      "\n"
     ]
    }
   ],
   "source": [
    "ratings_df.show()"
   ]
  },
  {
   "cell_type": "markdown",
   "metadata": {},
   "source": [
    "Trong bước tiền xử lý dữ liệu, chuyển đổi cột movieId, userId, rating từ kiểu string sang kiểu Int và kiểu float để có thể tạo thành các features để cung cấp cho mô hình học máy. Trong quá trình phân tích dữ liệu, chúng em thấy rằng có một số thể loại và tên phim bị thiếu. Tuy nhiên, vì chỉ quan tâm đến userId và movieId và điểm rating trong quá trình đề xuất, chúng em chọn giữ những bộ phim thiếu thể loại và tiêu đề ở đây."
   ]
  },
  {
   "cell_type": "code",
   "execution_count": 31,
   "metadata": {
    "executionInfo": {
     "elapsed": 907,
     "status": "ok",
     "timestamp": 1611548684998,
     "user": {
      "displayName": "Tú Hoàng Thị Cẩm",
      "photoUrl": "https://lh3.googleusercontent.com/a-/AOh14GgfejbFPdONaew_xaQolTuofcnM1uN2s8nzL4AB=s64",
      "userId": "10840746504897194390"
     },
     "user_tz": -420
    },
    "id": "KKKvcC3kguMg"
   },
   "outputs": [],
   "source": [
    "#drop cột timestamp vì không cần thiết\n",
    "movie_ratings=ratings_df.drop('timestamp')"
   ]
  },
  {
   "cell_type": "code",
   "execution_count": 33,
   "metadata": {
    "colab": {
     "base_uri": "https://localhost:8080/"
    },
    "executionInfo": {
     "elapsed": 1241,
     "status": "ok",
     "timestamp": 1611548685345,
     "user": {
      "displayName": "Tú Hoàng Thị Cẩm",
      "photoUrl": "https://lh3.googleusercontent.com/a-/AOh14GgfejbFPdONaew_xaQolTuofcnM1uN2s8nzL4AB=s64",
      "userId": "10840746504897194390"
     },
     "user_tz": -420
    },
    "id": "3WO6560xg7eH",
    "outputId": "a77da4d2-a963-4303-ddc3-42eb8a494de5"
   },
   "outputs": [
    {
     "name": "stdout",
     "output_type": "stream",
     "text": [
      "+------+-------+------+\n",
      "|userId|movieId|rating|\n",
      "+------+-------+------+\n",
      "|     1|      1|   4.0|\n",
      "|     1|      3|   4.0|\n",
      "|     1|      6|   4.0|\n",
      "|     1|     47|   5.0|\n",
      "|     1|     50|   5.0|\n",
      "|     1|     70|   3.0|\n",
      "|     1|    101|   5.0|\n",
      "|     1|    110|   4.0|\n",
      "|     1|    151|   5.0|\n",
      "|     1|    157|   5.0|\n",
      "|     1|    163|   5.0|\n",
      "|     1|    216|   5.0|\n",
      "|     1|    223|   3.0|\n",
      "|     1|    231|   5.0|\n",
      "|     1|    235|   4.0|\n",
      "|     1|    260|   5.0|\n",
      "|     1|    296|   3.0|\n",
      "|     1|    316|   3.0|\n",
      "|     1|    333|   5.0|\n",
      "|     1|    349|   4.0|\n",
      "+------+-------+------+\n",
      "only showing top 20 rows\n",
      "\n"
     ]
    }
   ],
   "source": [
    "movie_ratings.show()"
   ]
  },
  {
   "cell_type": "markdown",
   "metadata": {
    "id": "IaxlW6tKg_jv"
   },
   "source": [
    "## **5. Lựa chọn và đánh giá mô hình ALS**"
   ]
  },
  {
   "cell_type": "markdown",
   "metadata": {
    "id": "vdab75RShF-v"
   },
   "source": [
    "Với mô hình ALS ta có thể dùng grid search để tìm siêu tham số tối ưu nhất"
   ]
  },
  {
   "cell_type": "markdown",
   "metadata": {},
   "source": [
    "### **5.1. Training mô hình:**"
   ]
  },
  {
   "cell_type": "markdown",
   "metadata": {},
   "source": [
    "Đầu tiên phải import các package cần thiết"
   ]
  },
  {
   "cell_type": "code",
   "execution_count": 34,
   "metadata": {
    "executionInfo": {
     "elapsed": 814,
     "status": "ok",
     "timestamp": 1611548703541,
     "user": {
      "displayName": "Tú Hoàng Thị Cẩm",
      "photoUrl": "https://lh3.googleusercontent.com/a-/AOh14GgfejbFPdONaew_xaQolTuofcnM1uN2s8nzL4AB=s64",
      "userId": "10840746504897194390"
     },
     "user_tz": -420
    },
    "id": "oOcDse9xhQyX"
   },
   "outputs": [],
   "source": [
    "# import package\n",
    "from pyspark.ml.evaluation import RegressionEvaluator\n",
    "from pyspark.ml.recommendation import ALS\n",
    "from pyspark.ml.tuning import CrossValidator,ParamGridBuilder"
   ]
  },
  {
   "cell_type": "markdown",
   "metadata": {},
   "source": [
    "Ngoài ra, để đào tạo mô hình và mô hình thử nghiệm, chúng em tách toàn bộ tập dữ liệu thành training data 80% và test data 20% một cách ngẫu nhiên."
   ]
  },
  {
   "cell_type": "code",
   "execution_count": 35,
   "metadata": {
    "executionInfo": {
     "elapsed": 1124,
     "status": "ok",
     "timestamp": 1611548703862,
     "user": {
      "displayName": "Tú Hoàng Thị Cẩm",
      "photoUrl": "https://lh3.googleusercontent.com/a-/AOh14GgfejbFPdONaew_xaQolTuofcnM1uN2s8nzL4AB=s64",
      "userId": "10840746504897194390"
     },
     "user_tz": -420
    },
    "id": "I5_j1AQyheQf"
   },
   "outputs": [],
   "source": [
    "#chia dữ liệu thành hai tập train , test\n",
    "(training,test)=movie_ratings.randomSplit([0.8,0.2])"
   ]
  },
  {
   "cell_type": "markdown",
   "metadata": {},
   "source": [
    "Xây dựng model theo ALS đã được cung cấp, và xác định các giá trị của tham số của model."
   ]
  },
  {
   "cell_type": "code",
   "execution_count": 36,
   "metadata": {
    "colab": {
     "base_uri": "https://localhost:8080/"
    },
    "executionInfo": {
     "elapsed": 1118,
     "status": "ok",
     "timestamp": 1611548703863,
     "user": {
      "displayName": "Tú Hoàng Thị Cẩm",
      "photoUrl": "https://lh3.googleusercontent.com/a-/AOh14GgfejbFPdONaew_xaQolTuofcnM1uN2s8nzL4AB=s64",
      "userId": "10840746504897194390"
     },
     "user_tz": -420
    },
    "id": "xWz_CGl0kij5",
    "outputId": "34cedff8-61db-4020-b7f9-b122f7990362"
   },
   "outputs": [
    {
     "data": {
      "text/plain": [
       "('userId', 'movieId', 'rating', 'Prediction')"
      ]
     },
     "execution_count": 36,
     "metadata": {
      "tags": []
     },
     "output_type": "execute_result"
    }
   ],
   "source": [
    "als_model = ALS(rank=10, maxIter=10,coldStartStrategy='drop' )\n",
    "als_model.setUserCol(\"userId\")\n",
    "als_model.setItemCol(\"movieId\")\n",
    "als_model.setRatingCol(\"rating\")\n",
    "als_model.setPredictionCol(\"Prediction\")\n",
    "als_model.getUserCol(),als_model.getItemCol(),als_model.getRatingCol(),als_model.getPredictionCol(),"
   ]
  },
  {
   "cell_type": "markdown",
   "metadata": {},
   "source": [
    "Trong đó: \n",
    "    \n",
    "- rank là số feature, \n",
    "- maxIter là số lần lặp lại(mặc định là 10)\n",
    "- coldStartStrategy  dùng để drop bất kỳ hàng nào có chứa giá trị Null"
   ]
  },
  {
   "cell_type": "markdown",
   "metadata": {},
   "source": [
    "Sử dụng grid search để điều chỉnh mô hình, sử dụng ParamGridBuilder được cung cấp"
   ]
  },
  {
   "cell_type": "code",
   "execution_count": 37,
   "metadata": {
    "executionInfo": {
     "elapsed": 1111,
     "status": "ok",
     "timestamp": 1611548703863,
     "user": {
      "displayName": "Tú Hoàng Thị Cẩm",
      "photoUrl": "https://lh3.googleusercontent.com/a-/AOh14GgfejbFPdONaew_xaQolTuofcnM1uN2s8nzL4AB=s64",
      "userId": "10840746504897194390"
     },
     "user_tz": -420
    },
    "id": "6e1Vd7Xikqgo"
   },
   "outputs": [],
   "source": [
    "#Tune model using ParamGridBuilder\n",
    "grid = ParamGridBuilder()\\\n",
    "  .baseOn({als_model.predictionCol:\"Prediction\"})\\\n",
    "  .addGrid(als_model.regParam,[0.1,0.5,0.8])\\\n",
    "  .addGrid(als_model.rank,[5,10,15])\\\n",
    "  .build()"
   ]
  },
  {
   "cell_type": "markdown",
   "metadata": {},
   "source": [
    "Trong đó: \n",
    "    \n",
    "- regParam: tham số regularization"
   ]
  },
  {
   "cell_type": "markdown",
   "metadata": {},
   "source": [
    "Xác định thuật toán để đánh giá là trung bình bình phương sai số (RMSE - Root Mean Square Error):"
   ]
  },
  {
   "cell_type": "code",
   "execution_count": 38,
   "metadata": {
    "executionInfo": {
     "elapsed": 1105,
     "status": "ok",
     "timestamp": 1611548703864,
     "user": {
      "displayName": "Tú Hoàng Thị Cẩm",
      "photoUrl": "https://lh3.googleusercontent.com/a-/AOh14GgfejbFPdONaew_xaQolTuofcnM1uN2s8nzL4AB=s64",
      "userId": "10840746504897194390"
     },
     "user_tz": -420
    },
    "id": "PU17QsyRkuaC"
   },
   "outputs": [],
   "source": [
    "# Define evaluator as RMSE\n",
    "evaluator= RegressionEvaluator(predictionCol=\"Prediction\",labelCol=\"rating\",metricName=\"rmse\")"
   ]
  },
  {
   "cell_type": "markdown",
   "metadata": {},
   "source": [
    "Xây dựng Cross Validation:"
   ]
  },
  {
   "cell_type": "code",
   "execution_count": 39,
   "metadata": {
    "executionInfo": {
     "elapsed": 1421,
     "status": "ok",
     "timestamp": 1611548704188,
     "user": {
      "displayName": "Tú Hoàng Thị Cẩm",
      "photoUrl": "https://lh3.googleusercontent.com/a-/AOh14GgfejbFPdONaew_xaQolTuofcnM1uN2s8nzL4AB=s64",
      "userId": "10840746504897194390"
     },
     "user_tz": -420
    },
    "id": "8r8On3vkkxoi"
   },
   "outputs": [],
   "source": [
    "# Build Cross validation \n",
    "cv = CrossValidator(estimator=als_model, \n",
    "            estimatorParamMaps=grid,\n",
    "            evaluator=evaluator,  \n",
    "            numFolds=5,seed=2020,parallelism=2)"
   ]
  },
  {
   "cell_type": "markdown",
   "metadata": {},
   "source": [
    "Áp dụng ALS model cho training data và lấy ra model với tham số tốt nhất:"
   ]
  },
  {
   "cell_type": "code",
   "execution_count": 40,
   "metadata": {
    "executionInfo": {
     "elapsed": 461446,
     "status": "ok",
     "timestamp": 1611549164219,
     "user": {
      "displayName": "Tú Hoàng Thị Cẩm",
      "photoUrl": "https://lh3.googleusercontent.com/a-/AOh14GgfejbFPdONaew_xaQolTuofcnM1uN2s8nzL4AB=s64",
      "userId": "10840746504897194390"
     },
     "user_tz": -420
    },
    "id": "Cb6ANNx4k0j6"
   },
   "outputs": [],
   "source": [
    "#Fit ALS model to training data\n",
    "cvModel = cv.fit(training)"
   ]
  },
  {
   "cell_type": "code",
   "execution_count": null,
   "metadata": {},
   "outputs": [],
   "source": [
    "#Fit ALS model to training data\n",
    "cvModel = cv.fit(training)\n",
    "#Extract best model from the tuning exercise using ParamGridBuilder\n",
    "best_model = cvModel.bestModel\n",
    "best_model"
   ]
  },
  {
   "cell_type": "markdown",
   "metadata": {},
   "source": [
    "Ta thu được kết quả model tốt nhất:  ALSModel: uid=ALS_fe40882ea590, rank=5"
   ]
  },
  {
   "cell_type": "markdown",
   "metadata": {},
   "source": [
    "Sử dụng model tốt nhất vừa tìm được để áp vào tập test data và tính RMSE cho kết quả mới tính ra được:"
   ]
  },
  {
   "cell_type": "code",
   "execution_count": 42,
   "metadata": {
    "executionInfo": {
     "elapsed": 468031,
     "status": "ok",
     "timestamp": 1611549170819,
     "user": {
      "displayName": "Tú Hoàng Thị Cẩm",
      "photoUrl": "https://lh3.googleusercontent.com/a-/AOh14GgfejbFPdONaew_xaQolTuofcnM1uN2s8nzL4AB=s64",
      "userId": "10840746504897194390"
     },
     "user_tz": -420
    },
    "id": "NE7WxhJroFf6"
   },
   "outputs": [],
   "source": [
    "#Generate predictions and evaluate using RMSE\n",
    "predictions=best_model.transform(test)\n",
    "rmse = evaluator.evaluate(predictions)"
   ]
  },
  {
   "cell_type": "markdown",
   "metadata": {},
   "source": [
    "In các chỉ số đánh giá và thông số mô hình:"
   ]
  },
  {
   "cell_type": "code",
   "execution_count": 43,
   "metadata": {
    "colab": {
     "base_uri": "https://localhost:8080/"
    },
    "executionInfo": {
     "elapsed": 468024,
     "status": "ok",
     "timestamp": 1611549170820,
     "user": {
      "displayName": "Tú Hoàng Thị Cẩm",
      "photoUrl": "https://lh3.googleusercontent.com/a-/AOh14GgfejbFPdONaew_xaQolTuofcnM1uN2s8nzL4AB=s64",
      "userId": "10840746504897194390"
     },
     "user_tz": -420
    },
    "id": "sf3o_bPfoYC7",
    "outputId": "e7598cdb-a423-482c-b563-272fb333dbbc"
   },
   "outputs": [
    {
     "name": "stdout",
     "output_type": "stream",
     "text": [
      "RMSE = 0.8777575483805319\n",
      "**Best Model**\n",
      " Rank: 5\n",
      " MaxIter: 10\n",
      " RegParam: 0.1\n"
     ]
    },
    {
     "data": {
      "text/plain": [
       "(None,)"
      ]
     },
     "execution_count": 43,
     "metadata": {
      "tags": []
     },
     "output_type": "execute_result"
    }
   ],
   "source": [
    "#Print evaluation metrics and model parameters\n",
    "print (\"RMSE = \"+str(rmse))\n",
    "print (\"**Best Model**\")\n",
    "print (\" Rank:\",best_model.rank), \n",
    "print (\" MaxIter:\", best_model._java_obj.parent().getMaxIter()), \n",
    "print (\" RegParam:\",best_model._java_obj.parent().getRegParam()),"
   ]
  },
  {
   "cell_type": "code",
   "execution_count": 44,
   "metadata": {
    "colab": {
     "base_uri": "https://localhost:8080/"
    },
    "executionInfo": {
     "elapsed": 472534,
     "status": "ok",
     "timestamp": 1611549175339,
     "user": {
      "displayName": "Tú Hoàng Thị Cẩm",
      "photoUrl": "https://lh3.googleusercontent.com/a-/AOh14GgfejbFPdONaew_xaQolTuofcnM1uN2s8nzL4AB=s64",
      "userId": "10840746504897194390"
     },
     "user_tz": -420
    },
    "id": "vepZ8TmI2myg",
    "outputId": "3bef9219-580a-4043-d072-c846173e775f"
   },
   "outputs": [
    {
     "name": "stdout",
     "output_type": "stream",
     "text": [
      "+------+-------+------+----------+\n",
      "|userId|movieId|rating|Prediction|\n",
      "+------+-------+------+----------+\n",
      "|   597|    471|   2.0|  4.250283|\n",
      "|   385|    471|   4.0|  3.174941|\n",
      "|   436|    471|   3.0| 3.7113974|\n",
      "|   599|    471|   2.5| 2.6988902|\n",
      "|   500|    471|   1.0| 2.3297105|\n",
      "|    57|    471|   3.0| 3.8028398|\n",
      "|   555|    471|   3.0| 3.9314785|\n",
      "|   176|    471|   5.0|  3.584816|\n",
      "|   273|    471|   5.0|   3.97824|\n",
      "|   287|    471|   4.5|  2.991026|\n",
      "|   260|    471|   4.5| 2.9915707|\n",
      "|   599|    833|   1.5| 0.8894125|\n",
      "|   307|    833|   1.0| 0.9200773|\n",
      "|   599|   1088|   2.5| 2.5443435|\n",
      "|    20|   1088|   4.5| 3.0700521|\n",
      "|   169|   1088|   4.5| 4.1964893|\n",
      "|   479|   1088|   4.0| 2.5450184|\n",
      "|    64|   1088|   4.0| 3.2659693|\n",
      "|    84|   1088|   3.0| 3.1080565|\n",
      "|   509|   1088|   3.0| 3.3037367|\n",
      "+------+-------+------+----------+\n",
      "only showing top 20 rows\n",
      "\n"
     ]
    }
   ],
   "source": [
    "predictions.show()"
   ]
  },
  {
   "cell_type": "markdown",
   "metadata": {},
   "source": [
    "Áp dụng model cho toàn bộ data move_ratings:"
   ]
  },
  {
   "cell_type": "code",
   "execution_count": 45,
   "metadata": {
    "colab": {
     "base_uri": "https://localhost:8080/"
    },
    "executionInfo": {
     "elapsed": 481303,
     "status": "ok",
     "timestamp": 1611549184116,
     "user": {
      "displayName": "Tú Hoàng Thị Cẩm",
      "photoUrl": "https://lh3.googleusercontent.com/a-/AOh14GgfejbFPdONaew_xaQolTuofcnM1uN2s8nzL4AB=s64",
      "userId": "10840746504897194390"
     },
     "user_tz": -420
    },
    "id": "PsFO-ivb2zTW",
    "outputId": "06fc838f-7453-448d-be2d-6fee20ba12bb"
   },
   "outputs": [
    {
     "name": "stdout",
     "output_type": "stream",
     "text": [
      "RMSE = 0.6901489486663652\n"
     ]
    }
   ],
   "source": [
    "alldata=best_model.transform(movie_ratings)\n",
    "rmse = evaluator.evaluate(alldata)\n",
    "print (\"RMSE = \"+str(rmse))"
   ]
  },
  {
   "cell_type": "code",
   "execution_count": 46,
   "metadata": {
    "executionInfo": {
     "elapsed": 481296,
     "status": "ok",
     "timestamp": 1611549184117,
     "user": {
      "displayName": "Tú Hoàng Thị Cẩm",
      "photoUrl": "https://lh3.googleusercontent.com/a-/AOh14GgfejbFPdONaew_xaQolTuofcnM1uN2s8nzL4AB=s64",
      "userId": "10840746504897194390"
     },
     "user_tz": -420
    },
    "id": "BwZCDS6Z25Do"
   },
   "outputs": [],
   "source": [
    "alldata.registerTempTable(\"alldata\")"
   ]
  },
  {
   "cell_type": "code",
   "execution_count": 47,
   "metadata": {
    "colab": {
     "base_uri": "https://localhost:8080/"
    },
    "executionInfo": {
     "elapsed": 487072,
     "status": "ok",
     "timestamp": 1611549189903,
     "user": {
      "displayName": "Tú Hoàng Thị Cẩm",
      "photoUrl": "https://lh3.googleusercontent.com/a-/AOh14GgfejbFPdONaew_xaQolTuofcnM1uN2s8nzL4AB=s64",
      "userId": "10840746504897194390"
     },
     "user_tz": -420
    },
    "id": "w_Wdk1313Cv-",
    "outputId": "2bf707c3-8c91-4742-9cd4-45cde0071d0d"
   },
   "outputs": [
    {
     "name": "stdout",
     "output_type": "stream",
     "text": [
      "+------+-------+------+----------+\n",
      "|userId|movieId|rating|Prediction|\n",
      "+------+-------+------+----------+\n",
      "|   191|    148|   5.0| 4.9062953|\n",
      "|   133|    471|   4.0| 3.1419559|\n",
      "|   597|    471|   2.0|  4.250283|\n",
      "|   385|    471|   4.0|  3.174941|\n",
      "|   436|    471|   3.0| 3.7113974|\n",
      "|   602|    471|   4.0| 3.2078743|\n",
      "|    91|    471|   1.0|  2.337249|\n",
      "|   409|    471|   3.0|  3.525944|\n",
      "|   372|    471|   3.0| 3.2596598|\n",
      "|   599|    471|   2.5| 2.6988902|\n",
      "|   603|    471|   4.0| 3.3979774|\n",
      "|   182|    471|   4.5| 3.7351933|\n",
      "|   218|    471|   4.0| 2.9637034|\n",
      "|   474|    471|   3.0| 3.7245278|\n",
      "|   500|    471|   1.0| 2.3297105|\n",
      "|    57|    471|   3.0| 3.8028398|\n",
      "|   462|    471|   2.5|  3.414112|\n",
      "|   387|    471|   3.0| 3.1626472|\n",
      "|   610|    471|   4.0|  3.632616|\n",
      "|   217|    471|   2.0| 2.7994628|\n",
      "+------+-------+------+----------+\n",
      "only showing top 20 rows\n",
      "\n"
     ]
    }
   ],
   "source": [
    "result = spark.sql(\"select * from alldata\")\n",
    "result.show()"
   ]
  },
  {
   "cell_type": "code",
   "execution_count": 48,
   "metadata": {
    "colab": {
     "base_uri": "https://localhost:8080/"
    },
    "executionInfo": {
     "elapsed": 493440,
     "status": "ok",
     "timestamp": 1611549196278,
     "user": {
      "displayName": "Tú Hoàng Thị Cẩm",
      "photoUrl": "https://lh3.googleusercontent.com/a-/AOh14GgfejbFPdONaew_xaQolTuofcnM1uN2s8nzL4AB=s64",
      "userId": "10840746504897194390"
     },
     "user_tz": -420
    },
    "id": "fOuUcPhA3IqV",
    "outputId": "75f6da27-c789-4e7c-9bb5-48cee4a4dffd"
   },
   "outputs": [
    {
     "name": "stdout",
     "output_type": "stream",
     "text": [
      "+-------+--------------------+------+------+-------+------+----------+\n",
      "|movieId|               title|genres|userId|movieId|rating|Prediction|\n",
      "+-------+--------------------+------+------+-------+------+----------+\n",
      "|    148|Awfully Big Adven...| Drama|   191|    148|   5.0| 4.9062953|\n",
      "|    471|Hudsucker Proxy, ...|Comedy|   133|    471|   4.0| 3.1419559|\n",
      "|    471|Hudsucker Proxy, ...|Comedy|   597|    471|   2.0|  4.250283|\n",
      "|    471|Hudsucker Proxy, ...|Comedy|   385|    471|   4.0|  3.174941|\n",
      "|    471|Hudsucker Proxy, ...|Comedy|   436|    471|   3.0| 3.7113974|\n",
      "|    471|Hudsucker Proxy, ...|Comedy|   602|    471|   4.0| 3.2078743|\n",
      "|    471|Hudsucker Proxy, ...|Comedy|    91|    471|   1.0|  2.337249|\n",
      "|    471|Hudsucker Proxy, ...|Comedy|   409|    471|   3.0|  3.525944|\n",
      "|    471|Hudsucker Proxy, ...|Comedy|   372|    471|   3.0| 3.2596598|\n",
      "|    471|Hudsucker Proxy, ...|Comedy|   599|    471|   2.5| 2.6988902|\n",
      "|    471|Hudsucker Proxy, ...|Comedy|   603|    471|   4.0| 3.3979774|\n",
      "|    471|Hudsucker Proxy, ...|Comedy|   182|    471|   4.5| 3.7351933|\n",
      "|    471|Hudsucker Proxy, ...|Comedy|   218|    471|   4.0| 2.9637034|\n",
      "|    471|Hudsucker Proxy, ...|Comedy|   474|    471|   3.0| 3.7245278|\n",
      "|    471|Hudsucker Proxy, ...|Comedy|   500|    471|   1.0| 2.3297105|\n",
      "|    471|Hudsucker Proxy, ...|Comedy|    57|    471|   3.0| 3.8028398|\n",
      "|    471|Hudsucker Proxy, ...|Comedy|   462|    471|   2.5|  3.414112|\n",
      "|    471|Hudsucker Proxy, ...|Comedy|   387|    471|   3.0| 3.1626472|\n",
      "|    471|Hudsucker Proxy, ...|Comedy|   610|    471|   4.0|  3.632616|\n",
      "|    471|Hudsucker Proxy, ...|Comedy|   217|    471|   2.0| 2.7994628|\n",
      "+-------+--------------------+------+------+-------+------+----------+\n",
      "only showing top 20 rows\n",
      "\n"
     ]
    }
   ],
   "source": [
    "result = spark.sql(\"select * from movies join alldata on movies.movieId=alldata.movieId\")\n",
    "result.show()"
   ]
  },
  {
   "cell_type": "code",
   "execution_count": 49,
   "metadata": {
    "executionInfo": {
     "elapsed": 496190,
     "status": "ok",
     "timestamp": 1611549199036,
     "user": {
      "displayName": "Tú Hoàng Thị Cẩm",
      "photoUrl": "https://lh3.googleusercontent.com/a-/AOh14GgfejbFPdONaew_xaQolTuofcnM1uN2s8nzL4AB=s64",
      "userId": "10840746504897194390"
     },
     "user_tz": -420
    },
    "id": "cJkGu1303QZk"
   },
   "outputs": [],
   "source": [
    "best_model.save(\"/content/model\") "
   ]
  },
  {
   "cell_type": "markdown",
   "metadata": {},
   "source": [
    "Nhận xét: \n",
    "\n",
    "Trong bước đánh giá và thử nghiệm, chúng em sử dụng lỗi Root Mean Square Error (RMSE) để tính toán tỷ lệ lỗi của mô hình ALS, giữa điểm xếp hạng và điểm dự đoán. RMSE nhỏ hơn thì hệ thống có hiệu suất tốt hơn. Trong bước này, có thể thấy rằng điểm RMSE trên test data là 0,868 và 0,69 trên tất cả dữ liệu. Có vẻ như mô hình over-fitting với training data.\n",
    "\n",
    "Hơn nữa, phương pháp Matrix factorization cho hệ thống đề xuất hoạt động tốt trên user, movies mà nó biết. Đối với các movies mới và user không có xếp hạng, thật khó để học cách dự đoán xếp hạng. Đây là một nhược điểm trong phương pháp ALS. \n"
   ]
  },
  {
   "cell_type": "markdown",
   "metadata": {},
   "source": [
    "### **5.2. Triển khai hệ thống đề xuất:**"
   ]
  },
  {
   "cell_type": "markdown",
   "metadata": {},
   "source": [
    "**Hàm đề xuất:**"
   ]
  },
  {
   "cell_type": "code",
   "execution_count": 50,
   "metadata": {
    "executionInfo": {
     "elapsed": 496179,
     "status": "ok",
     "timestamp": 1611549199037,
     "user": {
      "displayName": "Tú Hoàng Thị Cẩm",
      "photoUrl": "https://lh3.googleusercontent.com/a-/AOh14GgfejbFPdONaew_xaQolTuofcnM1uN2s8nzL4AB=s64",
      "userId": "10840746504897194390"
     },
     "user_tz": -420
    },
    "id": "s-29WuVS3S2V"
   },
   "outputs": [],
   "source": [
    "from pyspark.sql.types import *\n",
    "def get_recommendation(id_type=\"userId\",id =None, numItems = 5):\n",
    "  \"\"\"\n",
    "  id_type: type of id to input:  userId, movieId\n",
    "  id: movie/ user id to query, either string or integer type\n",
    "  numItems: number of Items to recommend in each query\n",
    "  \"\"\"\n",
    "  if id_type ==\"userId\" :\n",
    "    # User-Id based \n",
    "    recommendation = best_model.recommendForAllUsers(numItems)\n",
    "    recommended_movies_df = recommendation.where(col(\"userId\")==int(id)).toPandas()\n",
    "  elif id_type ==\"movieId\" :\n",
    "    # Movie-Id based\n",
    "    recommendation = best_model.recommendForAllItems(numItems)\n",
    "    recommended_movies_df = recommendation.where(col(\"movieId\")==int(id)).toPandas()  \n",
    "  else:\n",
    "    print(\"id_type should be either 'userId' or 'movieId'\")\n",
    "    print(\"id should integer\")\n",
    "    return None\n",
    "\n",
    "  #make sure there are movies recommended\n",
    "  if len(recommended_movies_df) >0:\n",
    "    movie_recommended = recommended_movies_df.iloc[0].loc[\"recommendations\"]\n",
    "    \n",
    "    schema = StructType([\n",
    "          StructField('movieId', IntegerType(), False),\n",
    "          StructField('Prediction', FloatType(), False)\n",
    "      ])\n",
    "    movies = spark.createDataFrame(movie_recommended,schema)\n",
    "    print(\"Movies recommended to User:%d\"%int(id))\n",
    "    movies = movies.join(movies_df,'movieId','left').toPandas()\n",
    "  else:\n",
    "    print(\"No movies for \"+id_type+ \": %d\"%int(id))\n",
    "    movies = None\n",
    "  return movies"
   ]
  },
  {
   "cell_type": "markdown",
   "metadata": {},
   "source": [
    "Kết quả:"
   ]
  },
  {
   "cell_type": "code",
   "execution_count": 51,
   "metadata": {
    "colab": {
     "base_uri": "https://localhost:8080/",
     "height": 212
    },
    "executionInfo": {
     "elapsed": 501972,
     "status": "ok",
     "timestamp": 1611549204840,
     "user": {
      "displayName": "Tú Hoàng Thị Cẩm",
      "photoUrl": "https://lh3.googleusercontent.com/a-/AOh14GgfejbFPdONaew_xaQolTuofcnM1uN2s8nzL4AB=s64",
      "userId": "10840746504897194390"
     },
     "user_tz": -420
    },
    "id": "Ef7mBv873l4c",
    "outputId": "d48c9a46-0b8b-4645-df13-88f1f299c442"
   },
   "outputs": [
    {
     "name": "stdout",
     "output_type": "stream",
     "text": [
      "Movies recommended to User:575\n"
     ]
    },
    {
     "data": {
      "text/html": [
       "<div>\n",
       "<style scoped>\n",
       "    .dataframe tbody tr th:only-of-type {\n",
       "        vertical-align: middle;\n",
       "    }\n",
       "\n",
       "    .dataframe tbody tr th {\n",
       "        vertical-align: top;\n",
       "    }\n",
       "\n",
       "    .dataframe thead th {\n",
       "        text-align: right;\n",
       "    }\n",
       "</style>\n",
       "<table border=\"1\" class=\"dataframe\">\n",
       "  <thead>\n",
       "    <tr style=\"text-align: right;\">\n",
       "      <th></th>\n",
       "      <th>movieId</th>\n",
       "      <th>Prediction</th>\n",
       "      <th>title</th>\n",
       "      <th>genres</th>\n",
       "    </tr>\n",
       "  </thead>\n",
       "  <tbody>\n",
       "    <tr>\n",
       "      <th>0</th>\n",
       "      <td>141718</td>\n",
       "      <td>5.715101</td>\n",
       "      <td>Deathgasm (2015)</td>\n",
       "      <td>Comedy|Horror</td>\n",
       "    </tr>\n",
       "    <tr>\n",
       "      <th>1</th>\n",
       "      <td>123</td>\n",
       "      <td>5.424976</td>\n",
       "      <td>Chungking Express (Chung Hing sam lam) (1994)</td>\n",
       "      <td>Drama|Mystery|Romance</td>\n",
       "    </tr>\n",
       "    <tr>\n",
       "      <th>2</th>\n",
       "      <td>5490</td>\n",
       "      <td>5.409215</td>\n",
       "      <td>The Big Bus (1976)</td>\n",
       "      <td>Action|Comedy</td>\n",
       "    </tr>\n",
       "    <tr>\n",
       "      <th>3</th>\n",
       "      <td>26171</td>\n",
       "      <td>5.407846</td>\n",
       "      <td>Play Time (a.k.a. Playtime) (1967)</td>\n",
       "      <td>Comedy</td>\n",
       "    </tr>\n",
       "    <tr>\n",
       "      <th>4</th>\n",
       "      <td>3494</td>\n",
       "      <td>5.363942</td>\n",
       "      <td>True Grit (1969)</td>\n",
       "      <td>Adventure|Drama|Western</td>\n",
       "    </tr>\n",
       "  </tbody>\n",
       "</table>\n",
       "</div>"
      ],
      "text/plain": [
       "   movieId  ...                   genres\n",
       "0   141718  ...            Comedy|Horror\n",
       "1      123  ...    Drama|Mystery|Romance\n",
       "2     5490  ...            Action|Comedy\n",
       "3    26171  ...                   Comedy\n",
       "4     3494  ...  Adventure|Drama|Western\n",
       "\n",
       "[5 rows x 4 columns]"
      ]
     },
     "execution_count": 51,
     "metadata": {
      "tags": []
     },
     "output_type": "execute_result"
    }
   ],
   "source": [
    "#Query User Id: 575\n",
    "get_recommendation(id_type=\"userId\", id =575)"
   ]
  },
  {
   "cell_type": "code",
   "execution_count": 52,
   "metadata": {
    "colab": {
     "base_uri": "https://localhost:8080/",
     "height": 212
    },
    "executionInfo": {
     "elapsed": 506016,
     "status": "ok",
     "timestamp": 1611549208894,
     "user": {
      "displayName": "Tú Hoàng Thị Cẩm",
      "photoUrl": "https://lh3.googleusercontent.com/a-/AOh14GgfejbFPdONaew_xaQolTuofcnM1uN2s8nzL4AB=s64",
      "userId": "10840746504897194390"
     },
     "user_tz": -420
    },
    "id": "retZL2LE31KZ",
    "outputId": "ab381048-be5d-4c13-ac42-fb98766916b5"
   },
   "outputs": [
    {
     "name": "stdout",
     "output_type": "stream",
     "text": [
      "Movies recommended to User:594\n"
     ]
    },
    {
     "data": {
      "text/html": [
       "<div>\n",
       "<style scoped>\n",
       "    .dataframe tbody tr th:only-of-type {\n",
       "        vertical-align: middle;\n",
       "    }\n",
       "\n",
       "    .dataframe tbody tr th {\n",
       "        vertical-align: top;\n",
       "    }\n",
       "\n",
       "    .dataframe thead th {\n",
       "        text-align: right;\n",
       "    }\n",
       "</style>\n",
       "<table border=\"1\" class=\"dataframe\">\n",
       "  <thead>\n",
       "    <tr style=\"text-align: right;\">\n",
       "      <th></th>\n",
       "      <th>movieId</th>\n",
       "      <th>Prediction</th>\n",
       "      <th>title</th>\n",
       "      <th>genres</th>\n",
       "    </tr>\n",
       "  </thead>\n",
       "  <tbody>\n",
       "    <tr>\n",
       "      <th>0</th>\n",
       "      <td>43</td>\n",
       "      <td>4.850459</td>\n",
       "      <td>Restoration (1995)</td>\n",
       "      <td>Drama</td>\n",
       "    </tr>\n",
       "    <tr>\n",
       "      <th>1</th>\n",
       "      <td>53</td>\n",
       "      <td>4.667772</td>\n",
       "      <td>Lamerica (1994)</td>\n",
       "      <td>Adventure|Drama</td>\n",
       "    </tr>\n",
       "    <tr>\n",
       "      <th>2</th>\n",
       "      <td>413</td>\n",
       "      <td>4.511996</td>\n",
       "      <td>Airheads (1994)</td>\n",
       "      <td>Comedy</td>\n",
       "    </tr>\n",
       "    <tr>\n",
       "      <th>3</th>\n",
       "      <td>35</td>\n",
       "      <td>4.486012</td>\n",
       "      <td>None</td>\n",
       "      <td>None</td>\n",
       "    </tr>\n",
       "    <tr>\n",
       "      <th>4</th>\n",
       "      <td>99</td>\n",
       "      <td>4.469158</td>\n",
       "      <td>Heidi Fleiss: Hollywood Madam (1995)</td>\n",
       "      <td>Documentary</td>\n",
       "    </tr>\n",
       "  </tbody>\n",
       "</table>\n",
       "</div>"
      ],
      "text/plain": [
       "   movieId  Prediction                                 title           genres\n",
       "0       43    4.850459                    Restoration (1995)            Drama\n",
       "1       53    4.667772                       Lamerica (1994)  Adventure|Drama\n",
       "2      413    4.511996                       Airheads (1994)           Comedy\n",
       "3       35    4.486012                                  None             None\n",
       "4       99    4.469158  Heidi Fleiss: Hollywood Madam (1995)      Documentary"
      ]
     },
     "execution_count": 52,
     "metadata": {
      "tags": []
     },
     "output_type": "execute_result"
    }
   ],
   "source": [
    "#Query User Id: 232\n",
    "get_recommendation(id_type=\"movieId\", id =594)"
   ]
  },
  {
   "cell_type": "code",
   "execution_count": 62,
   "metadata": {
    "colab": {
     "base_uri": "https://localhost:8080/",
     "height": 212
    },
    "executionInfo": {
     "elapsed": 24173,
     "status": "ok",
     "timestamp": 1611549723631,
     "user": {
      "displayName": "Tú Hoàng Thị Cẩm",
      "photoUrl": "https://lh3.googleusercontent.com/a-/AOh14GgfejbFPdONaew_xaQolTuofcnM1uN2s8nzL4AB=s64",
      "userId": "10840746504897194390"
     },
     "user_tz": -420
    },
    "id": "SzwgQClN4oji",
    "outputId": "5062aad2-b8e9-4197-e0f0-9df502210db5"
   },
   "outputs": [
    {
     "name": "stdout",
     "output_type": "stream",
     "text": [
      "Movies similarity movies have id 191 is:\n"
     ]
    },
    {
     "data": {
      "text/html": [
       "<div>\n",
       "<style scoped>\n",
       "    .dataframe tbody tr th:only-of-type {\n",
       "        vertical-align: middle;\n",
       "    }\n",
       "\n",
       "    .dataframe tbody tr th {\n",
       "        vertical-align: top;\n",
       "    }\n",
       "\n",
       "    .dataframe thead th {\n",
       "        text-align: right;\n",
       "    }\n",
       "</style>\n",
       "<table border=\"1\" class=\"dataframe\">\n",
       "  <thead>\n",
       "    <tr style=\"text-align: right;\">\n",
       "      <th></th>\n",
       "      <th>movieId</th>\n",
       "      <th>Prediction</th>\n",
       "      <th>title</th>\n",
       "      <th>genres</th>\n",
       "      <th>cos_similarity</th>\n",
       "    </tr>\n",
       "  </thead>\n",
       "  <tbody>\n",
       "    <tr>\n",
       "      <th>0</th>\n",
       "      <td>543</td>\n",
       "      <td>4.978553</td>\n",
       "      <td>So I Married an Axe Murderer (1993)</td>\n",
       "      <td>Comedy|Romance|Thriller</td>\n",
       "      <td>0.191273</td>\n",
       "    </tr>\n",
       "    <tr>\n",
       "      <th>1</th>\n",
       "      <td>544</td>\n",
       "      <td>4.900724</td>\n",
       "      <td>Striking Distance (1993)</td>\n",
       "      <td>Action|Crime</td>\n",
       "      <td>0.288675</td>\n",
       "    </tr>\n",
       "    <tr>\n",
       "      <th>2</th>\n",
       "      <td>147</td>\n",
       "      <td>4.797874</td>\n",
       "      <td>Basketball Diaries, The (1995)</td>\n",
       "      <td>Drama</td>\n",
       "      <td>0.210819</td>\n",
       "    </tr>\n",
       "    <tr>\n",
       "      <th>3</th>\n",
       "      <td>337</td>\n",
       "      <td>4.545670</td>\n",
       "      <td>What's Eating Gilbert Grape (1993)</td>\n",
       "      <td>Drama</td>\n",
       "      <td>0.139573</td>\n",
       "    </tr>\n",
       "    <tr>\n",
       "      <th>4</th>\n",
       "      <td>327</td>\n",
       "      <td>4.467473</td>\n",
       "      <td>Tank Girl (1995)</td>\n",
       "      <td>Action|Comedy|Sci-Fi</td>\n",
       "      <td>0.280056</td>\n",
       "    </tr>\n",
       "  </tbody>\n",
       "</table>\n",
       "</div>"
      ],
      "text/plain": [
       "   movieId  Prediction  ...                   genres cos_similarity\n",
       "0      543    4.978553  ...  Comedy|Romance|Thriller       0.191273\n",
       "1      544    4.900724  ...             Action|Crime       0.288675\n",
       "2      147    4.797874  ...                    Drama       0.210819\n",
       "3      337    4.545670  ...                    Drama       0.139573\n",
       "4      327    4.467473  ...     Action|Comedy|Sci-Fi       0.280056\n",
       "\n",
       "[5 rows x 5 columns]"
      ]
     },
     "execution_count": 62,
     "metadata": {
      "tags": []
     },
     "output_type": "execute_result"
    }
   ],
   "source": [
    "#Query movie Id: 191\n",
    "get_recommendation(id_type=\"movieId\", id =191)"
   ]
  },
  {
   "cell_type": "code",
   "execution_count": 54,
   "metadata": {
    "colab": {
     "base_uri": "https://localhost:8080/",
     "height": 325,
     "referenced_widgets": [
      "6e582c0038b04488919a860a8cb9cc57",
      "f14ca08bd50e48edb1b5a836c41127f4",
      "121ca411b1eb4bf38a33deee007cd2a1",
      "9ee726a53b164098bdcb6354876db697",
      "33d0d619d28442868053a73c562e2a2a",
      "cd49811910f948bb8c70bd29f39430d2",
      "caa7d65af5a34c54bcd61e84b9dda40b",
      "f954566c893c4d67a0b11f7fe0067894",
      "3ec7d3e848a843f3a101bbeddd4f0125",
      "9a2f466e0f5742b095d30af29db272a3",
      "34c3e95c682544b0a6204cfce0dd8c3b",
      "08d1423be0f143a6a8c4b06d8024feee",
      "92f7d5dccd5d4fca88189273b38b1344"
     ]
    },
    "executionInfo": {
     "elapsed": 512643,
     "status": "ok",
     "timestamp": 1611549215540,
     "user": {
      "displayName": "Tú Hoàng Thị Cẩm",
      "photoUrl": "https://lh3.googleusercontent.com/a-/AOh14GgfejbFPdONaew_xaQolTuofcnM1uN2s8nzL4AB=s64",
      "userId": "10840746504897194390"
     },
     "user_tz": -420
    },
    "id": "g2riTIk-5bw5",
    "outputId": "7db00e7f-4914-46ef-8b22-62f91040afa6"
   },
   "outputs": [
    {
     "data": {
      "application/vnd.jupyter.widget-view+json": {
       "model_id": "6e582c0038b04488919a860a8cb9cc57",
       "version_major": 2,
       "version_minor": 0
      },
      "text/plain": [
       "interactive(children=(Dropdown(description='id_type', options=('userId', 'movieId'), value='userId'), Text(val…"
      ]
     },
     "metadata": {
      "tags": []
     },
     "output_type": "display_data"
    },
    {
     "data": {
      "text/plain": [
       "<function __main__.get_recommendation>"
      ]
     },
     "execution_count": 54,
     "metadata": {
      "tags": []
     },
     "output_type": "execute_result"
    }
   ],
   "source": [
    "from ipywidgets import interact\n",
    "interact(get_recommendation,id_type= [\"userId\",\"movieId\"], id= '575',numItems= [1,5,10,15])"
   ]
  },
  {
   "cell_type": "code",
   "execution_count": 55,
   "metadata": {
    "colab": {
     "base_uri": "https://localhost:8080/",
     "height": 325,
     "referenced_widgets": [
      "bc03f8f21acc4b57954f0a2ca49e4394",
      "183dca8fa3fa49f69917e6296e75ecd5",
      "675f87bcf3dc49de87171c936cd59e26",
      "12e4ef3a96d14c3489e3858ea53bcd39",
      "2ff2042934e948ebb244d88cd11b8751",
      "86d09d66815d4d29bb44eb2fedabf6cd",
      "2d87ee11489b44afb81f43b96585a956",
      "0a889ab00e214ae1a947b85eced6d7b4",
      "59f63628349a4915bf64f3c6dae58218",
      "d244a832e4ff45cf94c42fa8d395b372",
      "d6fbc61194ee41fd8cd0f3b1ed77cbad",
      "7960e65daf614d7cbffe1eb8e3a5dee6",
      "8488c6c3eaab4b1cafe90cff8b9ed4da"
     ]
    },
    "executionInfo": {
     "elapsed": 515698,
     "status": "ok",
     "timestamp": 1611549218604,
     "user": {
      "displayName": "Tú Hoàng Thị Cẩm",
      "photoUrl": "https://lh3.googleusercontent.com/a-/AOh14GgfejbFPdONaew_xaQolTuofcnM1uN2s8nzL4AB=s64",
      "userId": "10840746504897194390"
     },
     "user_tz": -420
    },
    "id": "Rrum47qd6tfK",
    "outputId": "8746087a-ea20-42ff-89a3-46fb0ead82f9"
   },
   "outputs": [
    {
     "data": {
      "application/vnd.jupyter.widget-view+json": {
       "model_id": "bc03f8f21acc4b57954f0a2ca49e4394",
       "version_major": 2,
       "version_minor": 0
      },
      "text/plain": [
       "interactive(children=(Dropdown(description='id_type', options=('userId', 'movieId'), value='userId'), Text(val…"
      ]
     },
     "metadata": {
      "tags": []
     },
     "output_type": "display_data"
    },
    {
     "data": {
      "text/plain": [
       "<function __main__.get_recommendation>"
      ]
     },
     "execution_count": 55,
     "metadata": {
      "tags": []
     },
     "output_type": "execute_result"
    }
   ],
   "source": [
    "interact(get_recommendation,id_type= [\"userId\",\"movieId\"], id= '471',numItems= [1,5,10,15])"
   ]
  },
  {
   "cell_type": "markdown",
   "metadata": {},
   "source": [
    "**Hàm tính toán độ tương đồng giữa hai movies**"
   ]
  },
  {
   "cell_type": "code",
   "execution_count": 56,
   "metadata": {
    "colab": {
     "base_uri": "https://localhost:8080/"
    },
    "executionInfo": {
     "elapsed": 525313,
     "status": "ok",
     "timestamp": 1611549228227,
     "user": {
      "displayName": "Tú Hoàng Thị Cẩm",
      "photoUrl": "https://lh3.googleusercontent.com/a-/AOh14GgfejbFPdONaew_xaQolTuofcnM1uN2s8nzL4AB=s64",
      "userId": "10840746504897194390"
     },
     "user_tz": -420
    },
    "id": "lA_wEK-67d91",
    "outputId": "420ac753-deca-4967-a0ac-93f65d4744f6"
   },
   "outputs": [
    {
     "data": {
      "text/plain": [
       "(0.0, 0.028383445970423818)"
      ]
     },
     "execution_count": 56,
     "metadata": {
      "tags": []
     },
     "output_type": "execute_result"
    }
   ],
   "source": [
    "from pyspark.sql.functions import *\n",
    "\n",
    "def cos_similarity(id1,id2,type=\"userId\"):\n",
    "  \"\"\"Implementation of cosine similarity\n",
    "  \"\"\"\n",
    "  similarity = 0.0\n",
    "  if type ==\"userId\":\n",
    "    # If input ids are user Id, Compute similarity between users\n",
    "    user1 = movie_ratings.where((col('userId')==id1)).select([\"movieId\"]).distinct()\n",
    "    user2 = movie_ratings.where((col('userId')==id2)).select([\"movieId\"]).distinct()\n",
    "    N1 = user1.count()\n",
    "    N2 = user2.count()\n",
    "    \n",
    "    \n",
    "    intersection = user1.intersect(user2).count()\n",
    "    if N1!=0 and N2!= 0:\n",
    "      similarity = intersection/np.sqrt(N1*N2)\n",
    "    pass\n",
    "  elif type == \"movieId\":\n",
    "    # If input ids are movies Id, Compute similarity between movies\n",
    "    movie1 = movie_ratings.where((col('movieId')==id1)).select([\"userId\"]).distinct()\n",
    "    movie2 = movie_ratings.where((col('movieId')==id2)).select([\"userId\"]).distinct()\n",
    "    N1 = movie1.count()\n",
    "    N2 = movie2.count()\n",
    "    \n",
    "    \n",
    "    intersection = movie1.intersect(movie2).count()\n",
    "    # print(N1,N2, intersection)\n",
    "    if N1!=0 and N2!= 0:\n",
    "      similarity = intersection/np.sqrt(N1*N2)\n",
    "      \n",
    "    pass\n",
    "  else:\n",
    "\n",
    "    pass\n",
    "  return similarity\n",
    "cos_similarity(138, 575, type=\"movieId\"), cos_similarity(575, 232, type=\"userId\")"
   ]
  },
  {
   "cell_type": "code",
   "execution_count": 57,
   "metadata": {
    "colab": {
     "base_uri": "https://localhost:8080/"
    },
    "executionInfo": {
     "elapsed": 529058,
     "status": "ok",
     "timestamp": 1611549231980,
     "user": {
      "displayName": "Tú Hoàng Thị Cẩm",
      "photoUrl": "https://lh3.googleusercontent.com/a-/AOh14GgfejbFPdONaew_xaQolTuofcnM1uN2s8nzL4AB=s64",
      "userId": "10840746504897194390"
     },
     "user_tz": -420
    },
    "id": "DqHgrBMir3nR",
    "outputId": "348bd206-ef6d-42f0-b2b6-00c1981eb969"
   },
   "outputs": [
    {
     "data": {
      "text/plain": [
       "0.0"
      ]
     },
     "execution_count": 57,
     "metadata": {
      "tags": []
     },
     "output_type": "execute_result"
    }
   ],
   "source": [
    "cos_similarity(138, 575, type=\"movieId\")"
   ]
  },
  {
   "cell_type": "markdown",
   "metadata": {},
   "source": [
    "**Hàm đề xuất cải tiến, áp dụng hàm tính độ tương đồng và cho phép người dùng thay đổi useId và movieId để tìm phim đề xuất:**"
   ]
  },
  {
   "cell_type": "code",
   "execution_count": 58,
   "metadata": {
    "colab": {
     "base_uri": "https://localhost:8080/",
     "height": 325,
     "referenced_widgets": [
      "73450e980fd14d9f9561931981a0d873",
      "d192185736874255bde907ef2778abae",
      "be54e4587e994a52a8f69c66ce495eef",
      "6f939c6a6ff043b59806c7a6f6196178",
      "afa6162c97f9450a8e547a1a234a8e59",
      "703cfccc81c8468ab81b0d8359d40f76",
      "ab146035670a4ce298dc808fa95eaa41",
      "02c5c24075e5440dbf1121daa2a6e54b",
      "abab927a38b74a088576048c8dac7a3d",
      "35ac40a6f70f4dc18642ab0d350d0e97",
      "293eb2a73b7846c0837d1ac37ea3621b",
      "a1c7817ca218447b8210a28f59edebf9",
      "909805c62d47499fa1ffb6e3c7176a53"
     ]
    },
    "executionInfo": {
     "elapsed": 532124,
     "status": "ok",
     "timestamp": 1611549235054,
     "user": {
      "displayName": "Tú Hoàng Thị Cẩm",
      "photoUrl": "https://lh3.googleusercontent.com/a-/AOh14GgfejbFPdONaew_xaQolTuofcnM1uN2s8nzL4AB=s64",
      "userId": "10840746504897194390"
     },
     "user_tz": -420
    },
    "id": "BWVj1N8i7nVk",
    "outputId": "5df1b49a-e837-40df-a9dc-2c66950007ab"
   },
   "outputs": [
    {
     "data": {
      "application/vnd.jupyter.widget-view+json": {
       "model_id": "73450e980fd14d9f9561931981a0d873",
       "version_major": 2,
       "version_minor": 0
      },
      "text/plain": [
       "interactive(children=(Dropdown(description='id_type', options=('userId', 'movieId'), value='userId'), Text(val…"
      ]
     },
     "metadata": {
      "tags": []
     },
     "output_type": "display_data"
    },
    {
     "data": {
      "text/plain": [
       "<function __main__.get_recommendation>"
      ]
     },
     "execution_count": 58,
     "metadata": {
      "tags": []
     },
     "output_type": "execute_result"
    }
   ],
   "source": [
    "def get_recommendation(id_type=\"userId\",id =None, numItems = 5):\n",
    "  \"\"\"\n",
    "  id_type: type of id to input:  userId, movieId\n",
    "  id: movie/ user id to query, either string or integer type\n",
    "  numItems: number of Items to recommend in each query\n",
    "  \"\"\"\n",
    "  if id_type ==\"userId\" :\n",
    "    # User-Id based \n",
    "    recommendation = best_model.recommendForAllUsers(numItems)\n",
    "    recommended_movies_df = recommendation.where(col(\"userId\")==int(id)).toPandas()\n",
    "    \n",
    "  elif id_type ==\"movieId\" :\n",
    "    # Movie-Id based\n",
    "    recommendation = best_model.recommendForAllItems(numItems)\n",
    "    recommended_movies_df = recommendation.where(col(\"movieId\")==int(id)).toPandas()  \n",
    "  else:\n",
    "    print(\"id_type should be either 'userId' or 'movieId'\")\n",
    "    print(\"id should integer\")\n",
    "    return None\n",
    "\n",
    "  #make sure there are movies recommended\n",
    "  if len(recommended_movies_df) >0:\n",
    "    movie_recommended = recommended_movies_df.iloc[0].loc[\"recommendations\"]\n",
    "    \n",
    "    schema = StructType([\n",
    "          StructField('movieId', IntegerType(), False),\n",
    "          StructField('Prediction', FloatType(), False)\n",
    "      ])\n",
    "    movies = spark.createDataFrame(movie_recommended,schema)\n",
    "    if id_type==\"userId\":\n",
    "      print(\"Movies recommended to User:%d\"%int(id))\n",
    "    else:\n",
    "      print(\"Movies similarity movies have id %d is:\"%int(id))\n",
    "    movies = movies.join(movies_df,'movieId','left').toPandas()\n",
    "\n",
    "    if id_type ==\"movieId\":\n",
    "      id_list = movies[\"movieId\"].tolist()\n",
    "      cos_similarity_ls = []\n",
    "      for movieId in id_list:\n",
    "        cos_similarity_ls.append(cos_similarity(movieId, id, type=\"movieId\"))\n",
    "      movies[\"cos_similarity\"]= cos_similarity_ls\n",
    "  else:\n",
    "    print(\"No movies for \"+id_type+ \": %d\"%int(id))\n",
    "    movies = None\n",
    "  return movies\n",
    "interact(get_recommendation,id_type= [\"userId\",\"movieId\"], id= '471',numItems= [1,5,10,15])"
   ]
  },
  {
   "cell_type": "code",
   "execution_count": 59,
   "metadata": {
    "colab": {
     "base_uri": "https://localhost:8080/"
    },
    "executionInfo": {
     "elapsed": 534959,
     "status": "ok",
     "timestamp": 1611549237897,
     "user": {
      "displayName": "Tú Hoàng Thị Cẩm",
      "photoUrl": "https://lh3.googleusercontent.com/a-/AOh14GgfejbFPdONaew_xaQolTuofcnM1uN2s8nzL4AB=s64",
      "userId": "10840746504897194390"
     },
     "user_tz": -420
    },
    "id": "G2sh-pTRd4FK",
    "outputId": "02bef79e-7b42-4354-b140-202dfcc962a6"
   },
   "outputs": [
    {
     "name": "stdout",
     "output_type": "stream",
     "text": [
      "   userId                                    recommendations\n",
      "0     575  [(141718, 5.7151007652282715), (123, 5.4249763...\n"
     ]
    }
   ],
   "source": [
    "recommendation = best_model.recommendForAllUsers(5)\n",
    "recommended_movies_df = recommendation.where(col(\"userId\")==575).toPandas()\n",
    "print(recommended_movies_df)"
   ]
  }
 ],
 "metadata": {
  "colab": {
   "authorship_tag": "ABX9TyMcbkf74USQg4G3DikTWXHa",
   "name": "Recommend_system_ALS.ipynb",
   "provenance": []
  },
  "kernelspec": {
   "display_name": "Python 3",
   "language": "python",
   "name": "python3"
  },
  "language_info": {
   "codemirror_mode": {
    "name": "ipython",
    "version": 3
   },
   "file_extension": ".py",
   "mimetype": "text/x-python",
   "name": "python",
   "nbconvert_exporter": "python",
   "pygments_lexer": "ipython3",
   "version": "3.7.3"
  },
  "widgets": {
   "application/vnd.jupyter.widget-state+json": {
    "02c5c24075e5440dbf1121daa2a6e54b": {
     "model_module": "@jupyter-widgets/base",
     "model_name": "LayoutModel",
     "state": {
      "_model_module": "@jupyter-widgets/base",
      "_model_module_version": "1.2.0",
      "_model_name": "LayoutModel",
      "_view_count": null,
      "_view_module": "@jupyter-widgets/base",
      "_view_module_version": "1.2.0",
      "_view_name": "LayoutView",
      "align_content": null,
      "align_items": null,
      "align_self": null,
      "border": null,
      "bottom": null,
      "display": null,
      "flex": null,
      "flex_flow": null,
      "grid_area": null,
      "grid_auto_columns": null,
      "grid_auto_flow": null,
      "grid_auto_rows": null,
      "grid_column": null,
      "grid_gap": null,
      "grid_row": null,
      "grid_template_areas": null,
      "grid_template_columns": null,
      "grid_template_rows": null,
      "height": null,
      "justify_content": null,
      "justify_items": null,
      "left": null,
      "margin": null,
      "max_height": null,
      "max_width": null,
      "min_height": null,
      "min_width": null,
      "object_fit": null,
      "object_position": null,
      "order": null,
      "overflow": null,
      "overflow_x": null,
      "overflow_y": null,
      "padding": null,
      "right": null,
      "top": null,
      "visibility": null,
      "width": null
     }
    },
    "08d1423be0f143a6a8c4b06d8024feee": {
     "model_module": "@jupyter-widgets/base",
     "model_name": "LayoutModel",
     "state": {
      "_model_module": "@jupyter-widgets/base",
      "_model_module_version": "1.2.0",
      "_model_name": "LayoutModel",
      "_view_count": null,
      "_view_module": "@jupyter-widgets/base",
      "_view_module_version": "1.2.0",
      "_view_name": "LayoutView",
      "align_content": null,
      "align_items": null,
      "align_self": null,
      "border": null,
      "bottom": null,
      "display": null,
      "flex": null,
      "flex_flow": null,
      "grid_area": null,
      "grid_auto_columns": null,
      "grid_auto_flow": null,
      "grid_auto_rows": null,
      "grid_column": null,
      "grid_gap": null,
      "grid_row": null,
      "grid_template_areas": null,
      "grid_template_columns": null,
      "grid_template_rows": null,
      "height": null,
      "justify_content": null,
      "justify_items": null,
      "left": null,
      "margin": null,
      "max_height": null,
      "max_width": null,
      "min_height": null,
      "min_width": null,
      "object_fit": null,
      "object_position": null,
      "order": null,
      "overflow": null,
      "overflow_x": null,
      "overflow_y": null,
      "padding": null,
      "right": null,
      "top": null,
      "visibility": null,
      "width": null
     }
    },
    "0a889ab00e214ae1a947b85eced6d7b4": {
     "model_module": "@jupyter-widgets/base",
     "model_name": "LayoutModel",
     "state": {
      "_model_module": "@jupyter-widgets/base",
      "_model_module_version": "1.2.0",
      "_model_name": "LayoutModel",
      "_view_count": null,
      "_view_module": "@jupyter-widgets/base",
      "_view_module_version": "1.2.0",
      "_view_name": "LayoutView",
      "align_content": null,
      "align_items": null,
      "align_self": null,
      "border": null,
      "bottom": null,
      "display": null,
      "flex": null,
      "flex_flow": null,
      "grid_area": null,
      "grid_auto_columns": null,
      "grid_auto_flow": null,
      "grid_auto_rows": null,
      "grid_column": null,
      "grid_gap": null,
      "grid_row": null,
      "grid_template_areas": null,
      "grid_template_columns": null,
      "grid_template_rows": null,
      "height": null,
      "justify_content": null,
      "justify_items": null,
      "left": null,
      "margin": null,
      "max_height": null,
      "max_width": null,
      "min_height": null,
      "min_width": null,
      "object_fit": null,
      "object_position": null,
      "order": null,
      "overflow": null,
      "overflow_x": null,
      "overflow_y": null,
      "padding": null,
      "right": null,
      "top": null,
      "visibility": null,
      "width": null
     }
    },
    "121ca411b1eb4bf38a33deee007cd2a1": {
     "model_module": "@jupyter-widgets/controls",
     "model_name": "DropdownModel",
     "state": {
      "_dom_classes": [],
      "_model_module": "@jupyter-widgets/controls",
      "_model_module_version": "1.5.0",
      "_model_name": "DropdownModel",
      "_options_labels": [
       "userId",
       "movieId"
      ],
      "_view_count": null,
      "_view_module": "@jupyter-widgets/controls",
      "_view_module_version": "1.5.0",
      "_view_name": "DropdownView",
      "description": "id_type",
      "description_tooltip": null,
      "disabled": false,
      "index": 0,
      "layout": "IPY_MODEL_f954566c893c4d67a0b11f7fe0067894",
      "style": "IPY_MODEL_caa7d65af5a34c54bcd61e84b9dda40b"
     }
    },
    "12e4ef3a96d14c3489e3858ea53bcd39": {
     "model_module": "@jupyter-widgets/controls",
     "model_name": "TextModel",
     "state": {
      "_dom_classes": [],
      "_model_module": "@jupyter-widgets/controls",
      "_model_module_version": "1.5.0",
      "_model_name": "TextModel",
      "_view_count": null,
      "_view_module": "@jupyter-widgets/controls",
      "_view_module_version": "1.5.0",
      "_view_name": "TextView",
      "continuous_update": true,
      "description": "id",
      "description_tooltip": null,
      "disabled": false,
      "layout": "IPY_MODEL_d244a832e4ff45cf94c42fa8d395b372",
      "placeholder": "​",
      "style": "IPY_MODEL_59f63628349a4915bf64f3c6dae58218",
      "value": "471"
     }
    },
    "183dca8fa3fa49f69917e6296e75ecd5": {
     "model_module": "@jupyter-widgets/base",
     "model_name": "LayoutModel",
     "state": {
      "_model_module": "@jupyter-widgets/base",
      "_model_module_version": "1.2.0",
      "_model_name": "LayoutModel",
      "_view_count": null,
      "_view_module": "@jupyter-widgets/base",
      "_view_module_version": "1.2.0",
      "_view_name": "LayoutView",
      "align_content": null,
      "align_items": null,
      "align_self": null,
      "border": null,
      "bottom": null,
      "display": null,
      "flex": null,
      "flex_flow": null,
      "grid_area": null,
      "grid_auto_columns": null,
      "grid_auto_flow": null,
      "grid_auto_rows": null,
      "grid_column": null,
      "grid_gap": null,
      "grid_row": null,
      "grid_template_areas": null,
      "grid_template_columns": null,
      "grid_template_rows": null,
      "height": null,
      "justify_content": null,
      "justify_items": null,
      "left": null,
      "margin": null,
      "max_height": null,
      "max_width": null,
      "min_height": null,
      "min_width": null,
      "object_fit": null,
      "object_position": null,
      "order": null,
      "overflow": null,
      "overflow_x": null,
      "overflow_y": null,
      "padding": null,
      "right": null,
      "top": null,
      "visibility": null,
      "width": null
     }
    },
    "293eb2a73b7846c0837d1ac37ea3621b": {
     "model_module": "@jupyter-widgets/controls",
     "model_name": "DescriptionStyleModel",
     "state": {
      "_model_module": "@jupyter-widgets/controls",
      "_model_module_version": "1.5.0",
      "_model_name": "DescriptionStyleModel",
      "_view_count": null,
      "_view_module": "@jupyter-widgets/base",
      "_view_module_version": "1.2.0",
      "_view_name": "StyleView",
      "description_width": ""
     }
    },
    "2d87ee11489b44afb81f43b96585a956": {
     "model_module": "@jupyter-widgets/controls",
     "model_name": "DescriptionStyleModel",
     "state": {
      "_model_module": "@jupyter-widgets/controls",
      "_model_module_version": "1.5.0",
      "_model_name": "DescriptionStyleModel",
      "_view_count": null,
      "_view_module": "@jupyter-widgets/base",
      "_view_module_version": "1.2.0",
      "_view_name": "StyleView",
      "description_width": ""
     }
    },
    "2ff2042934e948ebb244d88cd11b8751": {
     "model_module": "@jupyter-widgets/controls",
     "model_name": "DropdownModel",
     "state": {
      "_dom_classes": [],
      "_model_module": "@jupyter-widgets/controls",
      "_model_module_version": "1.5.0",
      "_model_name": "DropdownModel",
      "_options_labels": [
       "1",
       "5",
       "10",
       "15"
      ],
      "_view_count": null,
      "_view_module": "@jupyter-widgets/controls",
      "_view_module_version": "1.5.0",
      "_view_name": "DropdownView",
      "description": "numItems",
      "description_tooltip": null,
      "disabled": false,
      "index": 1,
      "layout": "IPY_MODEL_7960e65daf614d7cbffe1eb8e3a5dee6",
      "style": "IPY_MODEL_d6fbc61194ee41fd8cd0f3b1ed77cbad"
     }
    },
    "33d0d619d28442868053a73c562e2a2a": {
     "model_module": "@jupyter-widgets/controls",
     "model_name": "DropdownModel",
     "state": {
      "_dom_classes": [],
      "_model_module": "@jupyter-widgets/controls",
      "_model_module_version": "1.5.0",
      "_model_name": "DropdownModel",
      "_options_labels": [
       "1",
       "5",
       "10",
       "15"
      ],
      "_view_count": null,
      "_view_module": "@jupyter-widgets/controls",
      "_view_module_version": "1.5.0",
      "_view_name": "DropdownView",
      "description": "numItems",
      "description_tooltip": null,
      "disabled": false,
      "index": 1,
      "layout": "IPY_MODEL_08d1423be0f143a6a8c4b06d8024feee",
      "style": "IPY_MODEL_34c3e95c682544b0a6204cfce0dd8c3b"
     }
    },
    "34c3e95c682544b0a6204cfce0dd8c3b": {
     "model_module": "@jupyter-widgets/controls",
     "model_name": "DescriptionStyleModel",
     "state": {
      "_model_module": "@jupyter-widgets/controls",
      "_model_module_version": "1.5.0",
      "_model_name": "DescriptionStyleModel",
      "_view_count": null,
      "_view_module": "@jupyter-widgets/base",
      "_view_module_version": "1.2.0",
      "_view_name": "StyleView",
      "description_width": ""
     }
    },
    "35ac40a6f70f4dc18642ab0d350d0e97": {
     "model_module": "@jupyter-widgets/base",
     "model_name": "LayoutModel",
     "state": {
      "_model_module": "@jupyter-widgets/base",
      "_model_module_version": "1.2.0",
      "_model_name": "LayoutModel",
      "_view_count": null,
      "_view_module": "@jupyter-widgets/base",
      "_view_module_version": "1.2.0",
      "_view_name": "LayoutView",
      "align_content": null,
      "align_items": null,
      "align_self": null,
      "border": null,
      "bottom": null,
      "display": null,
      "flex": null,
      "flex_flow": null,
      "grid_area": null,
      "grid_auto_columns": null,
      "grid_auto_flow": null,
      "grid_auto_rows": null,
      "grid_column": null,
      "grid_gap": null,
      "grid_row": null,
      "grid_template_areas": null,
      "grid_template_columns": null,
      "grid_template_rows": null,
      "height": null,
      "justify_content": null,
      "justify_items": null,
      "left": null,
      "margin": null,
      "max_height": null,
      "max_width": null,
      "min_height": null,
      "min_width": null,
      "object_fit": null,
      "object_position": null,
      "order": null,
      "overflow": null,
      "overflow_x": null,
      "overflow_y": null,
      "padding": null,
      "right": null,
      "top": null,
      "visibility": null,
      "width": null
     }
    },
    "3ec7d3e848a843f3a101bbeddd4f0125": {
     "model_module": "@jupyter-widgets/controls",
     "model_name": "DescriptionStyleModel",
     "state": {
      "_model_module": "@jupyter-widgets/controls",
      "_model_module_version": "1.5.0",
      "_model_name": "DescriptionStyleModel",
      "_view_count": null,
      "_view_module": "@jupyter-widgets/base",
      "_view_module_version": "1.2.0",
      "_view_name": "StyleView",
      "description_width": ""
     }
    },
    "59f63628349a4915bf64f3c6dae58218": {
     "model_module": "@jupyter-widgets/controls",
     "model_name": "DescriptionStyleModel",
     "state": {
      "_model_module": "@jupyter-widgets/controls",
      "_model_module_version": "1.5.0",
      "_model_name": "DescriptionStyleModel",
      "_view_count": null,
      "_view_module": "@jupyter-widgets/base",
      "_view_module_version": "1.2.0",
      "_view_name": "StyleView",
      "description_width": ""
     }
    },
    "675f87bcf3dc49de87171c936cd59e26": {
     "model_module": "@jupyter-widgets/controls",
     "model_name": "DropdownModel",
     "state": {
      "_dom_classes": [],
      "_model_module": "@jupyter-widgets/controls",
      "_model_module_version": "1.5.0",
      "_model_name": "DropdownModel",
      "_options_labels": [
       "userId",
       "movieId"
      ],
      "_view_count": null,
      "_view_module": "@jupyter-widgets/controls",
      "_view_module_version": "1.5.0",
      "_view_name": "DropdownView",
      "description": "id_type",
      "description_tooltip": null,
      "disabled": false,
      "index": 0,
      "layout": "IPY_MODEL_0a889ab00e214ae1a947b85eced6d7b4",
      "style": "IPY_MODEL_2d87ee11489b44afb81f43b96585a956"
     }
    },
    "6e582c0038b04488919a860a8cb9cc57": {
     "model_module": "@jupyter-widgets/controls",
     "model_name": "VBoxModel",
     "state": {
      "_dom_classes": [
       "widget-interact"
      ],
      "_model_module": "@jupyter-widgets/controls",
      "_model_module_version": "1.5.0",
      "_model_name": "VBoxModel",
      "_view_count": null,
      "_view_module": "@jupyter-widgets/controls",
      "_view_module_version": "1.5.0",
      "_view_name": "VBoxView",
      "box_style": "",
      "children": [
       "IPY_MODEL_121ca411b1eb4bf38a33deee007cd2a1",
       "IPY_MODEL_9ee726a53b164098bdcb6354876db697",
       "IPY_MODEL_33d0d619d28442868053a73c562e2a2a",
       "IPY_MODEL_cd49811910f948bb8c70bd29f39430d2"
      ],
      "layout": "IPY_MODEL_f14ca08bd50e48edb1b5a836c41127f4"
     }
    },
    "6f939c6a6ff043b59806c7a6f6196178": {
     "model_module": "@jupyter-widgets/controls",
     "model_name": "TextModel",
     "state": {
      "_dom_classes": [],
      "_model_module": "@jupyter-widgets/controls",
      "_model_module_version": "1.5.0",
      "_model_name": "TextModel",
      "_view_count": null,
      "_view_module": "@jupyter-widgets/controls",
      "_view_module_version": "1.5.0",
      "_view_name": "TextView",
      "continuous_update": true,
      "description": "id",
      "description_tooltip": null,
      "disabled": false,
      "layout": "IPY_MODEL_35ac40a6f70f4dc18642ab0d350d0e97",
      "placeholder": "​",
      "style": "IPY_MODEL_abab927a38b74a088576048c8dac7a3d",
      "value": "471"
     }
    },
    "703cfccc81c8468ab81b0d8359d40f76": {
     "model_module": "@jupyter-widgets/output",
     "model_name": "OutputModel",
     "state": {
      "_dom_classes": [],
      "_model_module": "@jupyter-widgets/output",
      "_model_module_version": "1.0.0",
      "_model_name": "OutputModel",
      "_view_count": null,
      "_view_module": "@jupyter-widgets/output",
      "_view_module_version": "1.0.0",
      "_view_name": "OutputView",
      "layout": "IPY_MODEL_909805c62d47499fa1ffb6e3c7176a53",
      "msg_id": "",
      "outputs": [
       {
        "metadata": {
         "tags": []
        },
        "output_type": "stream",
        "stream": "stdout",
        "text": "Movies recommended to User:471\n"
       },
       {
        "metadata": {
         "tags": []
        },
        "output_type": "display_data",
        "text/html": "<div>\n<style scoped>\n    .dataframe tbody tr th:only-of-type {\n        vertical-align: middle;\n    }\n\n    .dataframe tbody tr th {\n        vertical-align: top;\n    }\n\n    .dataframe thead th {\n        text-align: right;\n    }\n</style>\n<table border=\"1\" class=\"dataframe\">\n  <thead>\n    <tr style=\"text-align: right;\">\n      <th></th>\n      <th>movieId</th>\n      <th>Prediction</th>\n      <th>title</th>\n      <th>genres</th>\n    </tr>\n  </thead>\n  <tbody>\n    <tr>\n      <th>0</th>\n      <td>141718</td>\n      <td>5.104392</td>\n      <td>Deathgasm (2015)</td>\n      <td>Comedy|Horror</td>\n    </tr>\n    <tr>\n      <th>1</th>\n      <td>6818</td>\n      <td>4.896047</td>\n      <td>Come and See (Idi i smotri) (1985)</td>\n      <td>Drama|War</td>\n    </tr>\n    <tr>\n      <th>2</th>\n      <td>92494</td>\n      <td>4.813082</td>\n      <td>Dylan Moran: Monster (2004)</td>\n      <td>Comedy|Documentary</td>\n    </tr>\n    <tr>\n      <th>3</th>\n      <td>89904</td>\n      <td>4.634228</td>\n      <td>The Artist (2011)</td>\n      <td>Comedy|Drama|Romance</td>\n    </tr>\n    <tr>\n      <th>4</th>\n      <td>84273</td>\n      <td>4.564604</td>\n      <td>Zeitgeist: Moving Forward (2011)</td>\n      <td>Documentary</td>\n    </tr>\n  </tbody>\n</table>\n</div>",
        "text/plain": "   movieId  ...                genres\n0   141718  ...         Comedy|Horror\n1     6818  ...             Drama|War\n2    92494  ...    Comedy|Documentary\n3    89904  ...  Comedy|Drama|Romance\n4    84273  ...           Documentary\n\n[5 rows x 4 columns]"
       }
      ]
     }
    },
    "73450e980fd14d9f9561931981a0d873": {
     "model_module": "@jupyter-widgets/controls",
     "model_name": "VBoxModel",
     "state": {
      "_dom_classes": [
       "widget-interact"
      ],
      "_model_module": "@jupyter-widgets/controls",
      "_model_module_version": "1.5.0",
      "_model_name": "VBoxModel",
      "_view_count": null,
      "_view_module": "@jupyter-widgets/controls",
      "_view_module_version": "1.5.0",
      "_view_name": "VBoxView",
      "box_style": "",
      "children": [
       "IPY_MODEL_be54e4587e994a52a8f69c66ce495eef",
       "IPY_MODEL_6f939c6a6ff043b59806c7a6f6196178",
       "IPY_MODEL_afa6162c97f9450a8e547a1a234a8e59",
       "IPY_MODEL_703cfccc81c8468ab81b0d8359d40f76"
      ],
      "layout": "IPY_MODEL_d192185736874255bde907ef2778abae"
     }
    },
    "7960e65daf614d7cbffe1eb8e3a5dee6": {
     "model_module": "@jupyter-widgets/base",
     "model_name": "LayoutModel",
     "state": {
      "_model_module": "@jupyter-widgets/base",
      "_model_module_version": "1.2.0",
      "_model_name": "LayoutModel",
      "_view_count": null,
      "_view_module": "@jupyter-widgets/base",
      "_view_module_version": "1.2.0",
      "_view_name": "LayoutView",
      "align_content": null,
      "align_items": null,
      "align_self": null,
      "border": null,
      "bottom": null,
      "display": null,
      "flex": null,
      "flex_flow": null,
      "grid_area": null,
      "grid_auto_columns": null,
      "grid_auto_flow": null,
      "grid_auto_rows": null,
      "grid_column": null,
      "grid_gap": null,
      "grid_row": null,
      "grid_template_areas": null,
      "grid_template_columns": null,
      "grid_template_rows": null,
      "height": null,
      "justify_content": null,
      "justify_items": null,
      "left": null,
      "margin": null,
      "max_height": null,
      "max_width": null,
      "min_height": null,
      "min_width": null,
      "object_fit": null,
      "object_position": null,
      "order": null,
      "overflow": null,
      "overflow_x": null,
      "overflow_y": null,
      "padding": null,
      "right": null,
      "top": null,
      "visibility": null,
      "width": null
     }
    },
    "8488c6c3eaab4b1cafe90cff8b9ed4da": {
     "model_module": "@jupyter-widgets/base",
     "model_name": "LayoutModel",
     "state": {
      "_model_module": "@jupyter-widgets/base",
      "_model_module_version": "1.2.0",
      "_model_name": "LayoutModel",
      "_view_count": null,
      "_view_module": "@jupyter-widgets/base",
      "_view_module_version": "1.2.0",
      "_view_name": "LayoutView",
      "align_content": null,
      "align_items": null,
      "align_self": null,
      "border": null,
      "bottom": null,
      "display": null,
      "flex": null,
      "flex_flow": null,
      "grid_area": null,
      "grid_auto_columns": null,
      "grid_auto_flow": null,
      "grid_auto_rows": null,
      "grid_column": null,
      "grid_gap": null,
      "grid_row": null,
      "grid_template_areas": null,
      "grid_template_columns": null,
      "grid_template_rows": null,
      "height": null,
      "justify_content": null,
      "justify_items": null,
      "left": null,
      "margin": null,
      "max_height": null,
      "max_width": null,
      "min_height": null,
      "min_width": null,
      "object_fit": null,
      "object_position": null,
      "order": null,
      "overflow": null,
      "overflow_x": null,
      "overflow_y": null,
      "padding": null,
      "right": null,
      "top": null,
      "visibility": null,
      "width": null
     }
    },
    "86d09d66815d4d29bb44eb2fedabf6cd": {
     "model_module": "@jupyter-widgets/output",
     "model_name": "OutputModel",
     "state": {
      "_dom_classes": [],
      "_model_module": "@jupyter-widgets/output",
      "_model_module_version": "1.0.0",
      "_model_name": "OutputModel",
      "_view_count": null,
      "_view_module": "@jupyter-widgets/output",
      "_view_module_version": "1.0.0",
      "_view_name": "OutputView",
      "layout": "IPY_MODEL_8488c6c3eaab4b1cafe90cff8b9ed4da",
      "msg_id": "",
      "outputs": [
       {
        "metadata": {
         "tags": []
        },
        "output_type": "stream",
        "stream": "stdout",
        "text": "Movies recommended to User:471\n"
       },
       {
        "metadata": {
         "tags": []
        },
        "output_type": "display_data",
        "text/html": "<div>\n<style scoped>\n    .dataframe tbody tr th:only-of-type {\n        vertical-align: middle;\n    }\n\n    .dataframe tbody tr th {\n        vertical-align: top;\n    }\n\n    .dataframe thead th {\n        text-align: right;\n    }\n</style>\n<table border=\"1\" class=\"dataframe\">\n  <thead>\n    <tr style=\"text-align: right;\">\n      <th></th>\n      <th>movieId</th>\n      <th>Prediction</th>\n      <th>title</th>\n      <th>genres</th>\n    </tr>\n  </thead>\n  <tbody>\n    <tr>\n      <th>0</th>\n      <td>141718</td>\n      <td>5.104392</td>\n      <td>Deathgasm (2015)</td>\n      <td>Comedy|Horror</td>\n    </tr>\n    <tr>\n      <th>1</th>\n      <td>6818</td>\n      <td>4.896047</td>\n      <td>Come and See (Idi i smotri) (1985)</td>\n      <td>Drama|War</td>\n    </tr>\n    <tr>\n      <th>2</th>\n      <td>92494</td>\n      <td>4.813082</td>\n      <td>Dylan Moran: Monster (2004)</td>\n      <td>Comedy|Documentary</td>\n    </tr>\n    <tr>\n      <th>3</th>\n      <td>89904</td>\n      <td>4.634228</td>\n      <td>The Artist (2011)</td>\n      <td>Comedy|Drama|Romance</td>\n    </tr>\n    <tr>\n      <th>4</th>\n      <td>84273</td>\n      <td>4.564604</td>\n      <td>Zeitgeist: Moving Forward (2011)</td>\n      <td>Documentary</td>\n    </tr>\n  </tbody>\n</table>\n</div>",
        "text/plain": "   movieId  ...                genres\n0   141718  ...         Comedy|Horror\n1     6818  ...             Drama|War\n2    92494  ...    Comedy|Documentary\n3    89904  ...  Comedy|Drama|Romance\n4    84273  ...           Documentary\n\n[5 rows x 4 columns]"
       }
      ]
     }
    },
    "909805c62d47499fa1ffb6e3c7176a53": {
     "model_module": "@jupyter-widgets/base",
     "model_name": "LayoutModel",
     "state": {
      "_model_module": "@jupyter-widgets/base",
      "_model_module_version": "1.2.0",
      "_model_name": "LayoutModel",
      "_view_count": null,
      "_view_module": "@jupyter-widgets/base",
      "_view_module_version": "1.2.0",
      "_view_name": "LayoutView",
      "align_content": null,
      "align_items": null,
      "align_self": null,
      "border": null,
      "bottom": null,
      "display": null,
      "flex": null,
      "flex_flow": null,
      "grid_area": null,
      "grid_auto_columns": null,
      "grid_auto_flow": null,
      "grid_auto_rows": null,
      "grid_column": null,
      "grid_gap": null,
      "grid_row": null,
      "grid_template_areas": null,
      "grid_template_columns": null,
      "grid_template_rows": null,
      "height": null,
      "justify_content": null,
      "justify_items": null,
      "left": null,
      "margin": null,
      "max_height": null,
      "max_width": null,
      "min_height": null,
      "min_width": null,
      "object_fit": null,
      "object_position": null,
      "order": null,
      "overflow": null,
      "overflow_x": null,
      "overflow_y": null,
      "padding": null,
      "right": null,
      "top": null,
      "visibility": null,
      "width": null
     }
    },
    "92f7d5dccd5d4fca88189273b38b1344": {
     "model_module": "@jupyter-widgets/base",
     "model_name": "LayoutModel",
     "state": {
      "_model_module": "@jupyter-widgets/base",
      "_model_module_version": "1.2.0",
      "_model_name": "LayoutModel",
      "_view_count": null,
      "_view_module": "@jupyter-widgets/base",
      "_view_module_version": "1.2.0",
      "_view_name": "LayoutView",
      "align_content": null,
      "align_items": null,
      "align_self": null,
      "border": null,
      "bottom": null,
      "display": null,
      "flex": null,
      "flex_flow": null,
      "grid_area": null,
      "grid_auto_columns": null,
      "grid_auto_flow": null,
      "grid_auto_rows": null,
      "grid_column": null,
      "grid_gap": null,
      "grid_row": null,
      "grid_template_areas": null,
      "grid_template_columns": null,
      "grid_template_rows": null,
      "height": null,
      "justify_content": null,
      "justify_items": null,
      "left": null,
      "margin": null,
      "max_height": null,
      "max_width": null,
      "min_height": null,
      "min_width": null,
      "object_fit": null,
      "object_position": null,
      "order": null,
      "overflow": null,
      "overflow_x": null,
      "overflow_y": null,
      "padding": null,
      "right": null,
      "top": null,
      "visibility": null,
      "width": null
     }
    },
    "9a2f466e0f5742b095d30af29db272a3": {
     "model_module": "@jupyter-widgets/base",
     "model_name": "LayoutModel",
     "state": {
      "_model_module": "@jupyter-widgets/base",
      "_model_module_version": "1.2.0",
      "_model_name": "LayoutModel",
      "_view_count": null,
      "_view_module": "@jupyter-widgets/base",
      "_view_module_version": "1.2.0",
      "_view_name": "LayoutView",
      "align_content": null,
      "align_items": null,
      "align_self": null,
      "border": null,
      "bottom": null,
      "display": null,
      "flex": null,
      "flex_flow": null,
      "grid_area": null,
      "grid_auto_columns": null,
      "grid_auto_flow": null,
      "grid_auto_rows": null,
      "grid_column": null,
      "grid_gap": null,
      "grid_row": null,
      "grid_template_areas": null,
      "grid_template_columns": null,
      "grid_template_rows": null,
      "height": null,
      "justify_content": null,
      "justify_items": null,
      "left": null,
      "margin": null,
      "max_height": null,
      "max_width": null,
      "min_height": null,
      "min_width": null,
      "object_fit": null,
      "object_position": null,
      "order": null,
      "overflow": null,
      "overflow_x": null,
      "overflow_y": null,
      "padding": null,
      "right": null,
      "top": null,
      "visibility": null,
      "width": null
     }
    },
    "9ee726a53b164098bdcb6354876db697": {
     "model_module": "@jupyter-widgets/controls",
     "model_name": "TextModel",
     "state": {
      "_dom_classes": [],
      "_model_module": "@jupyter-widgets/controls",
      "_model_module_version": "1.5.0",
      "_model_name": "TextModel",
      "_view_count": null,
      "_view_module": "@jupyter-widgets/controls",
      "_view_module_version": "1.5.0",
      "_view_name": "TextView",
      "continuous_update": true,
      "description": "id",
      "description_tooltip": null,
      "disabled": false,
      "layout": "IPY_MODEL_9a2f466e0f5742b095d30af29db272a3",
      "placeholder": "​",
      "style": "IPY_MODEL_3ec7d3e848a843f3a101bbeddd4f0125",
      "value": "575"
     }
    },
    "a1c7817ca218447b8210a28f59edebf9": {
     "model_module": "@jupyter-widgets/base",
     "model_name": "LayoutModel",
     "state": {
      "_model_module": "@jupyter-widgets/base",
      "_model_module_version": "1.2.0",
      "_model_name": "LayoutModel",
      "_view_count": null,
      "_view_module": "@jupyter-widgets/base",
      "_view_module_version": "1.2.0",
      "_view_name": "LayoutView",
      "align_content": null,
      "align_items": null,
      "align_self": null,
      "border": null,
      "bottom": null,
      "display": null,
      "flex": null,
      "flex_flow": null,
      "grid_area": null,
      "grid_auto_columns": null,
      "grid_auto_flow": null,
      "grid_auto_rows": null,
      "grid_column": null,
      "grid_gap": null,
      "grid_row": null,
      "grid_template_areas": null,
      "grid_template_columns": null,
      "grid_template_rows": null,
      "height": null,
      "justify_content": null,
      "justify_items": null,
      "left": null,
      "margin": null,
      "max_height": null,
      "max_width": null,
      "min_height": null,
      "min_width": null,
      "object_fit": null,
      "object_position": null,
      "order": null,
      "overflow": null,
      "overflow_x": null,
      "overflow_y": null,
      "padding": null,
      "right": null,
      "top": null,
      "visibility": null,
      "width": null
     }
    },
    "ab146035670a4ce298dc808fa95eaa41": {
     "model_module": "@jupyter-widgets/controls",
     "model_name": "DescriptionStyleModel",
     "state": {
      "_model_module": "@jupyter-widgets/controls",
      "_model_module_version": "1.5.0",
      "_model_name": "DescriptionStyleModel",
      "_view_count": null,
      "_view_module": "@jupyter-widgets/base",
      "_view_module_version": "1.2.0",
      "_view_name": "StyleView",
      "description_width": ""
     }
    },
    "abab927a38b74a088576048c8dac7a3d": {
     "model_module": "@jupyter-widgets/controls",
     "model_name": "DescriptionStyleModel",
     "state": {
      "_model_module": "@jupyter-widgets/controls",
      "_model_module_version": "1.5.0",
      "_model_name": "DescriptionStyleModel",
      "_view_count": null,
      "_view_module": "@jupyter-widgets/base",
      "_view_module_version": "1.2.0",
      "_view_name": "StyleView",
      "description_width": ""
     }
    },
    "afa6162c97f9450a8e547a1a234a8e59": {
     "model_module": "@jupyter-widgets/controls",
     "model_name": "DropdownModel",
     "state": {
      "_dom_classes": [],
      "_model_module": "@jupyter-widgets/controls",
      "_model_module_version": "1.5.0",
      "_model_name": "DropdownModel",
      "_options_labels": [
       "1",
       "5",
       "10",
       "15"
      ],
      "_view_count": null,
      "_view_module": "@jupyter-widgets/controls",
      "_view_module_version": "1.5.0",
      "_view_name": "DropdownView",
      "description": "numItems",
      "description_tooltip": null,
      "disabled": false,
      "index": 1,
      "layout": "IPY_MODEL_a1c7817ca218447b8210a28f59edebf9",
      "style": "IPY_MODEL_293eb2a73b7846c0837d1ac37ea3621b"
     }
    },
    "bc03f8f21acc4b57954f0a2ca49e4394": {
     "model_module": "@jupyter-widgets/controls",
     "model_name": "VBoxModel",
     "state": {
      "_dom_classes": [
       "widget-interact"
      ],
      "_model_module": "@jupyter-widgets/controls",
      "_model_module_version": "1.5.0",
      "_model_name": "VBoxModel",
      "_view_count": null,
      "_view_module": "@jupyter-widgets/controls",
      "_view_module_version": "1.5.0",
      "_view_name": "VBoxView",
      "box_style": "",
      "children": [
       "IPY_MODEL_675f87bcf3dc49de87171c936cd59e26",
       "IPY_MODEL_12e4ef3a96d14c3489e3858ea53bcd39",
       "IPY_MODEL_2ff2042934e948ebb244d88cd11b8751",
       "IPY_MODEL_86d09d66815d4d29bb44eb2fedabf6cd"
      ],
      "layout": "IPY_MODEL_183dca8fa3fa49f69917e6296e75ecd5"
     }
    },
    "be54e4587e994a52a8f69c66ce495eef": {
     "model_module": "@jupyter-widgets/controls",
     "model_name": "DropdownModel",
     "state": {
      "_dom_classes": [],
      "_model_module": "@jupyter-widgets/controls",
      "_model_module_version": "1.5.0",
      "_model_name": "DropdownModel",
      "_options_labels": [
       "userId",
       "movieId"
      ],
      "_view_count": null,
      "_view_module": "@jupyter-widgets/controls",
      "_view_module_version": "1.5.0",
      "_view_name": "DropdownView",
      "description": "id_type",
      "description_tooltip": null,
      "disabled": false,
      "index": 0,
      "layout": "IPY_MODEL_02c5c24075e5440dbf1121daa2a6e54b",
      "style": "IPY_MODEL_ab146035670a4ce298dc808fa95eaa41"
     }
    },
    "caa7d65af5a34c54bcd61e84b9dda40b": {
     "model_module": "@jupyter-widgets/controls",
     "model_name": "DescriptionStyleModel",
     "state": {
      "_model_module": "@jupyter-widgets/controls",
      "_model_module_version": "1.5.0",
      "_model_name": "DescriptionStyleModel",
      "_view_count": null,
      "_view_module": "@jupyter-widgets/base",
      "_view_module_version": "1.2.0",
      "_view_name": "StyleView",
      "description_width": ""
     }
    },
    "cd49811910f948bb8c70bd29f39430d2": {
     "model_module": "@jupyter-widgets/output",
     "model_name": "OutputModel",
     "state": {
      "_dom_classes": [],
      "_model_module": "@jupyter-widgets/output",
      "_model_module_version": "1.0.0",
      "_model_name": "OutputModel",
      "_view_count": null,
      "_view_module": "@jupyter-widgets/output",
      "_view_module_version": "1.0.0",
      "_view_name": "OutputView",
      "layout": "IPY_MODEL_92f7d5dccd5d4fca88189273b38b1344",
      "msg_id": "",
      "outputs": [
       {
        "metadata": {
         "tags": []
        },
        "output_type": "stream",
        "stream": "stdout",
        "text": "Movies recommended to User:575\n"
       },
       {
        "metadata": {
         "tags": []
        },
        "output_type": "display_data",
        "text/html": "<div>\n<style scoped>\n    .dataframe tbody tr th:only-of-type {\n        vertical-align: middle;\n    }\n\n    .dataframe tbody tr th {\n        vertical-align: top;\n    }\n\n    .dataframe thead th {\n        text-align: right;\n    }\n</style>\n<table border=\"1\" class=\"dataframe\">\n  <thead>\n    <tr style=\"text-align: right;\">\n      <th></th>\n      <th>movieId</th>\n      <th>Prediction</th>\n      <th>title</th>\n      <th>genres</th>\n    </tr>\n  </thead>\n  <tbody>\n    <tr>\n      <th>0</th>\n      <td>141718</td>\n      <td>5.715101</td>\n      <td>Deathgasm (2015)</td>\n      <td>Comedy|Horror</td>\n    </tr>\n    <tr>\n      <th>1</th>\n      <td>123</td>\n      <td>5.424976</td>\n      <td>Chungking Express (Chung Hing sam lam) (1994)</td>\n      <td>Drama|Mystery|Romance</td>\n    </tr>\n    <tr>\n      <th>2</th>\n      <td>5490</td>\n      <td>5.409215</td>\n      <td>The Big Bus (1976)</td>\n      <td>Action|Comedy</td>\n    </tr>\n    <tr>\n      <th>3</th>\n      <td>26171</td>\n      <td>5.407846</td>\n      <td>Play Time (a.k.a. Playtime) (1967)</td>\n      <td>Comedy</td>\n    </tr>\n    <tr>\n      <th>4</th>\n      <td>3494</td>\n      <td>5.363942</td>\n      <td>True Grit (1969)</td>\n      <td>Adventure|Drama|Western</td>\n    </tr>\n  </tbody>\n</table>\n</div>",
        "text/plain": "   movieId  ...                   genres\n0   141718  ...            Comedy|Horror\n1      123  ...    Drama|Mystery|Romance\n2     5490  ...            Action|Comedy\n3    26171  ...                   Comedy\n4     3494  ...  Adventure|Drama|Western\n\n[5 rows x 4 columns]"
       }
      ]
     }
    },
    "d192185736874255bde907ef2778abae": {
     "model_module": "@jupyter-widgets/base",
     "model_name": "LayoutModel",
     "state": {
      "_model_module": "@jupyter-widgets/base",
      "_model_module_version": "1.2.0",
      "_model_name": "LayoutModel",
      "_view_count": null,
      "_view_module": "@jupyter-widgets/base",
      "_view_module_version": "1.2.0",
      "_view_name": "LayoutView",
      "align_content": null,
      "align_items": null,
      "align_self": null,
      "border": null,
      "bottom": null,
      "display": null,
      "flex": null,
      "flex_flow": null,
      "grid_area": null,
      "grid_auto_columns": null,
      "grid_auto_flow": null,
      "grid_auto_rows": null,
      "grid_column": null,
      "grid_gap": null,
      "grid_row": null,
      "grid_template_areas": null,
      "grid_template_columns": null,
      "grid_template_rows": null,
      "height": null,
      "justify_content": null,
      "justify_items": null,
      "left": null,
      "margin": null,
      "max_height": null,
      "max_width": null,
      "min_height": null,
      "min_width": null,
      "object_fit": null,
      "object_position": null,
      "order": null,
      "overflow": null,
      "overflow_x": null,
      "overflow_y": null,
      "padding": null,
      "right": null,
      "top": null,
      "visibility": null,
      "width": null
     }
    },
    "d244a832e4ff45cf94c42fa8d395b372": {
     "model_module": "@jupyter-widgets/base",
     "model_name": "LayoutModel",
     "state": {
      "_model_module": "@jupyter-widgets/base",
      "_model_module_version": "1.2.0",
      "_model_name": "LayoutModel",
      "_view_count": null,
      "_view_module": "@jupyter-widgets/base",
      "_view_module_version": "1.2.0",
      "_view_name": "LayoutView",
      "align_content": null,
      "align_items": null,
      "align_self": null,
      "border": null,
      "bottom": null,
      "display": null,
      "flex": null,
      "flex_flow": null,
      "grid_area": null,
      "grid_auto_columns": null,
      "grid_auto_flow": null,
      "grid_auto_rows": null,
      "grid_column": null,
      "grid_gap": null,
      "grid_row": null,
      "grid_template_areas": null,
      "grid_template_columns": null,
      "grid_template_rows": null,
      "height": null,
      "justify_content": null,
      "justify_items": null,
      "left": null,
      "margin": null,
      "max_height": null,
      "max_width": null,
      "min_height": null,
      "min_width": null,
      "object_fit": null,
      "object_position": null,
      "order": null,
      "overflow": null,
      "overflow_x": null,
      "overflow_y": null,
      "padding": null,
      "right": null,
      "top": null,
      "visibility": null,
      "width": null
     }
    },
    "d6fbc61194ee41fd8cd0f3b1ed77cbad": {
     "model_module": "@jupyter-widgets/controls",
     "model_name": "DescriptionStyleModel",
     "state": {
      "_model_module": "@jupyter-widgets/controls",
      "_model_module_version": "1.5.0",
      "_model_name": "DescriptionStyleModel",
      "_view_count": null,
      "_view_module": "@jupyter-widgets/base",
      "_view_module_version": "1.2.0",
      "_view_name": "StyleView",
      "description_width": ""
     }
    },
    "f14ca08bd50e48edb1b5a836c41127f4": {
     "model_module": "@jupyter-widgets/base",
     "model_name": "LayoutModel",
     "state": {
      "_model_module": "@jupyter-widgets/base",
      "_model_module_version": "1.2.0",
      "_model_name": "LayoutModel",
      "_view_count": null,
      "_view_module": "@jupyter-widgets/base",
      "_view_module_version": "1.2.0",
      "_view_name": "LayoutView",
      "align_content": null,
      "align_items": null,
      "align_self": null,
      "border": null,
      "bottom": null,
      "display": null,
      "flex": null,
      "flex_flow": null,
      "grid_area": null,
      "grid_auto_columns": null,
      "grid_auto_flow": null,
      "grid_auto_rows": null,
      "grid_column": null,
      "grid_gap": null,
      "grid_row": null,
      "grid_template_areas": null,
      "grid_template_columns": null,
      "grid_template_rows": null,
      "height": null,
      "justify_content": null,
      "justify_items": null,
      "left": null,
      "margin": null,
      "max_height": null,
      "max_width": null,
      "min_height": null,
      "min_width": null,
      "object_fit": null,
      "object_position": null,
      "order": null,
      "overflow": null,
      "overflow_x": null,
      "overflow_y": null,
      "padding": null,
      "right": null,
      "top": null,
      "visibility": null,
      "width": null
     }
    },
    "f954566c893c4d67a0b11f7fe0067894": {
     "model_module": "@jupyter-widgets/base",
     "model_name": "LayoutModel",
     "state": {
      "_model_module": "@jupyter-widgets/base",
      "_model_module_version": "1.2.0",
      "_model_name": "LayoutModel",
      "_view_count": null,
      "_view_module": "@jupyter-widgets/base",
      "_view_module_version": "1.2.0",
      "_view_name": "LayoutView",
      "align_content": null,
      "align_items": null,
      "align_self": null,
      "border": null,
      "bottom": null,
      "display": null,
      "flex": null,
      "flex_flow": null,
      "grid_area": null,
      "grid_auto_columns": null,
      "grid_auto_flow": null,
      "grid_auto_rows": null,
      "grid_column": null,
      "grid_gap": null,
      "grid_row": null,
      "grid_template_areas": null,
      "grid_template_columns": null,
      "grid_template_rows": null,
      "height": null,
      "justify_content": null,
      "justify_items": null,
      "left": null,
      "margin": null,
      "max_height": null,
      "max_width": null,
      "min_height": null,
      "min_width": null,
      "object_fit": null,
      "object_position": null,
      "order": null,
      "overflow": null,
      "overflow_x": null,
      "overflow_y": null,
      "padding": null,
      "right": null,
      "top": null,
      "visibility": null,
      "width": null
     }
    }
   }
  }
 },
 "nbformat": 4,
 "nbformat_minor": 1
}
